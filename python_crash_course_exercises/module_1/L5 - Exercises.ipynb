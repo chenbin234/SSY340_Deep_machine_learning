{
 "cells": [
  {
   "cell_type": "markdown",
   "metadata": {},
   "source": [
    "### Lecture 5 - Exercises\n",
    "---"
   ]
  },
  {
   "cell_type": "markdown",
   "metadata": {},
   "source": [
    "1\\. Ask the user to input an integer, then print whether that number is even or odd."
   ]
  },
  {
   "cell_type": "code",
   "execution_count": 2,
   "metadata": {},
   "outputs": [
    {
     "name": "stdout",
     "output_type": "stream",
     "text": [
      "The integer you input is: 12.\n"
     ]
    }
   ],
   "source": [
    "a = input('Please input an integer')\n",
    "print('The integer you input is: {}.'.format(a))"
   ]
  },
  {
   "cell_type": "markdown",
   "metadata": {},
   "source": [
    "2\\. Approximate $tan^{-1}(x)$, where $x$ is input by the user, using the following approximation: $tan^{-1}(x) \\approx x-\\frac{x^3}{3}+\\frac{x^5}{5}+...$ with 100 terms."
   ]
  },
  {
   "cell_type": "code",
   "execution_count": 9,
   "metadata": {},
   "outputs": [
    {
     "name": "stdout",
     "output_type": "stream",
     "text": [
      "Approximation of arctan(0.5) is 0.46364760900080587\n"
     ]
    }
   ],
   "source": [
    "def arctan_approximation(x, num_terms):\n",
    "    result = 0\n",
    "    sign = 1\n",
    "\n",
    "    for n in range(1, num_terms*2, 2):\n",
    "        term = sign * (x**n) / n\n",
    "        result += term\n",
    "        sign *= -1\n",
    "\n",
    "    return result\n",
    "\n",
    "def main():\n",
    "\n",
    "    x = input('Please input the number of x:')\n",
    "    approximation = arctan_approximation(float(x), 100)\n",
    "\n",
    "    print(f'Approximation of arctan({x}) is {approximation}')\n",
    "\n",
    "if __name__ == \"__main__\":\n",
    "    main()"
   ]
  },
  {
   "cell_type": "markdown",
   "metadata": {},
   "source": [
    "3\\. Find the smallest number greater than 1 that divides an integer input by the user."
   ]
  },
  {
   "cell_type": "code",
   "execution_count": 14,
   "metadata": {},
   "outputs": [
    {
     "name": "stdout",
     "output_type": "stream",
     "text": [
      "The smallest divisor of 351 greater than 1 is 3.\n"
     ]
    }
   ],
   "source": [
    "def smallest_divisor(n):\n",
    "\n",
    "    divisor = 2\n",
    "\n",
    "    while n % divisor != 0:\n",
    "        divisor += 1\n",
    "\n",
    "    return divisor\n",
    "\n",
    "def main():\n",
    "    try:\n",
    "        number = int(input('Please input an integer:'))\n",
    "\n",
    "        if number <= 1:\n",
    "            print('Please input an integer greater than 1.')\n",
    "        else:\n",
    "            divisor = smallest_divisor(number)\n",
    "            print(f'The smallest divisor of {number} greater than 1 is {divisor}.')\n",
    "\n",
    "\n",
    "    except ValueError:\n",
    "        print('Please input an valid integer.')\n",
    "\n",
    "\n",
    "if __name__ == \"__main__\":\n",
    "    main()"
   ]
  },
  {
   "cell_type": "markdown",
   "metadata": {},
   "source": [
    "4\\. Compute the 1000th prime number (1 is **not** prime ;) )."
   ]
  },
  {
   "cell_type": "code",
   "execution_count": 16,
   "metadata": {},
   "outputs": [
    {
     "name": "stdout",
     "output_type": "stream",
     "text": [
      "The 1000th prime number is 7919.\n"
     ]
    }
   ],
   "source": [
    "def is_prime(num):\n",
    "\n",
    "    if num <= 1:\n",
    "        return False\n",
    "    if num <= 3:\n",
    "        return True\n",
    "    if num % 2 == 0 or num % 3 == 0:\n",
    "        return False\n",
    "    \n",
    "    i = 5\n",
    "    while i * i <= num:\n",
    "        if num % i == 0 or num % (i + 2) == 0:\n",
    "            return False\n",
    "        i += 6\n",
    "    \n",
    "    return True\n",
    "\n",
    "def find_1000th_prime():\n",
    "    count = 0\n",
    "    num = 1\n",
    "\n",
    "    while count < 1000:\n",
    "        num += 1\n",
    "        if is_prime(num):\n",
    "            count += 1\n",
    "    return num\n",
    "\n",
    "def main():\n",
    "    throusand_prime = find_1000th_prime()\n",
    "    print(f\"The 1000th prime number is {throusand_prime}.\")\n",
    "\n",
    "if __name__ == \"__main__\":\n",
    "    main()"
   ]
  },
  {
   "cell_type": "markdown",
   "metadata": {},
   "source": [
    "5\\. Create a list with the first 100 cubes (i.e. 1^3, 2^3, 3^3,...)"
   ]
  },
  {
   "cell_type": "code",
   "execution_count": 17,
   "metadata": {
    "scrolled": true
   },
   "outputs": [
    {
     "data": {
      "text/plain": [
       "[1,\n",
       " 8,\n",
       " 27,\n",
       " 64,\n",
       " 125,\n",
       " 216,\n",
       " 343,\n",
       " 512,\n",
       " 729,\n",
       " 1000,\n",
       " 1331,\n",
       " 1728,\n",
       " 2197,\n",
       " 2744,\n",
       " 3375,\n",
       " 4096,\n",
       " 4913,\n",
       " 5832,\n",
       " 6859,\n",
       " 8000,\n",
       " 9261,\n",
       " 10648,\n",
       " 12167,\n",
       " 13824,\n",
       " 15625,\n",
       " 17576,\n",
       " 19683,\n",
       " 21952,\n",
       " 24389,\n",
       " 27000,\n",
       " 29791,\n",
       " 32768,\n",
       " 35937,\n",
       " 39304,\n",
       " 42875,\n",
       " 46656,\n",
       " 50653,\n",
       " 54872,\n",
       " 59319,\n",
       " 64000,\n",
       " 68921,\n",
       " 74088,\n",
       " 79507,\n",
       " 85184,\n",
       " 91125,\n",
       " 97336,\n",
       " 103823,\n",
       " 110592,\n",
       " 117649,\n",
       " 125000,\n",
       " 132651,\n",
       " 140608,\n",
       " 148877,\n",
       " 157464,\n",
       " 166375,\n",
       " 175616,\n",
       " 185193,\n",
       " 195112,\n",
       " 205379,\n",
       " 216000,\n",
       " 226981,\n",
       " 238328,\n",
       " 250047,\n",
       " 262144,\n",
       " 274625,\n",
       " 287496,\n",
       " 300763,\n",
       " 314432,\n",
       " 328509,\n",
       " 343000,\n",
       " 357911,\n",
       " 373248,\n",
       " 389017,\n",
       " 405224,\n",
       " 421875,\n",
       " 438976,\n",
       " 456533,\n",
       " 474552,\n",
       " 493039,\n",
       " 512000,\n",
       " 531441,\n",
       " 551368,\n",
       " 571787,\n",
       " 592704,\n",
       " 614125,\n",
       " 636056,\n",
       " 658503,\n",
       " 681472,\n",
       " 704969,\n",
       " 729000,\n",
       " 753571,\n",
       " 778688,\n",
       " 804357,\n",
       " 830584,\n",
       " 857375,\n",
       " 884736,\n",
       " 912673,\n",
       " 941192,\n",
       " 970299,\n",
       " 1000000]"
      ]
     },
     "execution_count": 17,
     "metadata": {},
     "output_type": "execute_result"
    }
   ],
   "source": [
    "list1 = [x**3 for x in range(1,101,1)]\n",
    "list1"
   ]
  },
  {
   "cell_type": "markdown",
   "metadata": {},
   "source": [
    "6\\. Convert all of the elements of this list to strings, save it in the same list."
   ]
  },
  {
   "cell_type": "code",
   "execution_count": 21,
   "metadata": {
    "scrolled": true
   },
   "outputs": [
    {
     "data": {
      "text/plain": [
       "['1',\n",
       " '8',\n",
       " '27',\n",
       " '64',\n",
       " '125',\n",
       " '216',\n",
       " '343',\n",
       " '512',\n",
       " '729',\n",
       " '1000',\n",
       " '1331',\n",
       " '1728',\n",
       " '2197',\n",
       " '2744',\n",
       " '3375',\n",
       " '4096',\n",
       " '4913',\n",
       " '5832',\n",
       " '6859',\n",
       " '8000',\n",
       " '9261',\n",
       " '10648',\n",
       " '12167',\n",
       " '13824',\n",
       " '15625',\n",
       " '17576',\n",
       " '19683',\n",
       " '21952',\n",
       " '24389',\n",
       " '27000',\n",
       " '29791',\n",
       " '32768',\n",
       " '35937',\n",
       " '39304',\n",
       " '42875',\n",
       " '46656',\n",
       " '50653',\n",
       " '54872',\n",
       " '59319',\n",
       " '64000',\n",
       " '68921',\n",
       " '74088',\n",
       " '79507',\n",
       " '85184',\n",
       " '91125',\n",
       " '97336',\n",
       " '103823',\n",
       " '110592',\n",
       " '117649',\n",
       " '125000',\n",
       " '132651',\n",
       " '140608',\n",
       " '148877',\n",
       " '157464',\n",
       " '166375',\n",
       " '175616',\n",
       " '185193',\n",
       " '195112',\n",
       " '205379',\n",
       " '216000',\n",
       " '226981',\n",
       " '238328',\n",
       " '250047',\n",
       " '262144',\n",
       " '274625',\n",
       " '287496',\n",
       " '300763',\n",
       " '314432',\n",
       " '328509',\n",
       " '343000',\n",
       " '357911',\n",
       " '373248',\n",
       " '389017',\n",
       " '405224',\n",
       " '421875',\n",
       " '438976',\n",
       " '456533',\n",
       " '474552',\n",
       " '493039',\n",
       " '512000',\n",
       " '531441',\n",
       " '551368',\n",
       " '571787',\n",
       " '592704',\n",
       " '614125',\n",
       " '636056',\n",
       " '658503',\n",
       " '681472',\n",
       " '704969',\n",
       " '729000',\n",
       " '753571',\n",
       " '778688',\n",
       " '804357',\n",
       " '830584',\n",
       " '857375',\n",
       " '884736',\n",
       " '912673',\n",
       " '941192',\n",
       " '970299',\n",
       " '1000000']"
      ]
     },
     "execution_count": 21,
     "metadata": {},
     "output_type": "execute_result"
    }
   ],
   "source": [
    "list1 = [str(num) for num in list1]\n",
    "list1"
   ]
  }
 ],
 "metadata": {
  "kernelspec": {
   "display_name": "Python 3",
   "language": "python",
   "name": "python3"
  },
  "language_info": {
   "codemirror_mode": {
    "name": "ipython",
    "version": 3
   },
   "file_extension": ".py",
   "mimetype": "text/x-python",
   "name": "python",
   "nbconvert_exporter": "python",
   "pygments_lexer": "ipython3",
   "version": "3.11.4"
  }
 },
 "nbformat": 4,
 "nbformat_minor": 2
}

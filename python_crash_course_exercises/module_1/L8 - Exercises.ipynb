{
 "cells": [
  {
   "cell_type": "markdown",
   "metadata": {},
   "source": [
    "### Lecture 8 - Exercises\n",
    "---"
   ]
  },
  {
   "cell_type": "markdown",
   "metadata": {},
   "source": [
    "1\\. Create a class called `Animal`. \n",
    "\n",
    "Attributes:\n",
    "- `name`;\n",
    "- `age`.\n",
    "\n",
    "Methods:\n",
    "- The constructor, which initializes all of the attributes of the instance with user-supplied values;\n",
    "- `talk`: does nothing;\n",
    "- `sleep`: prints `Zzzzz...`."
   ]
  },
  {
   "cell_type": "code",
   "execution_count": 1,
   "metadata": {},
   "outputs": [],
   "source": [
    "class Animal():\n",
    "\n",
    "    def __init__(self, name, age):\n",
    "        self.name = name\n",
    "        self.age = age\n",
    "\n",
    "    def talk(self):\n",
    "        pass\n",
    "    \n",
    "    def sleep(self):\n",
    "        print('Zzzzz...')"
   ]
  },
  {
   "cell_type": "markdown",
   "metadata": {},
   "source": [
    "2\\. Create a class called `Human`, which inherits from the `Animal` class. \n",
    "\n",
    "Attributes:\n",
    "- `name`\n",
    "- `age`\n",
    "- `address`\n",
    "\n",
    "Methods\n",
    "- Overwrite the `talk` method to make the instance greet the user with all of their attribute values."
   ]
  },
  {
   "cell_type": "code",
   "execution_count": 3,
   "metadata": {},
   "outputs": [],
   "source": [
    "class Human(Animal):\n",
    "\n",
    "    def __init__(self, name, age, address):\n",
    "        super().__init__(name, age)\n",
    "        self.address = address\n",
    "\n",
    "    def talk(self):\n",
    "        print(f\"Hi, My name is {self.name}, I am {self.age} years old and live in {self.address}.\")"
   ]
  },
  {
   "cell_type": "markdown",
   "metadata": {},
   "source": [
    "3\\. Create a class called `Engineer`, which inherits from `Human`.\n",
    "\n",
    "Attributes:\n",
    "- All `Human` attributes;\n",
    "- `salary`\n",
    "\n",
    "Methods:\n",
    "- The `talk()` method should first call the `Human` talk, then print a new line saying `I'm also an engineer, btw.`"
   ]
  },
  {
   "cell_type": "code",
   "execution_count": 4,
   "metadata": {},
   "outputs": [],
   "source": [
    "class Engineer(Human):\n",
    "\n",
    "    def __init__(self, name, age, address, salary):\n",
    "        super().__init__(name, age, address)\n",
    "        self.salary = salary\n",
    "\n",
    "    def talk(self):\n",
    "        super().talk()\n",
    "        print(\"I am also an engineer, btw\")\n"
   ]
  },
  {
   "cell_type": "markdown",
   "metadata": {},
   "source": [
    "4\\. Create an engineer and call its `talk()` method."
   ]
  },
  {
   "cell_type": "code",
   "execution_count": 5,
   "metadata": {},
   "outputs": [
    {
     "name": "stdout",
     "output_type": "stream",
     "text": [
      "Hi, My name is Joshua, I am 28 years old and live in Hogsbo.\n",
      "I am also an engineer, btw\n"
     ]
    }
   ],
   "source": [
    "Engineer1 = Engineer('Joshua', 28, 'Hogsbo', 40)\n",
    "Engineer1.talk()"
   ]
  },
  {
   "cell_type": "markdown",
   "metadata": {},
   "source": [
    "---"
   ]
  }
 ],
 "metadata": {
  "kernelspec": {
   "display_name": "Python 3",
   "language": "python",
   "name": "python3"
  },
  "language_info": {
   "codemirror_mode": {
    "name": "ipython",
    "version": 3
   },
   "file_extension": ".py",
   "mimetype": "text/x-python",
   "name": "python",
   "nbconvert_exporter": "python",
   "pygments_lexer": "ipython3",
   "version": "3.11.4"
  }
 },
 "nbformat": 4,
 "nbformat_minor": 2
}

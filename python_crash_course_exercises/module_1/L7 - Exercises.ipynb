{
 "cells": [
  {
   "cell_type": "markdown",
   "metadata": {},
   "source": [
    "### Lecture 7 - Exercises\n",
    "---"
   ]
  },
  {
   "cell_type": "markdown",
   "metadata": {},
   "source": [
    "1\\. Create a class called `Human`. It should have the attributes `age`, `name`, `sex`, and `address`. It should have a constructor, which initializes all of its attributes with user-supplied values, and a method called `greet`, which prints a greeting message to the console informing the user of all the object's attributes."
   ]
  },
  {
   "cell_type": "code",
   "execution_count": 7,
   "metadata": {},
   "outputs": [],
   "source": [
    "# Create your class here\n",
    "class Human():\n",
    "    def __init__(self, age, name, sex, address):\n",
    "        self.age = age\n",
    "        self.name = name\n",
    "        self.sex = sex\n",
    "        self.address = address\n",
    "    \n",
    "    def greet(self):\n",
    "        print(f'Hi! My name is {self.name}. I am a {self.age} years old {self.sex} and live in {self.address}.')     "
   ]
  },
  {
   "cell_type": "code",
   "execution_count": 8,
   "metadata": {},
   "outputs": [
    {
     "name": "stdout",
     "output_type": "stream",
     "text": [
      "Hi! My name is Jonas. I am a 13 years old man and live in Indigo Street 41B.\n"
     ]
    }
   ],
   "source": [
    "myHuman = Human(13, 'Jonas', 'man', 'Indigo Street 41B')\n",
    "myHuman.greet()"
   ]
  },
  {
   "cell_type": "code",
   "execution_count": 16,
   "metadata": {},
   "outputs": [
    {
     "name": "stdout",
     "output_type": "stream",
     "text": [
      "Hi! My name is Jonas. I am a 13 years old man and live in Indigo Street 41B.\n"
     ]
    }
   ],
   "source": [
    "# expected output when running the above cell"
   ]
  },
  {
   "cell_type": "markdown",
   "metadata": {},
   "source": [
    "2\\. Create a class called `Family`. It should have the attributes `Father` and `Mother` (which will be `Human`s), and a method called `family_greet`, which prints a message to the console with all of the details of the family."
   ]
  },
  {
   "cell_type": "code",
   "execution_count": 11,
   "metadata": {},
   "outputs": [],
   "source": [
    "# Create your class here\n",
    "class Family():\n",
    "    \n",
    "    def __init__(self, father, mother):\n",
    "        # super().__init__(age, name, sex, address)\n",
    "        self.father = father\n",
    "        self.mother = mother\n",
    "\n",
    "    def family_greet(self):\n",
    "        \n",
    "        self.father.greet()\n",
    "        self.mother.greet()"
   ]
  },
  {
   "cell_type": "code",
   "execution_count": 13,
   "metadata": {},
   "outputs": [
    {
     "name": "stdout",
     "output_type": "stream",
     "text": [
      "Hi! My name is Bill. I am a 30 years old man and live in Indigo street 23C.\n",
      "Hi! My name is Claire. I am a 30 years old woman and live in Indigo street 23C.\n"
     ]
    }
   ],
   "source": [
    "father = Human(30, 'Bill', 'man', 'Indigo street 23C')\n",
    "mother = Human(30, 'Claire', 'woman', 'Indigo street 23C')\n",
    "son = Human(7, 'Jonas', 'man', 'Indigo street 23C')\n",
    "\n",
    "family = Family(father, mother)\n",
    "family.family_greet()"
   ]
  },
  {
   "cell_type": "code",
   "execution_count": 53,
   "metadata": {},
   "outputs": [
    {
     "name": "stdout",
     "output_type": "stream",
     "text": [
      "Hi! My name is Bill. I am a 30 years old man and live in Indigo street 23C.\n",
      "Hi! My name is Claire. I am a 30 years old woman and live in Indigo street 23C.\n"
     ]
    }
   ],
   "source": [
    "# expected output when running the above cell"
   ]
  },
  {
   "cell_type": "markdown",
   "metadata": {},
   "source": [
    "---"
   ]
  }
 ],
 "metadata": {
  "kernelspec": {
   "display_name": "Python 3",
   "language": "python",
   "name": "python3"
  },
  "language_info": {
   "codemirror_mode": {
    "name": "ipython",
    "version": 3
   },
   "file_extension": ".py",
   "mimetype": "text/x-python",
   "name": "python",
   "nbconvert_exporter": "python",
   "pygments_lexer": "ipython3",
   "version": "3.11.4"
  }
 },
 "nbformat": 4,
 "nbformat_minor": 2
}

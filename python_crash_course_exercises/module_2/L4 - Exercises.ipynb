{
 "cells": [
  {
   "cell_type": "markdown",
   "metadata": {},
   "source": [
    "### L4 - Exercises\n",
    "---"
   ]
  },
  {
   "cell_type": "markdown",
   "metadata": {},
   "source": [
    "1\\. Generate a 4x3x2 `ndarray` with random integer elements, between -10 and 10. Call it `a`."
   ]
  },
  {
   "cell_type": "code",
   "execution_count": 1,
   "metadata": {},
   "outputs": [
    {
     "data": {
      "text/plain": [
       "array([[[  6,   2],\n",
       "        [ -7,  -6],\n",
       "        [  3,   5]],\n",
       "\n",
       "       [[ -6,   7],\n",
       "        [  0,   4],\n",
       "        [ 10,   4]],\n",
       "\n",
       "       [[ -1,  -6],\n",
       "        [  1,   4],\n",
       "        [ -7,  -6]],\n",
       "\n",
       "       [[-10,   8],\n",
       "        [  6,  -8],\n",
       "        [ -9,  -6]]])"
      ]
     },
     "execution_count": 1,
     "metadata": {},
     "output_type": "execute_result"
    }
   ],
   "source": [
    "import numpy as np\n",
    "\n",
    "a = np.random.randint(-10, 11, (4, 3, 2))\n",
    "a"
   ]
  },
  {
   "cell_type": "markdown",
   "metadata": {},
   "source": [
    "2\\. Choose 5 elements in `a` randomly and change them to 0.\n",
    "\n",
    "*Hint*: Take a look at [this](https://docs.scipy.org/doc/numpy/reference/generated/numpy.ndarray.flat.html#numpy.ndarray.flat)."
   ]
  },
  {
   "cell_type": "code",
   "execution_count": 2,
   "metadata": {},
   "outputs": [
    {
     "data": {
      "text/plain": [
       "array([18,  8,  1,  0, 23])"
      ]
     },
     "execution_count": 2,
     "metadata": {},
     "output_type": "execute_result"
    }
   ],
   "source": [
    "indices_to_change = np.random.choice(a.size, 5, replace=False)\n",
    "indices_to_change"
   ]
  },
  {
   "cell_type": "code",
   "execution_count": 3,
   "metadata": {},
   "outputs": [
    {
     "data": {
      "text/plain": [
       "array([[[ 0,  0],\n",
       "        [-7, -6],\n",
       "        [ 3,  5]],\n",
       "\n",
       "       [[-6,  7],\n",
       "        [ 0,  4],\n",
       "        [10,  4]],\n",
       "\n",
       "       [[-1, -6],\n",
       "        [ 1,  4],\n",
       "        [-7, -6]],\n",
       "\n",
       "       [[ 0,  8],\n",
       "        [ 6, -8],\n",
       "        [-9,  0]]])"
      ]
     },
     "execution_count": 3,
     "metadata": {},
     "output_type": "execute_result"
    }
   ],
   "source": [
    "a.flat[indices_to_change] = 0\n",
    "a"
   ]
  },
  {
   "cell_type": "markdown",
   "metadata": {},
   "source": [
    "3\\. Transform the operation described in step 2 into a function, that takes an `ndarray` as input and changes 5 random elements to zero."
   ]
  },
  {
   "cell_type": "code",
   "execution_count": 4,
   "metadata": {},
   "outputs": [],
   "source": [
    "def change_elements(a):\n",
    "\n",
    "    indices_to_change = np.random.choice(a.size, 5, replace=False)\n",
    "    a.flat[indices_to_change] = 0\n",
    "\n",
    "    return a"
   ]
  },
  {
   "cell_type": "markdown",
   "metadata": {},
   "source": [
    "4\\. Starting from a fresh random array computed in problem 1 (i.e. re-run your solution to problem 1), apply the function you implemented repeatedly until all elements have been turned to zero. How many applications were necessary?\n",
    "\n",
    "*Hint*: [1](https://docs.scipy.org/doc/numpy/reference/generated/numpy.array_equal.html)."
   ]
  },
  {
   "cell_type": "code",
   "execution_count": 5,
   "metadata": {},
   "outputs": [
    {
     "data": {
      "text/plain": [
       "17"
      ]
     },
     "execution_count": 5,
     "metadata": {},
     "output_type": "execute_result"
    }
   ],
   "source": [
    "a = np.random.randint(-10, 11, (4, 3, 2))\n",
    "\n",
    "def all_zeros_count(a):\n",
    "    count = 0\n",
    "    while not (np.array_equal(a, np.zeros((4,3,2), dtype=int), equal_nan=False)):\n",
    "        a = change_elements(a)\n",
    "        count += 1\n",
    "\n",
    "    return count\n",
    "\n",
    "counts = all_zeros_count(a)\n",
    "counts"
   ]
  },
  {
   "cell_type": "markdown",
   "metadata": {},
   "source": [
    "5\\. Approximate the expected number of times you would have to apply the function in step 3 to an array created in step 1 so as to end up with an array filled with zeros."
   ]
  },
  {
   "cell_type": "code",
   "execution_count": 6,
   "metadata": {},
   "outputs": [
    {
     "data": {
      "text/plain": [
       "16.18"
      ]
     },
     "execution_count": 6,
     "metadata": {},
     "output_type": "execute_result"
    }
   ],
   "source": [
    "sum = 0\n",
    "average_count = 0\n",
    "\n",
    "for i in range(50):\n",
    "    a = np.random.randint(-10, 11, (4, 3, 2))\n",
    "    counts = all_zeros_count(a)\n",
    "    # print(counts)\n",
    "    sum += counts\n",
    "\n",
    "\n",
    "average_count = sum / 50\n",
    "average_count"
   ]
  },
  {
   "cell_type": "markdown",
   "metadata": {},
   "source": [
    "6\\. Create a 2x3x2 `ndarray` with elements sampled from a multivariate normal distribution with parameters mean $=[1,2,3,4]$, and covariance $\\begin{bmatrix}\n",
    "1 & -1 & 1\\\\ \n",
    "-1 & 1 & -1\\\\ \n",
    "1 & -1 & 1\n",
    "\\end{bmatrix}$. Make sure that whenever this cell is re-run, you still get the same matrix."
   ]
  },
  {
   "cell_type": "code",
   "execution_count": 17,
   "metadata": {},
   "outputs": [
    {
     "name": "stdout",
     "output_type": "stream",
     "text": [
      "(2, 3, 2, 3)\n",
      "[[[[ 0.50328585  2.49671415  2.50328585]\n",
      "   [-0.52302986  3.52302986  1.47697014]]\n",
      "\n",
      "  [[-0.57921282  3.57921281  1.42078719]\n",
      "   [ 0.45743996  2.54256004  2.45743996]]\n",
      "\n",
      "  [[ 0.75803774  2.24196228  2.75803772]\n",
      "   [ 1.56228753  1.43771247  3.56228753]]]\n",
      "\n",
      "\n",
      " [[[ 1.90802408  1.09197593  3.90802407]\n",
      "   [ 1.2257763   1.7742237   3.2257763 ]]\n",
      "\n",
      "  [[ 1.54438272  1.45561728  3.54438272]\n",
      "   [ 0.62430198  2.37569802  2.62430198]]\n",
      "\n",
      "  [[ 1.6017066   1.39829338  3.60170662]\n",
      "   [ 2.05771093  0.94228907  4.05771093]]]]\n"
     ]
    }
   ],
   "source": [
    "# Set the seed to get reproducible results\n",
    "np.random.seed(42)\n",
    "\n",
    "mean = np.array([1, 2, 3])\n",
    "covariance = np.array([[1, -1, 1],\n",
    "                       [-1, 1, -1],\n",
    "                       [1, -1, 1]])\n",
    "\n",
    "a = np.random.multivariate_normal(mean, covariance, (2, 3, 2))\n",
    "\n",
    "print(a.shape)\n",
    "print(a)"
   ]
  }
 ],
 "metadata": {
  "kernelspec": {
   "display_name": "Python 3",
   "language": "python",
   "name": "python3"
  },
  "language_info": {
   "codemirror_mode": {
    "name": "ipython",
    "version": 3
   },
   "file_extension": ".py",
   "mimetype": "text/x-python",
   "name": "python",
   "nbconvert_exporter": "python",
   "pygments_lexer": "ipython3",
   "version": "3.11.4"
  }
 },
 "nbformat": 4,
 "nbformat_minor": 2
}

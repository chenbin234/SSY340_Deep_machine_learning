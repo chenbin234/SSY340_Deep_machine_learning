{
 "cells": [
  {
   "cell_type": "code",
   "execution_count": 1,
   "metadata": {
    "colab": {
     "base_uri": "https://localhost:8080/"
    },
    "id": "zdUd1-SVvoWp",
    "outputId": "4a3c8936-fd23-4f16-9e5f-d0d4abaedbaa"
   },
   "outputs": [
    {
     "data": {
      "text/plain": [
       "'\\nUNCOMMENT FOR RUNNING IN COLAB ENVIRONMENT\\n'"
      ]
     },
     "execution_count": 1,
     "metadata": {},
     "output_type": "execute_result"
    }
   ],
   "source": [
    "\"\"\"\n",
    "UNCOMMENT FOR RUNNING IN COLAB ENVIRONMENT\n",
    "\"\"\"\n",
    "# from google.colab import drive\n",
    "# drive.mount('/content/drive')"
   ]
  },
  {
   "cell_type": "code",
   "execution_count": 2,
   "metadata": {
    "id": "Mls0lxnJvkp5"
   },
   "outputs": [],
   "source": [
    "# importing libraries\n",
    "\n",
    "import torch\n",
    "import torch.nn as nn\n",
    "import torch.nn.functional as F\n",
    "from torch.autograd import Variable\n",
    "from torch.utils.data import Dataset\n",
    "from torch.nn.functional import softmax\n",
    "\n",
    "import os\n",
    "import pandas as pd\n",
    "import numpy as np\n",
    "import random\n",
    "import scipy.spatial\n",
    "import scipy.io\n",
    "from copy import deepcopy\n",
    "import math\n",
    "from tqdm import tqdm \n",
    "import matplotlib.pyplot as plt"
   ]
  },
  {
   "cell_type": "code",
   "execution_count": 3,
   "metadata": {
    "id": "222TSJ-uvkp9"
   },
   "outputs": [],
   "source": [
    "class TFDataset(Dataset):\n",
    "    \"\"\"\n",
    "    Class to create the torch Dataset object\n",
    "    \"\"\"\n",
    "\n",
    "    def __init__(self,data,name,mean,std):\n",
    "        super(TFDataset,self).__init__()\n",
    "\n",
    "        self.data=data  # dictionary\n",
    "        self.name=name  # string\n",
    "\n",
    "        self.mean= mean # numpy (4,)\n",
    "        self.std = std  # numpy (4,)\n",
    "\n",
    "    def __len__(self):\n",
    "        return self.data['src'].shape[0]\n",
    "\n",
    "\n",
    "    def __getitem__(self,index):\n",
    "        return {'src':torch.Tensor(self.data['src'][index]),\n",
    "                'trg':torch.Tensor(self.data['trg'][index]),\n",
    "                'frames':self.data['frames'][index],\n",
    "                'seq_start':self.data['seq_start'][index],\n",
    "                'dataset':self.data['dataset'][index],\n",
    "                'peds': self.data['peds'][index],\n",
    "                }\n",
    "\n",
    "\n",
    "def create_dataset(dataset_folder, dataset_name, val_size, gt, horizon, delim=\"\\t\", train=True, eval=False, verbose=False):\n",
    "    \"\"\"\n",
    "    Function to import .txt file and create the torch Dataset.\n",
    "    The function splits the dataset into train, val and test.\n",
    "\n",
    "    INPUT:\n",
    "    dataset_folder - (str) path to the folder containing the dataset\n",
    "    dataset_name - (str) name of the dataset\n",
    "    val_size - (int) number of datapoints in validation set\n",
    "    gt - (int) size of the input observations to be passed to the encoder\n",
    "    horizon - (int) size of the input observations to be passed to the decoder\n",
    "    delim - (str) delimeter needed to read the dataset csv file\n",
    "    train - (bool) boolean indicating if training dataset needs to be created. Default value = True\n",
    "    eval - (bool) boolean indicating if testing dataset needs to be created. Default value = False\n",
    "    verbose - (bool) boolean indicating if printing in required during code execution. Default value = False\n",
    "\n",
    "    OUTPUT:\n",
    "\n",
    "    object of the TFDataset class\n",
    "    \"\"\"\n",
    "\n",
    "    # finding the path to the required datasets\n",
    "    if train==True:\n",
    "        datasets_list = os.listdir(os.path.join(dataset_folder,dataset_name, \"train\"))\n",
    "        full_dt_folder=os.path.join(dataset_folder,dataset_name, \"train\")\n",
    "    if train==False and eval==False:\n",
    "        datasets_list = os.listdir(os.path.join(dataset_folder, dataset_name, \"val\"))\n",
    "        full_dt_folder = os.path.join(dataset_folder, dataset_name, \"val\")\n",
    "    # if train==False and eval==True:\n",
    "    #     datasets_list = os.listdir(os.path.join(dataset_folder, dataset_name, \"test\"))\n",
    "    #     full_dt_folder = os.path.join(dataset_folder, dataset_name, \"test\")\n",
    "\n",
    "\n",
    "    datasets_list=datasets_list\n",
    "    data={}\n",
    "    data_src=[]\n",
    "    data_trg=[]\n",
    "    data_seq_start=[]\n",
    "    data_frames=[]\n",
    "    data_dt=[]\n",
    "    data_peds=[]\n",
    "\n",
    "    val_src = []\n",
    "    val_trg = []\n",
    "    val_seq_start = []\n",
    "    val_frames = []\n",
    "    val_dt = []\n",
    "    val_peds=[]\n",
    "\n",
    "    if verbose:\n",
    "        print(\"start loading dataset\")\n",
    "        print(\"validation set size -> %i\"%(val_size))\n",
    "\n",
    "\n",
    "    # enumerating through all the .txt files in the required dataset folder\n",
    "    for i_dt, dt in enumerate(datasets_list):\n",
    "        if verbose:\n",
    "            print(\"%03i / %03i - loading %s\"%(i_dt+1,len(datasets_list),dt))\n",
    "        raw_data = pd.read_csv(os.path.join(full_dt_folder, dt), delimiter=delim,\n",
    "                                        names=[\"frame\", \"ped\", \"x\", \"y\"],usecols=[0,1,2,3],na_values=\"?\")\n",
    "\n",
    "        raw_data.sort_values(by=['frame','ped'], inplace=True)\n",
    "\n",
    "        inp,out,info=get_strided_data_clust(raw_data,gt,horizon,1)\n",
    "\n",
    "        dt_frames=info['frames']\n",
    "        dt_seq_start=info['seq_start']\n",
    "        dt_dataset=np.array([i_dt]).repeat(inp.shape[0])\n",
    "        dt_peds=info['peds']\n",
    "\n",
    "\n",
    "        # creating validation data only if the training data is > 2.5 * validation data size\n",
    "        if val_size>0 and inp.shape[0]>val_size*2.5:\n",
    "            if verbose:\n",
    "                print(\"created validation from %s\" % (dt))\n",
    "            k = random.sample(np.arange(inp.shape[0]).tolist(), val_size)\n",
    "            val_src.append(inp[k, :, :])\n",
    "            val_trg.append(out[k, :, :])\n",
    "            val_seq_start.append(dt_seq_start[k, :, :])\n",
    "            val_frames.append(dt_frames[k, :])\n",
    "            val_dt.append(dt_dataset[k])\n",
    "            val_peds.append(dt_peds[k])\n",
    "            inp = np.delete(inp, k, 0)\n",
    "            out = np.delete(out, k, 0)\n",
    "            dt_frames = np.delete(dt_frames, k, 0)\n",
    "            dt_seq_start = np.delete(dt_seq_start, k, 0)\n",
    "            dt_dataset = np.delete(dt_dataset, k, 0)\n",
    "            dt_peds = np.delete(dt_peds,k,0)\n",
    "        elif val_size>0:\n",
    "            if verbose:\n",
    "                print(\"could not create validation from %s, size -> %i\" % (dt,inp.shape[0]))\n",
    "\n",
    "        data_src.append(inp)                # (num_datapoints in current dataset file, gt_size, 4)\n",
    "        data_trg.append(out)                # (num_datapoints in current dataset file, horizon, 4)\n",
    "        data_seq_start.append(dt_seq_start) # (num_datapoints in current dataset file, 1, 2)\n",
    "        data_frames.append(dt_frames)       # (num_datapoints in current dataset file, 20)\n",
    "        data_dt.append(dt_dataset)          # (num_datapoints in current dataset file,) data set ids\n",
    "        data_peds.append(dt_peds)           # (num_datapoints in current dataset file,) pedestrian ids\n",
    "\n",
    "\n",
    "\n",
    "    # concatenating all the dataset files in the current dataset folder\n",
    "    data['src'] = np.concatenate(data_src, 0)\n",
    "    data['trg'] = np.concatenate(data_trg, 0)\n",
    "    data['seq_start'] = np.concatenate(data_seq_start, 0)\n",
    "    data['frames'] = np.concatenate(data_frames, 0)\n",
    "    data['dataset'] = np.concatenate(data_dt, 0)\n",
    "    data['peds'] = np.concatenate(data_peds, 0)\n",
    "    data['dataset_name'] = datasets_list\n",
    "\n",
    "    # finding the mean and standard deviation of x and y positions of all datapoints\n",
    "    mean= data['src'].mean((0,1))\n",
    "    std= data['src'].std((0,1))\n",
    "\n",
    "    # concatenate all validation dataset files\n",
    "    if val_size>0:\n",
    "        data_val={}\n",
    "        data_val['src']=np.concatenate(val_src,0)\n",
    "        data_val['trg'] = np.concatenate(val_trg, 0)\n",
    "        data_val['seq_start'] = np.concatenate(val_seq_start, 0)\n",
    "        data_val['frames'] = np.concatenate(val_frames, 0)\n",
    "        data_val['dataset'] = np.concatenate(val_dt, 0)\n",
    "        data_val['peds'] = np.concatenate(val_peds, 0)\n",
    "\n",
    "        return TFDataset(data, \"train\", mean, std), TFDataset(data_val, \"validation\", mean, std)\n",
    "\n",
    "    return TFDataset(data, \"train\", mean, std), None\n",
    "\n",
    "\n",
    "def get_strided_data_clust(dt, gt_size, horizon, step):\n",
    "    \"\"\"\n",
    "    splitting the data into clusters of a size (gt_size + horizon)\n",
    "\n",
    "    INPUT:\n",
    "    dt - (pandas df) dataframe for the dataset\n",
    "    gt_size - (int) size of the input observations to be passed to the encoder\n",
    "    horizon - (int) size of the input observations to be passed to the decoder \n",
    "    step - (int) integer indicating the stride/window shift\n",
    "\n",
    "    OUTPUT:\n",
    "    inp - (numpy arrays) input data to encoder. Shape = (num_datapoints, gt_size, 4)\n",
    "    out - (numpy arrays) input data to decoder. Shape = (num_datapoints, horizon, 4)\n",
    "    info - (dictionary) meta for dataset\n",
    "    \"\"\"\n",
    "\n",
    "    inp_te = []\n",
    "    dtt = dt.astype(np.float32)\n",
    "    raw_data = dtt\n",
    "\n",
    "    ped = raw_data.ped.unique()\n",
    "    frame=[]\n",
    "    ped_ids=[]\n",
    "\n",
    "    # clustering the dataset by looping through all unique pedestrian ID's\n",
    "    for p in ped:\n",
    "        for i in range(1+(raw_data[raw_data.ped == p].shape[0] - gt_size - horizon) // step):\n",
    "            frame.append(dt[dt.ped == p].iloc[i * step:i * step + gt_size + horizon, [0]].values.squeeze())\n",
    "            # print(\"%i,%i,%i\" % (i * 4, i * 4 + gt_size, i * 4 + gt_size + horizon))\n",
    "            inp_te.append(raw_data[raw_data.ped == p].iloc[i * step:i * step + gt_size + horizon, 2:4].values)\n",
    "            ped_ids.append(p)\n",
    "\n",
    "    frames=np.stack(frame)\n",
    "    inp_te_np = np.stack(inp_te)\n",
    "    ped_ids=np.stack(ped_ids)\n",
    "\n",
    "    # calculating the speed of the pedestrian between 2 frames\n",
    "    inp_speed = np.concatenate((np.zeros((inp_te_np.shape[0],1,2)),inp_te_np[:,1:,0:2] - inp_te_np[:, :-1, 0:2]),1)\n",
    "\n",
    "    # concatenating position and speed information\n",
    "    inp_norm=np.concatenate((inp_te_np,inp_speed),2)\n",
    "\n",
    "    inp_mean=np.zeros(4)\n",
    "    inp_std=np.ones(4)\n",
    "\n",
    "    inp = inp_norm[:,:gt_size]\n",
    "    out = inp_norm[:,gt_size:]\n",
    "\n",
    "    # seq_start - starting x,y position in every window\n",
    "    info = {'mean': inp_mean, 'std': inp_std, 'seq_start': inp_te_np[:, 0:1, :].copy(),'frames':frames,'peds':ped_ids}\n",
    "\n",
    "    return inp, out, info\n",
    "\n",
    "\n",
    "def distance_metrics(target, preds):\n",
    "    \"\"\"\n",
    "    Function to calculate MAD (mean average displacement) and FAD (final average displacement)\n",
    "\n",
    "    INPUT:\n",
    "    target - (numpy array) ground truth values for pedestrian positions\n",
    "    preds - (numpy array) predicted values for pedestrian positions\n",
    "\n",
    "    OUTPUT:\n",
    "    mad - (numpy array) MAD value\n",
    "    fad - (numpy array) FAD value\n",
    "    errors - (numpy array) error value\n",
    "    \"\"\"\n",
    "    \n",
    "    errors = np.zeros(preds.shape[:-1])\n",
    "    for i in range(errors.shape[0]):\n",
    "        for j in range(errors.shape[1]):\n",
    "            errors[i, j] = scipy.spatial.distance.euclidean(target[i, j], preds[i, j])\n",
    "\n",
    "    mad = errors.mean()\n",
    "    fad = errors[:,-1].mean()\n",
    "\n",
    "    return mad, fad, errors"
   ]
  },
  {
   "cell_type": "code",
   "execution_count": 4,
   "metadata": {
    "id": "j5T2o-3WvkqA"
   },
   "outputs": [],
   "source": [
    "def subsequent_mask(size):\n",
    "    \"\"\"\n",
    "    Function to compute the mask used in attention layer of decoder\n",
    "\n",
    "    INPUT:\n",
    "    size - (int) horizon size\n",
    "\n",
    "    OUTPUT:\n",
    "    mask - (torch tensor) boolean array to mask out the data in decoder\n",
    "    \"\"\"\n",
    "\n",
    "    attn_shape = (1, size, size)\n",
    "    mask = np.triu(np.ones(attn_shape), k=1).astype('uint8')\n",
    "    mask = torch.from_numpy(mask) == 0\n",
    "\n",
    "    return mask\n",
    "\n",
    "\n",
    "def attention(Q, K, V, mask=None, dropout=None):\n",
    "    \"\"\"\n",
    "    Function to compute the attention from given Q, K and V values \n",
    "\n",
    "    INPUT:\n",
    "    Q - (torch tensor) query for the transformer. Shape = (B, H, N, C)\n",
    "    K - (torch tensor) keys for the transformer. Shape = (B, H, N, C)\n",
    "    V - (torch tensor) values for the transformer. Shape = (B, H, N, C) \n",
    "    mask - (torch tensor) mask for decoder multi head attention layer\n",
    "    dropout - (float) dropout percentage\n",
    "\n",
    "    OUTPUT:\n",
    "    attn_output - (torch tensor) output of the multi head attention layer. Shape = (B, H, N, C)\n",
    "    \"\"\"\n",
    "\n",
    "    # finding the embedding size\n",
    "    new_emb_size = Q.shape[0]\n",
    "    # calculating attention scores\n",
    "    scores = torch.matmul(Q, K.transpose(-2, -1)) / math.sqrt(new_emb_size)\n",
    "\n",
    "    # applying mask on the attention\n",
    "    if mask is not None:\n",
    "        scores = scores.masked_fill_(mask == 0, -1e9)\n",
    "\n",
    "    # applying softmax layer and calculating prob of attention\n",
    "    p_attn = softmax(scores, dim=-1)\n",
    "\n",
    "    # applying dropout\n",
    "    if dropout is not None:\n",
    "        p_attn = dropout(p_attn)\n",
    "    \n",
    "    # multiplying the prob of attentiom with Values (V)  \n",
    "    attn_output = torch.matmul(p_attn, V)\n",
    "\n",
    "    return attn_output\n",
    "\n",
    "def cosine_scheduler(t, eta_max, T):\n",
    "    \"\"\"\n",
    "    Function to implement cosine scheduler\n",
    "    \"\"\"\n",
    "\n",
    "    T_0 = T/5\n",
    "\n",
    "    if t <= T_0:\n",
    "        lr = 1e-6 + ((t/T_0) * eta_max)\n",
    "    else:\n",
    "        lr = 1e-8 + (eta_max * np.cos((np.pi/2)*((t-T_0)/(T-T_0))))\n",
    "    \n",
    "    return lr\n",
    "\n",
    "\n",
    "def learning_rate_finder(tf_model, optimizer, train_loader, iterations, device, mean, std, increment=1.1):\n",
    "    \"\"\"\n",
    "    Function to perform the \"learning rate finder\" algorithm.\n",
    "    \"\"\"\n",
    "\n",
    "    # initilizing array to store training loss of each minibatch\n",
    "    train_loss = []\n",
    "    # initializing the array to store the learning rates\n",
    "    learning_rates = []\n",
    "\n",
    "    for idx, data in enumerate(train_loader):\n",
    "        # getting encoder input data\n",
    "        enc_input = (data['src'][:,1:,2:4].to(device)-mean.to(device))/std.to(device)\n",
    "\n",
    "        # getting decoder input data\n",
    "        target = (data['trg'][:,:-1,2:4].to(device)-mean.to(device))/std.to(device)\n",
    "        target_append = torch.zeros((target.shape[0],target.shape[1],1)).to(device)\n",
    "        target = torch.cat((target,target_append),-1)\n",
    "        start_of_seq = torch.Tensor([0, 0, 1]).unsqueeze(0).unsqueeze(1).repeat(target.shape[0],1,1).to(device)\n",
    "        dec_input = torch.cat((start_of_seq, target), 1)\n",
    "\n",
    "        # getting masks for decoder\n",
    "        dec_source_mask = torch.ones((enc_input.shape[0], 1,enc_input.shape[1])).to(device)\n",
    "        dec_target_mask = subsequent_mask(dec_input.shape[1]).repeat(dec_input.shape[0],1,1).to(device)\n",
    "\n",
    "        # forward pass \n",
    "        optimizer.zero_grad()\n",
    "        predictions = tf_model.forward(enc_input, dec_input, dec_source_mask, dec_target_mask)\n",
    "\n",
    "        # calculating loss using pairwise distance of all predictions\n",
    "        loss = F.pairwise_distance(predictions[:, :,0:2].contiguous().view(-1, 2),\n",
    "                                    ((data['trg'][:, :, 2:4].to(device)-mean.to(device))/std.to(device)).\\\n",
    "                                    contiguous().view(-1, 2).to(device)).mean() + \\\n",
    "                                    torch.mean(torch.abs(predictions[:,:,2]))\n",
    "        train_loss.append(loss.item())             \n",
    "        # changing the learning rate \n",
    "        for param in optimizer.param_groups:\n",
    "            learning_rates.append(param['lr'])\n",
    "            param['lr'] *= increment\n",
    "        \n",
    "        # updating weights\n",
    "        loss.backward()\n",
    "        optimizer.step()\n",
    "\n",
    "        if idx == iterations:\n",
    "            break\n",
    "\n",
    "    return train_loss, learning_rates"
   ]
  },
  {
   "cell_type": "code",
   "execution_count": 5,
   "metadata": {
    "id": "8kf63Qi4vkqA"
   },
   "outputs": [],
   "source": [
    "class MultiHeadAttention(nn.Module):\n",
    "    \"\"\"\n",
    "    Class to create the multi head attention layer for \n",
    "    encoder and decoder\n",
    "    \"\"\"\n",
    "\n",
    "    def __init__(self, num_heads, emb_size, dropout=0.1):\n",
    "        \"\"\"\n",
    "        Class constructor\n",
    "\n",
    "        INPUT:\n",
    "        num_head - (int) number of heads in multi head attention layer\n",
    "        emb_size - (int) embedding size of the data\n",
    "        dropout - (float) dropout percentage. Default value = 0.1\n",
    "        \"\"\"\n",
    "        super(MultiHeadAttention, self).__init__()\n",
    "\n",
    "        # making sure that the embedding size is divisible by the number\n",
    "        # of heads\n",
    "        assert emb_size % num_heads == 0\n",
    "\n",
    "        # caching values\n",
    "        self.emb_size = emb_size\n",
    "        self.num_heads = num_heads\n",
    "\n",
    "        # creating a single MLP layer for queries, keys and values\n",
    "        self.q_linear = nn.Linear(emb_size, emb_size)\n",
    "        self.k_linear = nn.Linear(emb_size, emb_size)\n",
    "        self.v_linear = nn.Linear(emb_size, emb_size)\n",
    "        # creating MLP layer for post attention\n",
    "        self.post_att = nn.Linear(emb_size, emb_size)\n",
    "\n",
    "        # creating dropout layer\n",
    "        self.dropout = nn.Dropout(dropout)\n",
    "    \n",
    "    def forward(self, Q, K, V, mask=None):\n",
    "        \"\"\"\n",
    "        forward function for MultiHeadAttention\n",
    "\n",
    "        INPUT:\n",
    "        Q - (torch tensor) query for the transformer. Shape = (B, N, C)\n",
    "        K - (torch tensor) keys for the transformer. Shape = (B, N, C)\n",
    "        V - (torch tensor) values for the transformer. Shape = (B, N, C)\n",
    "        mask - (torch tensor) mask for decoder multi head attention layer\n",
    "\n",
    "        OUTPUT:\n",
    "        att_output - (torch tensor) output of the multi head attention layer. Shape = (B, N, C)\n",
    "        \"\"\"\n",
    "\n",
    "        if mask is not None:\n",
    "            # Same mask applied to all h heads.\n",
    "            mask = mask.unsqueeze(1)\n",
    "\n",
    "        # passing the Q, K, and V through 1 layer MLP\n",
    "        Q, K, V = self.q_linear(Q), self.k_linear(K), self.v_linear(V)  # Shape = (B, N, C)\n",
    "\n",
    "        # splitting Q, K and V based on num_heads\n",
    "        batch_size = Q.shape[0]\n",
    "        new_emb_size = self.emb_size // self.num_heads\n",
    "\n",
    "        Q = Q.reshape(batch_size, -1, self.num_heads, new_emb_size)     # Shape = (B, N, H, C//H)\n",
    "        K = K.reshape(batch_size, -1, self.num_heads, new_emb_size)     # Shape = (B, N, H, C//H)\n",
    "        V = V.reshape(batch_size, -1, self.num_heads, new_emb_size)     # Shape = (B, N, H, C//H)\n",
    "\n",
    "        # permuting the dimensions of Q, K and V\n",
    "        Q = Q.permute(0,2,1,3)                                          # Shape = (B, H, N, C//H)\n",
    "        K = K.permute(0,2,1,3)                                          # Shape = (B, H, N, C//H)\n",
    "        V = V.permute(0,2,1,3)                                          # Shape = (B, H, N, C//H)\n",
    "\n",
    "        # calculating attention\n",
    "        attn_output = attention(Q, K, V, mask, self.dropout)            # Shape = (B, H, N, C//H)\n",
    "\n",
    "        # permuting the dimensions of attn_output and collapsing \n",
    "        # the num_heads dimension\n",
    "        attn_output = attn_output.permute(0,2,1,3)                      # Shape = (B, N, H, C//H)\n",
    "        attn_output = attn_output.reshape(batch_size, -1, self.emb_size)# Shape = (B, N, C)\n",
    "\n",
    "        # applying linear layer to output of attention layer\n",
    "        attn_output = self.post_att(attn_output)                        # Shape = (B, N, C)\n",
    "\n",
    "        return attn_output\n",
    "\n",
    "class EncoderLayer(nn.Module):\n",
    "    \"\"\"\n",
    "    class for a single encoder layer\n",
    "    \"\"\"\n",
    "\n",
    "    def __init__(self, emb_size, num_heads, ff_hidden_size, dropout=0.1):\n",
    "        \"\"\"\n",
    "        class initializer\n",
    "\n",
    "        INPUT:\n",
    "        emb_size - (int) embedding size of the data\n",
    "        num_heads - (int) number of heads in multi head attention layer\n",
    "        ff_hidden_size - (int) size of the hidden layer for the feed forward network\n",
    "        dropout - (float) dropout percentage. Default value = 0.1\n",
    "        \"\"\"\n",
    "        super(EncoderLayer, self).__init__()\n",
    "\n",
    "        # creating dropout layer\n",
    "        self.dropout = nn.Dropout(dropout)\n",
    "\n",
    "        # creating normalization layer for attention module\n",
    "        self.norm_attn = nn.LayerNorm(emb_size)\n",
    "        # creating normalization layer for feed forward layer\n",
    "        self.norm_ff = nn.LayerNorm(emb_size)\n",
    "\n",
    "        # creating object for multi head attention layer\n",
    "        self.attn = MultiHeadAttention(num_heads, emb_size, dropout)\n",
    "\n",
    "        # creating feed forward layer\n",
    "        self.ff = nn.Sequential(nn.Linear(emb_size, ff_hidden_size),\n",
    "                                nn.ReLU(), \n",
    "                                nn.Dropout(dropout),\n",
    "                                nn.Linear(ff_hidden_size, emb_size))\n",
    "    \n",
    "    def forward(self, x):\n",
    "        \"\"\"\n",
    "        forward pass through one encoder layer\n",
    "\n",
    "        INPUT:\n",
    "        x - (torch tensor) input data to the encoder layer. Shape = (B, N, C)\n",
    "\n",
    "        OUTPUT:\n",
    "        x - (torch tensor) output of the encoder layer. Shape = (B, N, C)\n",
    "        \"\"\"\n",
    "\n",
    "        # sublayer 1: Input -> LayerNorm -> MultiHeadAttention -> Dropout -> ResidualAdd\n",
    "        x = x + self.dropout(self.attn.forward(self.norm_attn(x), self.norm_attn(x), self.norm_attn(x)))    # Shape = (B, N ,C)\n",
    "\n",
    "        # sublayer 2: Input -> LayerNorm -> FFN -> Dropout -> ResidualAdd\n",
    "        x = x + self.dropout(self.ff(self.norm_ff(x)))                                                      # Shape = (B, N ,C)\n",
    "\n",
    "        return x\n",
    "\n",
    "class Encoder(nn.Module):\n",
    "    \"\"\"\n",
    "    class for implementing a stack of n EncoderLayers\n",
    "    \"\"\"\n",
    "\n",
    "    def __init__(self, emb_size, num_heads, ff_hidden_size, n, dropout=0.1):\n",
    "        \"\"\"\n",
    "        class initializer\n",
    "\n",
    "        INPUT:\n",
    "        emb_size - (int) embedding size of the data\n",
    "        num_heads - (int) number of heads in multi head attention layer\n",
    "        ff_hidden_size - (int) size of the hidden layer for the feed forward network\n",
    "        n - (int) number of encoder layers \n",
    "        dropout - (float) dropout percentage. Default value = 0.1\n",
    "        \"\"\"\n",
    "        super(Encoder, self).__init__()\n",
    "        \n",
    "        # creating object for 1 encoder layer\n",
    "        encoder_layer_obj = EncoderLayer(emb_size, num_heads, ff_hidden_size, dropout)\n",
    "        # creating a stack of n encoder layers\n",
    "        self.enc_layers = nn.ModuleList([deepcopy(encoder_layer_obj) for _ in range(n)])\n",
    "\n",
    "        # defining LayerNorm for last layer of encoder\n",
    "        self.norm = nn.LayerNorm(emb_size)\n",
    "\n",
    "    def forward(self, x):\n",
    "        \"\"\"\n",
    "        forward function to implement one pass through all layers of encoder\n",
    "\n",
    "        INPUT:\n",
    "        x - (torch tensor). input data. Shape = (B, N, C)\n",
    "\n",
    "        OUTPUT:\n",
    "        x - (torch tensor). output of the encoder block. Shape = (B, N, C)\n",
    "        \"\"\"\n",
    "\n",
    "        for layer in self.enc_layers:\n",
    "            x = layer.forward(x)               # Shape = (B, N, C)\n",
    "        \n",
    "        x = self.norm(x)                        # Shape = (B, N, C)\n",
    "\n",
    "        return x\n",
    "\n",
    "class DecoderLayer(nn.Module):\n",
    "    \"\"\"\n",
    "    class for implementing a single decoder layer\n",
    "    \"\"\"\n",
    "\n",
    "    def __init__(self, emb_size, num_heads, ff_hidden_size, dropout=0.1):\n",
    "        \"\"\"\n",
    "        class initializer\n",
    "\n",
    "        INPUT:\n",
    "        emb_size - (int) embedding size of the data\n",
    "        num_heads - (int) number of heads in multi head attention layer\n",
    "        ff_hidden_size - (int) size of the hidden layer for the feed forward network\n",
    "        dropout - (float) dropout percentage. Default value = 0.1\n",
    "        \"\"\"\n",
    "        super(DecoderLayer, self).__init__()\n",
    "\n",
    "        # creating dropout layer\n",
    "        self.dropout = nn.Dropout(dropout)\n",
    "\n",
    "        # creating normalization layer for self attention module\n",
    "        self.norm_attn = nn.LayerNorm(emb_size)\n",
    "        # creating normalization layer for encoder-decoder attention module\n",
    "        self.norm_enc_dec = nn.LayerNorm(emb_size)\n",
    "        # creating normalization layer for feed forward layer\n",
    "        self.norm_ff = nn.LayerNorm(emb_size)\n",
    "\n",
    "        # creating object for multi head self attention layer\n",
    "        self.attn = MultiHeadAttention(num_heads, emb_size, dropout)\n",
    "        # creating object for multi head encoder-decoder attention layer\n",
    "        self.enc_dec_attn = MultiHeadAttention(num_heads, emb_size, dropout)\n",
    "\n",
    "        # creating feed forward layer\n",
    "        self.ff = nn.Sequential(nn.Linear(emb_size, ff_hidden_size),\n",
    "                                nn.ReLU(), \n",
    "                                nn.Dropout(dropout),\n",
    "                                nn.Linear(ff_hidden_size, emb_size))\n",
    "\n",
    "    def forward(self, x, enc_output, source_mask, target_mask):\n",
    "        \"\"\"\n",
    "        forward pass through one decoder layer\n",
    "\n",
    "        INPUT:\n",
    "        x - (torch tensor) input data to the decoder layer. Shape = (B, N, C)\n",
    "        enc_output - (torch tensor) output of the encoder block. Shape = (B, N, C)\n",
    "        source_mask - (torch tensor) mask for encoder-decoder attention layer\n",
    "        target_mask - (torch tensor) mask for decoder self attention layer\n",
    "\n",
    "        OUTPUT:\n",
    "        x - (torch tensor) output of the decoder layer. Shape = (B, N ,C)\n",
    "        \"\"\"\n",
    "\n",
    "        # sublayer 1: Input -> LayerNorm -> MultiHeadAttention -> Dropout -> ResidualAdd\n",
    "        x = x + self.dropout(self.attn.forward(self.norm_attn(x),\\\n",
    "            self.norm_attn(x),self.norm_attn(x), target_mask))                          # Shape = (B, N ,C)\n",
    "        \n",
    "        # sublayer 2: Input -> LayerNorm -> EncoderDecoderAttention -> Dropout -> ResidualAdd\n",
    "        x = x + self.dropout(self.enc_dec_attn.forward(self.norm_enc_dec(x),\\\n",
    "            self.norm_enc_dec(enc_output),self.norm_enc_dec(enc_output), source_mask))  # Shape = (B, N ,C)\n",
    "        \n",
    "        # sublayer 3: Input -> LayerNorm -> FFN -> Dropout -> ResidualAdd\n",
    "        x = x + self.dropout(self.ff(self.norm_ff(x)))                                  # Shape = (B, N ,C)\n",
    "\n",
    "        return x\n",
    "        \n",
    "class Decoder(nn.Module):\n",
    "    \"\"\"\n",
    "    class for implementing stack of n decoder layers\n",
    "    \"\"\"\n",
    "\n",
    "    def __init__(self, emb_size, num_heads, ff_hidden_size, n, dropout=0.1):\n",
    "        \"\"\"\n",
    "        class initializer\n",
    "\n",
    "        INPUT:\n",
    "        emb_size - (int) embedding size of the data\n",
    "        num_heads - (int) number of heads in multi head attention layer\n",
    "        ff_hidden_size - (int) size of the hidden layer for the feed forward network\n",
    "        n - (int) number of encoder layers \n",
    "        dropout - (float) dropout percentage. Default value = 0.1      \n",
    "        \"\"\"\n",
    "        super(Decoder, self).__init__()\n",
    "\n",
    "        # creating object for 1 decoder layer\n",
    "        decoder_obj = DecoderLayer(emb_size, num_heads, ff_hidden_size, dropout)\n",
    "        # creating stack of n decoder layers\n",
    "        self.dec_layers = nn.ModuleList([deepcopy(decoder_obj) for _ in range(n)])\n",
    "\n",
    "        # defining LayerNorm for decoder end\n",
    "        self.norm = nn.LayerNorm(emb_size)\n",
    "\n",
    "    def forward(self, x, enc_output, source_mask, target_mask):\n",
    "        \"\"\"\n",
    "        x - (torch tensor) input data to the decoder block. Shape = (B, N, C)\n",
    "        enc_output - (torch tensor) output of the encoder block. Shape = (B, N, C)\n",
    "        source_mask - (torch tensor) mask for encoder-decoder attention layer\n",
    "        target_mask - (torch tensor) mask for decoder self attention layer\n",
    "\n",
    "        OUTPUT:\n",
    "        x - (torch tensor) output of the decoder layer. Shape = (B, N ,C)\n",
    "        \"\"\"\n",
    "\n",
    "        for layer in self.dec_layers:\n",
    "            x = layer.forward(x, enc_output, source_mask, target_mask)      # Shape = (B, N, C)\n",
    "        \n",
    "        x = self.norm(x)                                                    # Shape = (B, N, C)\n",
    "\n",
    "        return x\n",
    "\n",
    "class PositionalEncoding(nn.Module):\n",
    "    \"\"\"\n",
    "    class to implement positional encoding for encoder and decoder input data\n",
    "    \"\"\"\n",
    "\n",
    "    def __init__(self, emb_size, dropout=0.1, max_len=5000):\n",
    "        \"\"\"\n",
    "        class initializer\n",
    "\n",
    "        INPUT:\n",
    "        emb_size - (int) size of the embedding\n",
    "        dropout - (float) dropout percentage. Default value = 0.1\n",
    "        max_len - (int) max positional length. Default value = 5000\n",
    "        \"\"\"\n",
    "        super(PositionalEncoding, self).__init__()\n",
    "\n",
    "        # defining the dropout layer\n",
    "        self.dropout = nn.Dropout(dropout)\n",
    "\n",
    "        # Compute the positional encodings once in log space.\n",
    "        pe = torch.zeros(max_len, emb_size)\n",
    "        position = torch.arange(0, max_len).unsqueeze(1).float()\n",
    "        div_term = torch.exp(torch.arange(0, emb_size, 2).float() * -(math.log(10000.0) / emb_size))\n",
    "        pe[:, 0::2] = torch.sin(position * div_term)\n",
    "        pe[:, 1::2] = torch.cos(position * div_term)\n",
    "        pe = pe.unsqueeze(0)\n",
    "        self.register_buffer('pe', pe)\n",
    "\n",
    "    def forward(self, x):\n",
    "        \"\"\"\n",
    "        forward pass to generate positional embeddings\n",
    "\n",
    "        INPUT:\n",
    "        x - (torch tensor) embedded data. Shape = (B, N, C) \n",
    "\n",
    "        OUTPUT:\n",
    "        x - (torch tensor) positional embedded data. Shape = (B, N, C) \n",
    "        \"\"\"\n",
    "\n",
    "        x = x + Variable(self.pe[:, :x.size(1)], requires_grad=False)\n",
    "        x = self.dropout(x)\n",
    "\n",
    "        return x\n",
    "\n",
    "class Embeddings(nn.Module):\n",
    "    \"\"\"\n",
    "    class to generate the embeddings for encoder and decoder input data\n",
    "    \"\"\"\n",
    "\n",
    "    def __init__(self, input_size, emb_size):\n",
    "        \"\"\"\n",
    "        class initializer\n",
    "\n",
    "        INPUT:\n",
    "        input_size - (int) size of the input data\n",
    "        emb_size - (int) size of the embedding\n",
    "        \"\"\"\n",
    "        super(Embeddings, self).__init__()\n",
    "\n",
    "        # caching values\n",
    "        self.emb_size = emb_size\n",
    "\n",
    "        # creating liner layer for embedding input data\n",
    "        self.linear_embd = nn.Linear(input_size, emb_size)\n",
    "\n",
    "        # creating object for positional encoding\n",
    "        self.pos_encoding = PositionalEncoding(emb_size, dropout=0.1, max_len=5000)\n",
    "    \n",
    "    def forward(self, x):\n",
    "        \"\"\"\n",
    "        forward pass to generate input embeddings\n",
    "\n",
    "        INPUT:\n",
    "        x - (torch tensor) input data. Shape = (B, N, input_dimension)\n",
    "\n",
    "        OUTPUT:\n",
    "        x - (torch tensor) embedded data. Shape = (B, N, C)\n",
    "        \"\"\"\n",
    "\n",
    "        # creating embeddings for input data\n",
    "        x = self.linear_embd(x) * math.sqrt(self.emb_size)     # Shape = (B, N, C)\n",
    "        # incorporating positional embeddings\n",
    "        x = self.pos_encoding.forward(x)\n",
    "\n",
    "        return x\n",
    "\n",
    "class OutputGenerator(nn.Module):\n",
    "    \"\"\"\n",
    "    class to generate the output embeddings from the transformer's output\n",
    "    \"\"\"\n",
    "\n",
    "    def __init__(self, emb_size, output_size):\n",
    "        \"\"\"\n",
    "        class initializer\n",
    "\n",
    "        INPUT:\n",
    "        output_size - (int) size of the output data\n",
    "        emb_size - (int) size of the embedding\n",
    "        \"\"\"\n",
    "        super(OutputGenerator, self).__init__()\n",
    "\n",
    "        # creating liner layer for embedding input data\n",
    "        self.output_gen = nn.Linear(emb_size, output_size)\n",
    "    \n",
    "    def forward(self, x):\n",
    "        \"\"\"\n",
    "        forward pass to generate the output data\n",
    "\n",
    "        INPUT:\n",
    "        x - (torch tensor) input data from transformer. Shape = (B, N, output_dimension)\n",
    "\n",
    "        OUTPUT:\n",
    "        x - (torch tensor) output data. Shape = (B, N, output_size)\n",
    "        \"\"\"\n",
    "\n",
    "        x = self.output_gen(x)     # Shape = (B, N, output_size) \n",
    "\n",
    "        return x\n",
    "\n",
    "class TFModel(nn.Module):\n",
    "    \"\"\"\n",
    "    class to generate the complete transformer architecture\n",
    "    \"\"\"\n",
    "\n",
    "    def __init__(self, encoder_ip_size, decoder_ip_size, model_op_size, emb_size, \\\n",
    "                num_heads, ff_hidden_size, n, dropout=0.1):\n",
    "        \"\"\"\n",
    "        class initializer\n",
    "\n",
    "        INPUT:\n",
    "        encoder_ip_size - (int) dimension of the encoder input\n",
    "        decoder_ip_size - (int) dimension of the decoder input\n",
    "        model_op_size - (int) dimension of model's output\n",
    "        emb_size - (int) data embedding size for encoder and decoder\n",
    "        num_heads - (int) number of heads in multi head attention layer\n",
    "        ff_hidden_size - (int) size of the hidden layer for the feed forward network\n",
    "        n - (int) number of encoder layers \n",
    "        dropout - (float) dropout percentage. Default value = 0.1\n",
    "        \"\"\"\n",
    "        super(TFModel, self).__init__()\n",
    "\n",
    "        # creating embeddings for encoder input\n",
    "        self.encoder_embedding = Embeddings(encoder_ip_size, emb_size)\n",
    "        # creating embeddings for decoder input\n",
    "        self.decoder_embeddings= Embeddings(decoder_ip_size, emb_size)\n",
    "        \n",
    "        # creating encoder block\n",
    "        self.encoder_block = Encoder(emb_size, num_heads, ff_hidden_size, n, dropout)\n",
    "        # creating decoder block\n",
    "        self.decoder_block = Decoder(emb_size, num_heads, ff_hidden_size, n, dropout)\n",
    "\n",
    "        # creating output generator\n",
    "        self.output_gen = OutputGenerator(emb_size, model_op_size)\n",
    "    \n",
    "    def forward(self, enc_input, dec_input, dec_source_mask, dec_target_mask):\n",
    "        \"\"\"\n",
    "        forward pass for the transformer model\n",
    "\n",
    "        INPUT:\n",
    "        enc_input - (torch tensot) input data to the encoder block. Shape = (B, N, encoder_ip_size)\n",
    "        dec_input - (torch tensor) input data to the decoder block. Shape = (B, N, decoder_ip_size)\n",
    "        enc_output - (torch tensor) output of the encoder block. Shape = (B, N, emb_size)\n",
    "        source_mask - (torch tensor) mask for encoder-decoder attention layer\n",
    "        target_mask - (torch tensor) mask for decoder self attention layer\n",
    "\n",
    "        OUTPUT:\n",
    "        model_output - (torch tensor) output of the model. Shape = (B, N, model_op_size)\n",
    "        \"\"\"\n",
    "\n",
    "        enc_embed = self.encoder_embedding.forward(enc_input)\n",
    "        encoder_output = self.encoder_block.forward(enc_embed)\n",
    "\n",
    "        dec_embed = self.decoder_embeddings.forward(dec_input)\n",
    "        decoder_output = self.decoder_block.forward(dec_embed, encoder_output, dec_source_mask, dec_target_mask)\n",
    "\n",
    "        model_output = self.output_gen.forward(decoder_output)\n",
    "\n",
    "        return model_output\n"
   ]
  },
  {
   "cell_type": "code",
   "execution_count": 6,
   "metadata": {
    "id": "65vv4xsRNMRV"
   },
   "outputs": [],
   "source": [
    "# defining model save location\n",
    "save_location = \"./models\"\n",
    "# defining dataset locations\n",
    "dataset_folder = \"./datasets\"\n",
    "dataset_name = \"raw\"\n",
    "# setting validation size. if val_size = 0, split percentage is 80-20\n",
    "val_size = 0\n",
    "# lenght of sequence given to encoder\n",
    "gt = 8\n",
    "# length of sequence given to decoder\n",
    "horizon = 12\n",
    "\n",
    "# creating torch datasets\n",
    "train_dataset, _ = create_dataset(dataset_folder, dataset_name, val_size, \\\n",
    "    gt, horizon, delim=\"\\t\", train=True)\n",
    "val_dataset, _ = create_dataset(dataset_folder, dataset_name, val_size, \\\n",
    "    gt, horizon, delim=\"\\t\", train=False)\n",
    "# test_dataset, _ = create_dataset(dataset_folder, dataset_name, val_size, \\\n",
    "#     gt, horizon, delim=\"\\t\", train=False, eval=True)\n",
    "\n",
    "# defining batch size\n",
    "batch_size = 64\n",
    "\n",
    "# creating torch dataloaders\n",
    "train_loader = torch.utils.data.DataLoader(train_dataset, batch_size, shuffle=True, num_workers=0)\n",
    "val_loader = torch.utils.data.DataLoader(val_dataset, batch_size, shuffle=True, num_workers=0)\n",
    "# test_loader = torch.utils.data.DataLoader(test_dataset, batch_size, shuffle=False, num_workers=0)"
   ]
  },
  {
   "cell_type": "code",
   "execution_count": 7,
   "metadata": {
    "colab": {
     "base_uri": "https://localhost:8080/",
     "height": 317
    },
    "id": "G9_HSan1MioM",
    "outputId": "167d23e6-88c0-4177-e583-7181c8511239"
   },
   "outputs": [
    {
     "name": "stdout",
     "output_type": "stream",
     "text": [
      "Value of eta max is: 0.0001\n"
     ]
    },
    {
     "data": {
      "image/png": "[encoded data removed]",
      "text/plain": [
       "<Figure size 640x480 with 1 Axes>"
      ]
     },
     "metadata": {},
     "output_type": "display_data"
    }
   ],
   "source": [
    "# learning rate finder algorithm for finding eta max\n",
    "\n",
    "# performing training\n",
    "device = torch.device('cuda' if torch.cuda.is_available() else 'cpu')\n",
    "\n",
    "# creating model\n",
    "encoder_ip_size = 2\n",
    "decoder_ip_size = 3\n",
    "model_op_size = 3\n",
    "emb_size = 512\n",
    "num_heads = 8\n",
    "ff_hidden_size = 2048\n",
    "n = 6\n",
    "dropout=0.1\n",
    "\n",
    "tf_model = TFModel(encoder_ip_size, decoder_ip_size, model_op_size, emb_size, \\\n",
    "                num_heads, ff_hidden_size, n, dropout=0.1).to(device)\n",
    "\n",
    "# number of iterations for LRF\n",
    "iterations = 70\n",
    "\n",
    "# creating optimizer\n",
    "# optimizer = torch.optim.SGD(tf_model.parameters(), lr=1e-4, momentum=0.9, weight_decay=1e-3, nesterov=True)\n",
    "optimizer = torch.optim.Adam(tf_model.parameters(), lr=1e-4)\n",
    "\n",
    "# calculating the mean and standard deviation of velocities of the entire dataset\n",
    "mean=torch.cat((train_dataset[:]['src'][:,1:,2:4],train_dataset[:]['trg'][:,:,2:4]),1).mean((0,1))\n",
    "std=torch.cat((train_dataset[:]['src'][:,1:,2:4],train_dataset[:]['trg'][:,:,2:4]),1).std((0,1))\n",
    "means=[]\n",
    "stds=[]\n",
    "for i in np.unique(train_dataset[:]['dataset']):\n",
    "    ind=train_dataset[:]['dataset']==i\n",
    "    means.append(torch.cat((train_dataset[:]['src'][ind, 1:, 2:4], train_dataset[:]['trg'][ind, :, 2:4]), 1).mean((0, 1)))\n",
    "    stds.append(\n",
    "        torch.cat((train_dataset[:]['src'][ind, 1:, 2:4], train_dataset[:]['trg'][ind, :, 2:4]), 1).std((0, 1)))\n",
    "mean=torch.stack(means).mean(0)\n",
    "std=torch.stack(stds).mean(0)\n",
    "\n",
    "train_loss, learning_rates = learning_rate_finder(tf_model, optimizer, train_loader, iterations, device, mean, std)\n",
    "eta_star = learning_rates[np.argmin(np.array(train_loss))]\n",
    "eta_max = eta_star/10\n",
    "print(\"Value of eta max is: {:.4f}\".format(eta_max))\n",
    "\n",
    "# plotting results\n",
    "plt.figure()\n",
    "plt.plot(learning_rates, train_loss)\n",
    "plt.xlabel(\"Learning rates\")\n",
    "plt.ylabel(\"Training loss\")\n",
    "plt.xscale('log')\n",
    "plt.title(\"Learning Rate Finder Algorithm\")\n",
    "plt.show()"
   ]
  },
  {
   "cell_type": "code",
   "execution_count": 8,
   "metadata": {
    "colab": {
     "base_uri": "https://localhost:8080/",
     "height": 415
    },
    "id": "J1viVzbAvkqC",
    "outputId": "dcfd50ba-53a8-4b4a-929a-43127187a040"
   },
   "outputs": [
    {
     "name": "stderr",
     "output_type": "stream",
     "text": [
      "  1%|          | 1/100 [00:36<1:00:27, 36.64s/it]"
     ]
    },
    {
     "name": "stdout",
     "output_type": "stream",
     "text": [
      "Epoch 1/100....Training loss = 0.8972\n"
     ]
    },
    {
     "name": "stderr",
     "output_type": "stream",
     "text": [
      "  2%|▏         | 2/100 [01:13<59:38, 36.52s/it]  "
     ]
    },
    {
     "name": "stdout",
     "output_type": "stream",
     "text": [
      "Epoch 2/100....Training loss = 0.4983\n"
     ]
    },
    {
     "name": "stderr",
     "output_type": "stream",
     "text": [
      "  3%|▎         | 3/100 [01:49<58:56, 36.46s/it]"
     ]
    },
    {
     "name": "stdout",
     "output_type": "stream",
     "text": [
      "Epoch 3/100....Training loss = 0.3781\n"
     ]
    },
    {
     "name": "stderr",
     "output_type": "stream",
     "text": [
      "  4%|▍         | 4/100 [02:25<58:20, 36.46s/it]"
     ]
    },
    {
     "name": "stdout",
     "output_type": "stream",
     "text": [
      "Epoch 4/100....Training loss = 0.3178\n",
      "Epoch 5/100....Training loss = 0.2850\n"
     ]
    },
    {
     "name": "stderr",
     "output_type": "stream",
     "text": [
      "  5%|▌         | 5/100 [03:17<1:06:30, 42.01s/it]"
     ]
    },
    {
     "name": "stdout",
     "output_type": "stream",
     "text": [
      "Epoch 5/100....Validation mad = 1.2188, Validation fad = 2.0603\n"
     ]
    },
    {
     "name": "stderr",
     "output_type": "stream",
     "text": [
      "  6%|▌         | 6/100 [03:54<1:02:48, 40.09s/it]"
     ]
    },
    {
     "name": "stdout",
     "output_type": "stream",
     "text": [
      "Epoch 6/100....Training loss = 0.2648\n"
     ]
    },
    {
     "name": "stderr",
     "output_type": "stream",
     "text": [
      "  7%|▋         | 7/100 [04:30<1:00:16, 38.89s/it]"
     ]
    },
    {
     "name": "stdout",
     "output_type": "stream",
     "text": [
      "Epoch 7/100....Training loss = 0.2432\n"
     ]
    },
    {
     "name": "stderr",
     "output_type": "stream",
     "text": [
      "  8%|▊         | 8/100 [05:06<58:25, 38.11s/it]  "
     ]
    },
    {
     "name": "stdout",
     "output_type": "stream",
     "text": [
      "Epoch 8/100....Training loss = 0.2215\n"
     ]
    },
    {
     "name": "stderr",
     "output_type": "stream",
     "text": [
      "  9%|▉         | 9/100 [05:43<56:56, 37.55s/it]"
     ]
    },
    {
     "name": "stdout",
     "output_type": "stream",
     "text": [
      "Epoch 9/100....Training loss = 0.2064\n",
      "Epoch 10/100....Training loss = 0.1844\n"
     ]
    },
    {
     "name": "stderr",
     "output_type": "stream",
     "text": [
      " 10%|█         | 10/100 [06:35<1:02:57, 41.97s/it]"
     ]
    },
    {
     "name": "stdout",
     "output_type": "stream",
     "text": [
      "Epoch 10/100....Validation mad = 0.4904, Validation fad = 1.0112\n"
     ]
    },
    {
     "name": "stderr",
     "output_type": "stream",
     "text": [
      " 11%|█         | 11/100 [07:11<59:43, 40.26s/it]  "
     ]
    },
    {
     "name": "stdout",
     "output_type": "stream",
     "text": [
      "Epoch 11/100....Training loss = 0.1754\n"
     ]
    },
    {
     "name": "stderr",
     "output_type": "stream",
     "text": [
      " 12%|█▏        | 12/100 [07:48<57:21, 39.10s/it]"
     ]
    },
    {
     "name": "stdout",
     "output_type": "stream",
     "text": [
      "Epoch 12/100....Training loss = 0.1711\n"
     ]
    },
    {
     "name": "stderr",
     "output_type": "stream",
     "text": [
      " 13%|█▎        | 13/100 [08:24<55:30, 38.28s/it]"
     ]
    },
    {
     "name": "stdout",
     "output_type": "stream",
     "text": [
      "Epoch 13/100....Training loss = 0.1683\n"
     ]
    },
    {
     "name": "stderr",
     "output_type": "stream",
     "text": [
      " 14%|█▍        | 14/100 [09:00<54:02, 37.71s/it]"
     ]
    },
    {
     "name": "stdout",
     "output_type": "stream",
     "text": [
      "Epoch 14/100....Training loss = 0.1660\n",
      "Epoch 15/100....Training loss = 0.1641\n"
     ]
    },
    {
     "name": "stderr",
     "output_type": "stream",
     "text": [
      " 15%|█▌        | 15/100 [09:52<59:28, 41.99s/it]"
     ]
    },
    {
     "name": "stdout",
     "output_type": "stream",
     "text": [
      "Epoch 15/100....Validation mad = 0.4837, Validation fad = 1.0507\n"
     ]
    },
    {
     "name": "stderr",
     "output_type": "stream",
     "text": [
      " 16%|█▌        | 16/100 [10:29<56:24, 40.29s/it]"
     ]
    },
    {
     "name": "stdout",
     "output_type": "stream",
     "text": [
      "Epoch 16/100....Training loss = 0.1629\n"
     ]
    },
    {
     "name": "stderr",
     "output_type": "stream",
     "text": [
      " 17%|█▋        | 17/100 [11:05<54:07, 39.12s/it]"
     ]
    },
    {
     "name": "stdout",
     "output_type": "stream",
     "text": [
      "Epoch 17/100....Training loss = 0.1612\n"
     ]
    },
    {
     "name": "stderr",
     "output_type": "stream",
     "text": [
      " 18%|█▊        | 18/100 [11:41<52:19, 38.29s/it]"
     ]
    },
    {
     "name": "stdout",
     "output_type": "stream",
     "text": [
      "Epoch 18/100....Training loss = 0.1604\n"
     ]
    },
    {
     "name": "stderr",
     "output_type": "stream",
     "text": [
      " 19%|█▉        | 19/100 [12:18<50:53, 37.70s/it]"
     ]
    },
    {
     "name": "stdout",
     "output_type": "stream",
     "text": [
      "Epoch 19/100....Training loss = 0.1594\n",
      "Epoch 20/100....Training loss = 0.1588\n",
      "Epoch 20/100....Validation mad = 0.4868, Validation fad = 1.0821\n"
     ]
    },
    {
     "name": "stderr",
     "output_type": "stream",
     "text": [
      " 21%|██        | 21/100 [13:49<53:57, 40.98s/it]"
     ]
    },
    {
     "name": "stdout",
     "output_type": "stream",
     "text": [
      "Epoch 21/100....Training loss = 0.1577\n"
     ]
    },
    {
     "name": "stderr",
     "output_type": "stream",
     "text": [
      " 22%|██▏       | 22/100 [14:26<51:29, 39.61s/it]"
     ]
    },
    {
     "name": "stdout",
     "output_type": "stream",
     "text": [
      "Epoch 22/100....Training loss = 0.1575\n"
     ]
    },
    {
     "name": "stderr",
     "output_type": "stream",
     "text": [
      " 23%|██▎       | 23/100 [15:02<49:31, 38.60s/it]"
     ]
    },
    {
     "name": "stdout",
     "output_type": "stream",
     "text": [
      "Epoch 23/100....Training loss = 0.1553\n"
     ]
    },
    {
     "name": "stderr",
     "output_type": "stream",
     "text": [
      " 24%|██▍       | 24/100 [15:38<48:03, 37.94s/it]"
     ]
    },
    {
     "name": "stdout",
     "output_type": "stream",
     "text": [
      "Epoch 24/100....Training loss = 0.1549\n",
      "Epoch 25/100....Training loss = 0.1546\n"
     ]
    },
    {
     "name": "stderr",
     "output_type": "stream",
     "text": [
      " 25%|██▌       | 25/100 [16:30<52:37, 42.10s/it]"
     ]
    },
    {
     "name": "stdout",
     "output_type": "stream",
     "text": [
      "Epoch 25/100....Validation mad = 0.4891, Validation fad = 1.0636\n"
     ]
    },
    {
     "name": "stderr",
     "output_type": "stream",
     "text": [
      " 26%|██▌       | 26/100 [17:06<49:45, 40.35s/it]"
     ]
    },
    {
     "name": "stdout",
     "output_type": "stream",
     "text": [
      "Epoch 26/100....Training loss = 0.1542\n"
     ]
    },
    {
     "name": "stderr",
     "output_type": "stream",
     "text": [
      " 27%|██▋       | 27/100 [17:43<47:37, 39.14s/it]"
     ]
    },
    {
     "name": "stdout",
     "output_type": "stream",
     "text": [
      "Epoch 27/100....Training loss = 0.1536\n"
     ]
    },
    {
     "name": "stderr",
     "output_type": "stream",
     "text": [
      " 28%|██▊       | 28/100 [18:19<45:56, 38.29s/it]"
     ]
    },
    {
     "name": "stdout",
     "output_type": "stream",
     "text": [
      "Epoch 28/100....Training loss = 0.1532\n"
     ]
    },
    {
     "name": "stderr",
     "output_type": "stream",
     "text": [
      " 29%|██▉       | 29/100 [18:55<44:36, 37.70s/it]"
     ]
    },
    {
     "name": "stdout",
     "output_type": "stream",
     "text": [
      "Epoch 29/100....Training loss = 0.1527\n",
      "Epoch 30/100....Training loss = 0.1521\n"
     ]
    },
    {
     "name": "stderr",
     "output_type": "stream",
     "text": [
      " 30%|███       | 30/100 [19:47<48:52, 41.90s/it]"
     ]
    },
    {
     "name": "stdout",
     "output_type": "stream",
     "text": [
      "Epoch 30/100....Validation mad = 0.4555, Validation fad = 0.9898\n"
     ]
    },
    {
     "name": "stderr",
     "output_type": "stream",
     "text": [
      " 31%|███       | 31/100 [20:23<46:15, 40.22s/it]"
     ]
    },
    {
     "name": "stdout",
     "output_type": "stream",
     "text": [
      "Epoch 31/100....Training loss = 0.1518\n"
     ]
    },
    {
     "name": "stderr",
     "output_type": "stream",
     "text": [
      " 32%|███▏      | 32/100 [20:59<44:13, 39.02s/it]"
     ]
    },
    {
     "name": "stdout",
     "output_type": "stream",
     "text": [
      "Epoch 32/100....Training loss = 0.1512\n"
     ]
    },
    {
     "name": "stderr",
     "output_type": "stream",
     "text": [
      " 33%|███▎      | 33/100 [21:36<42:37, 38.17s/it]"
     ]
    },
    {
     "name": "stdout",
     "output_type": "stream",
     "text": [
      "Epoch 33/100....Training loss = 0.1509\n"
     ]
    },
    {
     "name": "stderr",
     "output_type": "stream",
     "text": [
      " 34%|███▍      | 34/100 [22:12<41:21, 37.60s/it]"
     ]
    },
    {
     "name": "stdout",
     "output_type": "stream",
     "text": [
      "Epoch 34/100....Training loss = 0.1508\n",
      "Epoch 35/100....Training loss = 0.1503\n"
     ]
    },
    {
     "name": "stderr",
     "output_type": "stream",
     "text": [
      " 35%|███▌      | 35/100 [23:04<45:16, 41.79s/it]"
     ]
    },
    {
     "name": "stdout",
     "output_type": "stream",
     "text": [
      "Epoch 35/100....Validation mad = 0.4775, Validation fad = 1.0488\n"
     ]
    },
    {
     "name": "stderr",
     "output_type": "stream",
     "text": [
      " 36%|███▌      | 36/100 [23:40<42:48, 40.14s/it]"
     ]
    },
    {
     "name": "stdout",
     "output_type": "stream",
     "text": [
      "Epoch 36/100....Training loss = 0.1503\n"
     ]
    },
    {
     "name": "stderr",
     "output_type": "stream",
     "text": [
      " 37%|███▋      | 37/100 [24:16<40:54, 38.97s/it]"
     ]
    },
    {
     "name": "stdout",
     "output_type": "stream",
     "text": [
      "Epoch 37/100....Training loss = 0.1500\n"
     ]
    },
    {
     "name": "stderr",
     "output_type": "stream",
     "text": [
      " 38%|███▊      | 38/100 [24:52<39:24, 38.14s/it]"
     ]
    },
    {
     "name": "stdout",
     "output_type": "stream",
     "text": [
      "Epoch 38/100....Training loss = 0.1495\n"
     ]
    },
    {
     "name": "stderr",
     "output_type": "stream",
     "text": [
      " 39%|███▉      | 39/100 [25:29<38:13, 37.61s/it]"
     ]
    },
    {
     "name": "stdout",
     "output_type": "stream",
     "text": [
      "Epoch 39/100....Training loss = 0.1492\n",
      "Epoch 40/100....Training loss = 0.1489\n",
      "Epoch 40/100....Validation mad = 0.4663, Validation fad = 1.0234\n"
     ]
    },
    {
     "name": "stderr",
     "output_type": "stream",
     "text": [
      " 41%|████      | 41/100 [27:00<40:11, 40.87s/it]"
     ]
    },
    {
     "name": "stdout",
     "output_type": "stream",
     "text": [
      "Epoch 41/100....Training loss = 0.1487\n"
     ]
    },
    {
     "name": "stderr",
     "output_type": "stream",
     "text": [
      " 42%|████▏     | 42/100 [27:36<38:07, 39.44s/it]"
     ]
    },
    {
     "name": "stdout",
     "output_type": "stream",
     "text": [
      "Epoch 42/100....Training loss = 0.1485\n"
     ]
    },
    {
     "name": "stderr",
     "output_type": "stream",
     "text": [
      " 43%|████▎     | 43/100 [28:12<36:29, 38.42s/it]"
     ]
    },
    {
     "name": "stdout",
     "output_type": "stream",
     "text": [
      "Epoch 43/100....Training loss = 0.1484\n"
     ]
    },
    {
     "name": "stderr",
     "output_type": "stream",
     "text": [
      " 44%|████▍     | 44/100 [28:48<35:12, 37.72s/it]"
     ]
    },
    {
     "name": "stdout",
     "output_type": "stream",
     "text": [
      "Epoch 44/100....Training loss = 0.1481\n",
      "Epoch 45/100....Training loss = 0.1478\n"
     ]
    },
    {
     "name": "stderr",
     "output_type": "stream",
     "text": [
      " 45%|████▌     | 45/100 [29:40<38:19, 41.80s/it]"
     ]
    },
    {
     "name": "stdout",
     "output_type": "stream",
     "text": [
      "Epoch 45/100....Validation mad = 0.4536, Validation fad = 0.9830\n"
     ]
    },
    {
     "name": "stderr",
     "output_type": "stream",
     "text": [
      " 46%|████▌     | 46/100 [30:16<36:05, 40.10s/it]"
     ]
    },
    {
     "name": "stdout",
     "output_type": "stream",
     "text": [
      "Epoch 46/100....Training loss = 0.1477\n"
     ]
    },
    {
     "name": "stderr",
     "output_type": "stream",
     "text": [
      " 47%|████▋     | 47/100 [30:52<34:20, 38.87s/it]"
     ]
    },
    {
     "name": "stdout",
     "output_type": "stream",
     "text": [
      "Epoch 47/100....Training loss = 0.1473\n"
     ]
    },
    {
     "name": "stderr",
     "output_type": "stream",
     "text": [
      " 48%|████▊     | 48/100 [31:28<32:58, 38.05s/it]"
     ]
    },
    {
     "name": "stdout",
     "output_type": "stream",
     "text": [
      "Epoch 48/100....Training loss = 0.1472\n"
     ]
    },
    {
     "name": "stderr",
     "output_type": "stream",
     "text": [
      " 49%|████▉     | 49/100 [32:04<31:49, 37.45s/it]"
     ]
    },
    {
     "name": "stdout",
     "output_type": "stream",
     "text": [
      "Epoch 49/100....Training loss = 0.1470\n",
      "Epoch 50/100....Training loss = 0.1467\n"
     ]
    },
    {
     "name": "stderr",
     "output_type": "stream",
     "text": [
      " 50%|█████     | 50/100 [32:55<34:41, 41.64s/it]"
     ]
    },
    {
     "name": "stdout",
     "output_type": "stream",
     "text": [
      "Epoch 50/100....Validation mad = 0.4460, Validation fad = 0.9761\n"
     ]
    },
    {
     "name": "stderr",
     "output_type": "stream",
     "text": [
      " 51%|█████     | 51/100 [33:31<32:37, 39.95s/it]"
     ]
    },
    {
     "name": "stdout",
     "output_type": "stream",
     "text": [
      "Epoch 51/100....Training loss = 0.1465\n"
     ]
    },
    {
     "name": "stderr",
     "output_type": "stream",
     "text": [
      " 52%|█████▏    | 52/100 [34:07<30:59, 38.75s/it]"
     ]
    },
    {
     "name": "stdout",
     "output_type": "stream",
     "text": [
      "Epoch 52/100....Training loss = 0.1464\n"
     ]
    },
    {
     "name": "stderr",
     "output_type": "stream",
     "text": [
      " 53%|█████▎    | 53/100 [34:43<29:43, 37.94s/it]"
     ]
    },
    {
     "name": "stdout",
     "output_type": "stream",
     "text": [
      "Epoch 53/100....Training loss = 0.1463\n"
     ]
    },
    {
     "name": "stderr",
     "output_type": "stream",
     "text": [
      " 54%|█████▍    | 54/100 [35:19<28:38, 37.36s/it]"
     ]
    },
    {
     "name": "stdout",
     "output_type": "stream",
     "text": [
      "Epoch 54/100....Training loss = 0.1462\n",
      "Epoch 55/100....Training loss = 0.1458\n"
     ]
    },
    {
     "name": "stderr",
     "output_type": "stream",
     "text": [
      " 55%|█████▌    | 55/100 [36:11<31:10, 41.57s/it]"
     ]
    },
    {
     "name": "stdout",
     "output_type": "stream",
     "text": [
      "Epoch 55/100....Validation mad = 0.4666, Validation fad = 1.0249\n"
     ]
    },
    {
     "name": "stderr",
     "output_type": "stream",
     "text": [
      " 56%|█████▌    | 56/100 [36:47<29:15, 39.91s/it]"
     ]
    },
    {
     "name": "stdout",
     "output_type": "stream",
     "text": [
      "Epoch 56/100....Training loss = 0.1457\n"
     ]
    },
    {
     "name": "stderr",
     "output_type": "stream",
     "text": [
      " 57%|█████▋    | 57/100 [37:23<27:45, 38.73s/it]"
     ]
    },
    {
     "name": "stdout",
     "output_type": "stream",
     "text": [
      "Epoch 57/100....Training loss = 0.1456\n"
     ]
    },
    {
     "name": "stderr",
     "output_type": "stream",
     "text": [
      " 58%|█████▊    | 58/100 [37:59<26:32, 37.91s/it]"
     ]
    },
    {
     "name": "stdout",
     "output_type": "stream",
     "text": [
      "Epoch 58/100....Training loss = 0.1455\n"
     ]
    },
    {
     "name": "stderr",
     "output_type": "stream",
     "text": [
      " 59%|█████▉    | 59/100 [38:35<25:30, 37.34s/it]"
     ]
    },
    {
     "name": "stdout",
     "output_type": "stream",
     "text": [
      "Epoch 59/100....Training loss = 0.1451\n",
      "Epoch 60/100....Training loss = 0.1450\n",
      "Epoch 60/100....Validation mad = 0.4428, Validation fad = 0.9665\n"
     ]
    },
    {
     "name": "stderr",
     "output_type": "stream",
     "text": [
      " 61%|██████    | 61/100 [40:06<26:26, 40.67s/it]"
     ]
    },
    {
     "name": "stdout",
     "output_type": "stream",
     "text": [
      "Epoch 61/100....Training loss = 0.1449\n"
     ]
    },
    {
     "name": "stderr",
     "output_type": "stream",
     "text": [
      " 62%|██████▏   | 62/100 [40:42<24:53, 39.31s/it]"
     ]
    },
    {
     "name": "stdout",
     "output_type": "stream",
     "text": [
      "Epoch 62/100....Training loss = 0.1449\n"
     ]
    },
    {
     "name": "stderr",
     "output_type": "stream",
     "text": [
      " 63%|██████▎   | 63/100 [41:18<23:37, 38.32s/it]"
     ]
    },
    {
     "name": "stdout",
     "output_type": "stream",
     "text": [
      "Epoch 63/100....Training loss = 0.1447\n"
     ]
    },
    {
     "name": "stderr",
     "output_type": "stream",
     "text": [
      " 64%|██████▍   | 64/100 [41:54<22:35, 37.64s/it]"
     ]
    },
    {
     "name": "stdout",
     "output_type": "stream",
     "text": [
      "Epoch 64/100....Training loss = 0.1444\n",
      "Epoch 65/100....Training loss = 0.1443\n"
     ]
    },
    {
     "name": "stderr",
     "output_type": "stream",
     "text": [
      " 65%|██████▌   | 65/100 [42:46<24:23, 41.82s/it]"
     ]
    },
    {
     "name": "stdout",
     "output_type": "stream",
     "text": [
      "Epoch 65/100....Validation mad = 0.4568, Validation fad = 1.0033\n"
     ]
    },
    {
     "name": "stderr",
     "output_type": "stream",
     "text": [
      " 66%|██████▌   | 66/100 [43:22<22:42, 40.07s/it]"
     ]
    },
    {
     "name": "stdout",
     "output_type": "stream",
     "text": [
      "Epoch 66/100....Training loss = 0.1441\n"
     ]
    },
    {
     "name": "stderr",
     "output_type": "stream",
     "text": [
      " 67%|██████▋   | 67/100 [43:58<21:23, 38.88s/it]"
     ]
    },
    {
     "name": "stdout",
     "output_type": "stream",
     "text": [
      "Epoch 67/100....Training loss = 0.1443\n"
     ]
    },
    {
     "name": "stderr",
     "output_type": "stream",
     "text": [
      " 68%|██████▊   | 68/100 [44:34<20:17, 38.06s/it]"
     ]
    },
    {
     "name": "stdout",
     "output_type": "stream",
     "text": [
      "Epoch 68/100....Training loss = 0.1438\n"
     ]
    },
    {
     "name": "stderr",
     "output_type": "stream",
     "text": [
      " 69%|██████▉   | 69/100 [45:10<19:22, 37.49s/it]"
     ]
    },
    {
     "name": "stdout",
     "output_type": "stream",
     "text": [
      "Epoch 69/100....Training loss = 0.1437\n",
      "Epoch 70/100....Training loss = 0.1437\n"
     ]
    },
    {
     "name": "stderr",
     "output_type": "stream",
     "text": [
      " 70%|███████   | 70/100 [46:01<20:50, 41.67s/it]"
     ]
    },
    {
     "name": "stdout",
     "output_type": "stream",
     "text": [
      "Epoch 70/100....Validation mad = 0.4583, Validation fad = 1.0055\n"
     ]
    },
    {
     "name": "stderr",
     "output_type": "stream",
     "text": [
      " 71%|███████   | 71/100 [46:37<19:19, 40.00s/it]"
     ]
    },
    {
     "name": "stdout",
     "output_type": "stream",
     "text": [
      "Epoch 71/100....Training loss = 0.1435\n"
     ]
    },
    {
     "name": "stderr",
     "output_type": "stream",
     "text": [
      " 72%|███████▏  | 72/100 [47:14<18:07, 38.85s/it]"
     ]
    },
    {
     "name": "stdout",
     "output_type": "stream",
     "text": [
      "Epoch 72/100....Training loss = 0.1435\n"
     ]
    },
    {
     "name": "stderr",
     "output_type": "stream",
     "text": [
      " 73%|███████▎  | 73/100 [47:50<17:06, 38.03s/it]"
     ]
    },
    {
     "name": "stdout",
     "output_type": "stream",
     "text": [
      "Epoch 73/100....Training loss = 0.1433\n"
     ]
    },
    {
     "name": "stderr",
     "output_type": "stream",
     "text": [
      " 74%|███████▍  | 74/100 [48:26<16:14, 37.47s/it]"
     ]
    },
    {
     "name": "stdout",
     "output_type": "stream",
     "text": [
      "Epoch 74/100....Training loss = 0.1431\n",
      "Epoch 75/100....Training loss = 0.1431\n"
     ]
    },
    {
     "name": "stderr",
     "output_type": "stream",
     "text": [
      " 75%|███████▌  | 75/100 [49:17<17:21, 41.67s/it]"
     ]
    },
    {
     "name": "stdout",
     "output_type": "stream",
     "text": [
      "Epoch 75/100....Validation mad = 0.4617, Validation fad = 1.0232\n"
     ]
    },
    {
     "name": "stderr",
     "output_type": "stream",
     "text": [
      " 76%|███████▌  | 76/100 [49:53<15:59, 39.99s/it]"
     ]
    },
    {
     "name": "stdout",
     "output_type": "stream",
     "text": [
      "Epoch 76/100....Training loss = 0.1430\n"
     ]
    },
    {
     "name": "stderr",
     "output_type": "stream",
     "text": [
      " 77%|███████▋  | 77/100 [50:30<14:52, 38.82s/it]"
     ]
    },
    {
     "name": "stdout",
     "output_type": "stream",
     "text": [
      "Epoch 77/100....Training loss = 0.1429\n"
     ]
    },
    {
     "name": "stderr",
     "output_type": "stream",
     "text": [
      " 78%|███████▊  | 78/100 [51:06<13:55, 37.98s/it]"
     ]
    },
    {
     "name": "stdout",
     "output_type": "stream",
     "text": [
      "Epoch 78/100....Training loss = 0.1428\n"
     ]
    },
    {
     "name": "stderr",
     "output_type": "stream",
     "text": [
      " 79%|███████▉  | 79/100 [51:42<13:06, 37.43s/it]"
     ]
    },
    {
     "name": "stdout",
     "output_type": "stream",
     "text": [
      "Epoch 79/100....Training loss = 0.1426\n",
      "Epoch 80/100....Training loss = 0.1426\n",
      "Epoch 80/100....Validation mad = 0.4619, Validation fad = 1.0306\n"
     ]
    },
    {
     "name": "stderr",
     "output_type": "stream",
     "text": [
      " 81%|████████  | 81/100 [53:13<12:53, 40.69s/it]"
     ]
    },
    {
     "name": "stdout",
     "output_type": "stream",
     "text": [
      "Epoch 81/100....Training loss = 0.1426\n"
     ]
    },
    {
     "name": "stderr",
     "output_type": "stream",
     "text": [
      " 82%|████████▏ | 82/100 [53:49<11:47, 39.31s/it]"
     ]
    },
    {
     "name": "stdout",
     "output_type": "stream",
     "text": [
      "Epoch 82/100....Training loss = 0.1423\n"
     ]
    },
    {
     "name": "stderr",
     "output_type": "stream",
     "text": [
      " 83%|████████▎ | 83/100 [54:25<10:51, 38.33s/it]"
     ]
    },
    {
     "name": "stdout",
     "output_type": "stream",
     "text": [
      "Epoch 83/100....Training loss = 0.1424\n"
     ]
    },
    {
     "name": "stderr",
     "output_type": "stream",
     "text": [
      " 84%|████████▍ | 84/100 [55:01<10:02, 37.63s/it]"
     ]
    },
    {
     "name": "stdout",
     "output_type": "stream",
     "text": [
      "Epoch 84/100....Training loss = 0.1421\n",
      "Epoch 85/100....Training loss = 0.1420\n"
     ]
    },
    {
     "name": "stderr",
     "output_type": "stream",
     "text": [
      " 85%|████████▌ | 85/100 [55:52<10:26, 41.76s/it]"
     ]
    },
    {
     "name": "stdout",
     "output_type": "stream",
     "text": [
      "Epoch 85/100....Validation mad = 0.4678, Validation fad = 1.0420\n"
     ]
    },
    {
     "name": "stderr",
     "output_type": "stream",
     "text": [
      " 86%|████████▌ | 86/100 [56:28<09:20, 40.04s/it]"
     ]
    },
    {
     "name": "stdout",
     "output_type": "stream",
     "text": [
      "Epoch 86/100....Training loss = 0.1421\n"
     ]
    },
    {
     "name": "stderr",
     "output_type": "stream",
     "text": [
      " 87%|████████▋ | 87/100 [57:04<08:24, 38.81s/it]"
     ]
    },
    {
     "name": "stdout",
     "output_type": "stream",
     "text": [
      "Epoch 87/100....Training loss = 0.1419\n"
     ]
    },
    {
     "name": "stderr",
     "output_type": "stream",
     "text": [
      " 88%|████████▊ | 88/100 [57:40<07:35, 37.98s/it]"
     ]
    },
    {
     "name": "stdout",
     "output_type": "stream",
     "text": [
      "Epoch 88/100....Training loss = 0.1419\n"
     ]
    },
    {
     "name": "stderr",
     "output_type": "stream",
     "text": [
      " 89%|████████▉ | 89/100 [58:16<06:51, 37.40s/it]"
     ]
    },
    {
     "name": "stdout",
     "output_type": "stream",
     "text": [
      "Epoch 89/100....Training loss = 0.1418\n",
      "Epoch 90/100....Training loss = 0.1416\n"
     ]
    },
    {
     "name": "stderr",
     "output_type": "stream",
     "text": [
      " 90%|█████████ | 90/100 [59:08<06:55, 41.59s/it]"
     ]
    },
    {
     "name": "stdout",
     "output_type": "stream",
     "text": [
      "Epoch 90/100....Validation mad = 0.4764, Validation fad = 1.0623\n"
     ]
    },
    {
     "name": "stderr",
     "output_type": "stream",
     "text": [
      " 91%|█████████ | 91/100 [59:44<05:59, 39.93s/it]"
     ]
    },
    {
     "name": "stdout",
     "output_type": "stream",
     "text": [
      "Epoch 91/100....Training loss = 0.1415\n"
     ]
    },
    {
     "name": "stderr",
     "output_type": "stream",
     "text": [
      " 92%|█████████▏| 92/100 [1:00:20<05:10, 38.77s/it]"
     ]
    },
    {
     "name": "stdout",
     "output_type": "stream",
     "text": [
      "Epoch 92/100....Training loss = 0.1415\n"
     ]
    },
    {
     "name": "stderr",
     "output_type": "stream",
     "text": [
      " 93%|█████████▎| 93/100 [1:00:56<04:25, 37.95s/it]"
     ]
    },
    {
     "name": "stdout",
     "output_type": "stream",
     "text": [
      "Epoch 93/100....Training loss = 0.1414\n"
     ]
    },
    {
     "name": "stderr",
     "output_type": "stream",
     "text": [
      " 94%|█████████▍| 94/100 [1:01:32<03:44, 37.37s/it]"
     ]
    },
    {
     "name": "stdout",
     "output_type": "stream",
     "text": [
      "Epoch 94/100....Training loss = 0.1414\n",
      "Epoch 95/100....Training loss = 0.1413\n"
     ]
    },
    {
     "name": "stderr",
     "output_type": "stream",
     "text": [
      " 95%|█████████▌| 95/100 [1:02:23<03:27, 41.58s/it]"
     ]
    },
    {
     "name": "stdout",
     "output_type": "stream",
     "text": [
      "Epoch 95/100....Validation mad = 0.4725, Validation fad = 1.0540\n"
     ]
    },
    {
     "name": "stderr",
     "output_type": "stream",
     "text": [
      " 96%|█████████▌| 96/100 [1:02:59<02:39, 39.89s/it]"
     ]
    },
    {
     "name": "stdout",
     "output_type": "stream",
     "text": [
      "Epoch 96/100....Training loss = 0.1413\n"
     ]
    },
    {
     "name": "stderr",
     "output_type": "stream",
     "text": [
      " 97%|█████████▋| 97/100 [1:03:35<01:56, 38.73s/it]"
     ]
    },
    {
     "name": "stdout",
     "output_type": "stream",
     "text": [
      "Epoch 97/100....Training loss = 0.1412\n"
     ]
    },
    {
     "name": "stderr",
     "output_type": "stream",
     "text": [
      " 98%|█████████▊| 98/100 [1:04:11<01:15, 37.95s/it]"
     ]
    },
    {
     "name": "stdout",
     "output_type": "stream",
     "text": [
      "Epoch 98/100....Training loss = 0.1411\n"
     ]
    },
    {
     "name": "stderr",
     "output_type": "stream",
     "text": [
      " 99%|█████████▉| 99/100 [1:04:47<00:37, 37.43s/it]"
     ]
    },
    {
     "name": "stdout",
     "output_type": "stream",
     "text": [
      "Epoch 99/100....Training loss = 0.1411\n",
      "Epoch 100/100....Training loss = 0.1410\n",
      "Epoch 100/100....Validation mad = 0.4742, Validation fad = 1.0591\n"
     ]
    },
    {
     "name": "stderr",
     "output_type": "stream",
     "text": [
      "100%|██████████| 100/100 [1:05:40<00:00, 39.40s/it]\n"
     ]
    }
   ],
   "source": [
    "# training loop\n",
    "\n",
    "# creating model\n",
    "encoder_ip_size = 2\n",
    "decoder_ip_size = 3\n",
    "model_op_size = 3\n",
    "emb_size = 512\n",
    "num_heads = 8\n",
    "ff_hidden_size = 2048\n",
    "n = 6\n",
    "dropout=0.1\n",
    "\n",
    "tf_model = TFModel(encoder_ip_size, decoder_ip_size, model_op_size, emb_size, \\\n",
    "                num_heads, ff_hidden_size, n, dropout=0.1)\n",
    "tf_model = tf_model.to(device)\n",
    "\n",
    "# creating optimizer\n",
    "# optimizer = torch.optim.SGD(tf_model.parameters(), lr=1e-4, momentum=0.9, weight_decay=1e-3, nesterov=True)\n",
    "optimizer = torch.optim.Adam(tf_model.parameters(), lr=1e-4)\n",
    "\n",
    "# number of epochs \n",
    "epochs = 100\n",
    "\n",
    "# metric variables\n",
    "training_loss = []\n",
    "validation_loss = []\n",
    "val_mad = []\n",
    "val_fad = []\n",
    "\n",
    "# finding the total number of weight updates for the network\n",
    "T = epochs * len(train_loader)\n",
    "# initializing variable to track the number of weight updates\n",
    "weight_update = 0\n",
    "# initializing variable to store the changing learning rate\n",
    "learning_rate = []\n",
    "\n",
    "for epoch in tqdm(range(epochs)):\n",
    "    # TRAINING MODE\n",
    "    tf_model.train()\n",
    "    \n",
    "    # training batch variables\n",
    "    train_batch_loss = 0\n",
    "\n",
    "    for idx, data in enumerate(train_loader):\n",
    "        # changing the learning rate based on cosine scheduler\n",
    "        lr = cosine_scheduler(weight_update, eta_max, T)\n",
    "        for param in optimizer.param_groups:\n",
    "            learning_rate.append(lr)\n",
    "            param['lr'] = lr\n",
    "        weight_update += 1\n",
    "\n",
    "        # getting encoder input data\n",
    "        enc_input = (data['src'][:,1:,2:4].to(device)-mean.to(device))/std.to(device)\n",
    "\n",
    "        # getting decoder input data\n",
    "        target = (data['trg'][:,:-1,2:4].to(device)-mean.to(device))/std.to(device)\n",
    "        target_append = torch.zeros((target.shape[0],target.shape[1],1)).to(device)\n",
    "        target = torch.cat((target,target_append),-1)\n",
    "        start_of_seq = torch.Tensor([0, 0, 1]).unsqueeze(0).unsqueeze(1).repeat(target.shape[0],1,1).to(device)\n",
    "        dec_input = torch.cat((start_of_seq, target), 1)\n",
    "\n",
    "        # getting masks for decoder\n",
    "        dec_source_mask = torch.ones((enc_input.shape[0], 1,enc_input.shape[1])).to(device)\n",
    "        dec_target_mask = subsequent_mask(dec_input.shape[1]).repeat(dec_input.shape[0],1,1).to(device)\n",
    "\n",
    "        # forward pass \n",
    "        optimizer.zero_grad()\n",
    "        predictions = tf_model.forward(enc_input, dec_input, dec_source_mask, dec_target_mask)\n",
    "\n",
    "        # calculating loss using pairwise distance of all predictions\n",
    "        loss = F.pairwise_distance(predictions[:, :,0:2].contiguous().view(-1, 2),\n",
    "                                    ((data['trg'][:, :, 2:4].to(device)-mean.to(device))/std.to(device)).\\\n",
    "                                    contiguous().view(-1, 2).to(device)).mean() + \\\n",
    "                                    torch.mean(torch.abs(predictions[:,:,2]))\n",
    "        train_batch_loss += loss.item()\n",
    "        \n",
    "        # updating weights\n",
    "        loss.backward()\n",
    "        optimizer.step()\n",
    "\n",
    "    training_loss.append(train_batch_loss/len(train_loader))\n",
    "    print(\"Epoch {}/{}....Training loss = {:.4f}\".format(epoch+1, epochs, training_loss[-1]))\n",
    "\n",
    "\n",
    "    # validation loop\n",
    "    if (epoch+1)%5 == 0:\n",
    "        with torch.no_grad():\n",
    "            # EVALUATION MODE\n",
    "            tf_model.eval()\n",
    "            \n",
    "            # validation variables\n",
    "            batch_val_loss=0\n",
    "            gt = []\n",
    "            pr = []\n",
    "\n",
    "            for id_b, data in enumerate(val_loader):\n",
    "                # storing groung truth \n",
    "                gt.append(data['trg'][:, :, 0:2])\n",
    "\n",
    "                # input to encoder input\n",
    "                val_input = (data['src'][:,1:,2:4].to(device)-mean.to(device))/std.to(device)\n",
    "\n",
    "                # input to decoder\n",
    "                start_of_seq = torch.Tensor([0, 0, 1]).unsqueeze(0).unsqueeze(1).repeat(val_input.shape[0], 1, 1).to(device)\n",
    "                dec_inp = start_of_seq\n",
    "                # decoder masks\n",
    "                dec_source_mask = torch.ones((val_input.shape[0], 1, val_input.shape[1])).to(device)\n",
    "                dec_target_mask = subsequent_mask(dec_inp.shape[1]).repeat(dec_inp.shape[0], 1, 1).to(device)\n",
    "\n",
    "                # prediction till horizon lenght\n",
    "                for i in range(horizon):\n",
    "                    # getting model prediction\n",
    "                    model_output = tf_model.forward(val_input, dec_inp, dec_source_mask, dec_target_mask)\n",
    "                    # appending the predicition to decoder input for next cycle\n",
    "                    dec_inp = torch.cat((dec_inp, model_output[:, -1:, :]), 1)\n",
    "\n",
    "                # calculating loss using pairwise distance of all predictions\n",
    "                val_loss = F.pairwise_distance(dec_inp[:,1:,0:2].contiguous().view(-1, 2),\n",
    "                                        ((data['trg'][:, :, 2:4].to(device)-mean.to(device))/std.to(device)).\\\n",
    "                                            contiguous().view(-1, 2).to(device)).mean() + \\\n",
    "                                            torch.mean(torch.abs(dec_inp[:,1:,2]))\n",
    "                batch_val_loss += val_loss.item()\n",
    "\n",
    "                # calculating the position for each time step of prediction based on velocity\n",
    "                preds_tr_b = (dec_inp[:, 1:, 0:2]*std.to(device) + mean.to(device)).cpu().numpy().cumsum(1) + \\\n",
    "                    data['src'][:,-1:,0:2].cpu().numpy()\n",
    "\n",
    "                pr.append(preds_tr_b)\n",
    "            validation_loss.append(batch_val_loss/len(val_loader))\n",
    "\n",
    "            # calculating mad and fad evaluation metrics\n",
    "            gt = np.concatenate(gt, 0)\n",
    "            pr = np.concatenate(pr, 0)\n",
    "            mad, fad, _ = distance_metrics(gt, pr)\n",
    "            val_mad.append(mad)\n",
    "            val_fad.append(fad)\n",
    "\n",
    "            print(\"Epoch {}/{}....Validation mad = {:.4f}, Validation fad = {:.4f}\".format(epoch+1, epochs, mad, fad))\n",
    "\n",
    "    if (epoch+1)%20 == 0:\n",
    "        # Saving model, loss and error log files\n",
    "        torch.save({\n",
    "            'model_state_dict': tf_model.state_dict(),\n",
    "            'optimizer_state_dict': optimizer.state_dict(),\n",
    "            'training_loss': training_loss,\n",
    "            'validation_loss': validation_loss,\n",
    "            'val_mad': val_mad,\n",
    "            'val_fad':val_fad,\n",
    "            'learning_rate':learning_rate\n",
    "            }, os.path.join(save_location, 'raw_cosine_sgd_epoch{}.pth'.format(epoch+1)))\n",
    "    "
   ]
  },
  {
   "cell_type": "code",
   "execution_count": 10,
   "metadata": {
    "id": "yl1z_G7FFsYK"
   },
   "outputs": [],
   "source": [
    "# loading saved model file\n",
    "\n",
    "PATH = \"./models\"\n",
    "device = \"cuda\" if torch.cuda.is_available() else \"cpu\"\n",
    "loaded_file = torch.load(os.path.join(PATH, 'raw_cosine_sgd_epoch100.pth'), map_location=torch.device(device))\n",
    "\n",
    "# creating model and loading weights\n",
    "encoder_ip_size = 2\n",
    "decoder_ip_size = 3\n",
    "model_op_size = 3\n",
    "emb_size = 512\n",
    "num_heads = 8\n",
    "ff_hidden_size = 2048\n",
    "n = 6\n",
    "dropout=0.1\n",
    "\n",
    "model_loaded = TFModel(encoder_ip_size, decoder_ip_size, model_op_size, emb_size, \\\n",
    "                num_heads, ff_hidden_size, n, dropout=0.1)\n",
    "model_loaded = model_loaded.to(device)\n",
    "model_loaded.load_state_dict(loaded_file['model_state_dict'])\n",
    "\n",
    "# loading training metric variables\n",
    "training_loss = loaded_file['training_loss']\n",
    "validation_loss = loaded_file['validation_loss']\n",
    "val_mad = loaded_file['val_mad']\n",
    "val_fad = loaded_file['val_fad']\n",
    "learning_rate = loaded_file['learning_rate']"
   ]
  },
  {
   "cell_type": "code",
   "execution_count": 11,
   "metadata": {
    "colab": {
     "base_uri": "https://localhost:8080/",
     "height": 1000
    },
    "id": "tDmeq7rFGVoY",
    "outputId": "eaa01e65-dc67-480b-955c-af8b82a1cd62"
   },
   "outputs": [
    {
     "data": {
      "text/plain": [
       "Text(0.5, 1.0, 'Validation FAD VS Number of Epochs')"
      ]
     },
     "execution_count": 11,
     "metadata": {},
     "output_type": "execute_result"
    },
    {
     "data": {
      "image/png": "[encoded data removed]",
      "text/plain": [
       "<Figure size 640x480 with 1 Axes>"
      ]
     },
     "metadata": {},
     "output_type": "display_data"
    },
    {
     "data": {
      "image/png": "[encoded data removed]",
      "text/plain": [
       "<Figure size 640x480 with 1 Axes>"
      ]
     },
     "metadata": {},
     "output_type": "display_data"
    },
    {
     "data": {
      "image/png": "[encoded data removed]",
      "text/plain": [
       "<Figure size 640x480 with 1 Axes>"
      ]
     },
     "metadata": {},
     "output_type": "display_data"
    },
    {
     "data": {
      "image/png": "[encoded data removed]",
      "text/plain": [
       "<Figure size 640x480 with 1 Axes>"
      ]
     },
     "metadata": {},
     "output_type": "display_data"
    },
    {
     "data": {
      "image/png": "[encoded data removed]",
      "text/plain": [
       "<Figure size 640x480 with 1 Axes>"
      ]
     },
     "metadata": {},
     "output_type": "display_data"
    }
   ],
   "source": [
    "\n",
    "# plotting training loss\n",
    "plt.figure()\n",
    "plt.plot(training_loss)\n",
    "plt.xlabel(\"Number of epochs\")\n",
    "plt.ylabel(\"Training loss\")\n",
    "plt.title(\"Training loss VS Number of Epochs\")\n",
    "\n",
    "# plotting validation loss\n",
    "plt.figure()\n",
    "plt.plot(validation_loss)\n",
    "plt.xlabel(\"Number of epochs\")\n",
    "plt.ylabel(\"Validation loss\")\n",
    "plt.title(\"Validation loss VS Number of Epochs\")\n",
    "\n",
    "# plotting learning rate for model\n",
    "plt.figure()\n",
    "plt.plot(learning_rate)\n",
    "plt.xlabel(\"Number of epochs\")\n",
    "plt.ylabel(\"learning_rate\")\n",
    "plt.title(\"Learning_rate VS Number of Epochs\")\n",
    "\n",
    "# plotting MAD\n",
    "plt.figure()\n",
    "plt.plot(val_mad)\n",
    "plt.xlabel(\"Number of epochs\")\n",
    "plt.ylabel(\"Validation MAD\")\n",
    "plt.title(\"Validation MAD VS Number of Epochs\")\n",
    "\n",
    "# plotting FAD\n",
    "plt.figure()\n",
    "plt.plot(val_fad)\n",
    "plt.xlabel(\"Number of epochs\")\n",
    "plt.ylabel(\"Validation FAD\")\n",
    "plt.title(\"Validation FAD VS Number of Epochs\")"
   ]
  },
  {
   "cell_type": "code",
   "execution_count": null,
   "metadata": {
    "id": "d8uaV3o2s-Zj"
   },
   "outputs": [],
   "source": []
  }
 ],
 "metadata": {
  "accelerator": "GPU",
  "colab": {
   "provenance": []
  },
  "gpuClass": "premium",
  "kernelspec": {
   "display_name": "Python 3 (ipykernel)",
   "language": "python",
   "name": "python3"
  },
  "language_info": {
   "codemirror_mode": {
    "name": "ipython",
    "version": 3
   },
   "file_extension": ".py",
   "mimetype": "text/x-python",
   "name": "python",
   "nbconvert_exporter": "python",
   "pygments_lexer": "ipython3",
   "version": "3.9.18"
  },
  "vscode": {
   "interpreter": {
    "hash": "08eac26dc1f80337b7d87e94e7159a5bad95c2e85f47efef91c61359b3afbfe9"
   }
  }
 },
 "nbformat": 4,
 "nbformat_minor": 1
}

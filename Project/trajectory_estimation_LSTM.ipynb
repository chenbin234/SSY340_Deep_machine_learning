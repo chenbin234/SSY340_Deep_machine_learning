{
 "cells": [
  {
   "cell_type": "markdown",
   "metadata": {},
   "source": [
    "# SSY340 Project - Trajectory Estimation LSTM"
   ]
  },
  {
   "cell_type": "markdown",
   "metadata": {},
   "source": [
    "### Fill in group number and member names:"
   ]
  },
  {
   "cell_type": "code",
   "execution_count": 1,
   "metadata": {},
   "outputs": [],
   "source": [
    "NAME1 = \"Bingcheng Chen\" \n",
    "NAME2 = \"Arvin Rokni\"\n",
    "GROUP = \"Project groups 64\""
   ]
  },
  {
   "cell_type": "markdown",
   "metadata": {},
   "source": [
    "## 1. Loading the data"
   ]
  },
  {
   "cell_type": "code",
   "execution_count": 2,
   "metadata": {},
   "outputs": [],
   "source": [
    "import torch\n",
    "import torch.nn as nn\n",
    "from tqdm import tqdm\n",
    "import numpy as np\n",
    "import os\n",
    "import dataloader\n",
    "import model_LSTM\n",
    "import utils\n",
    "import matplotlib.pyplot as plt\n",
    "from torch.utils.data import DataLoader"
   ]
  },
  {
   "cell_type": "markdown",
   "metadata": {},
   "source": [
    "## 2. Pre-processing"
   ]
  },
  {
   "cell_type": "code",
   "execution_count": 3,
   "metadata": {},
   "outputs": [],
   "source": [
    "# defining model save location\n",
    "save_location = \"./LSTM_models\"\n",
    "# defining dataset locations\n",
    "dataset_folder = \"./datasets\"\n",
    "dataset_name = \"raw\"\n",
    "# setting validation size. if val_size = 0, split percentage is 80-20\n",
    "val_size = 0\n",
    "# length of sequence given to encoder\n",
    "gt = 8\n",
    "# length of sequence given to decoder\n",
    "horizon = 12\n",
    "\n",
    "\n",
    "train_dataset, _ = dataloader.create_dataset(dataset_folder, dataset_name, val_size,\n",
    "                                             gt, horizon, delim=\"\\t\", train=True)\n",
    "val_dataset, _ = dataloader.create_dataset(dataset_folder, dataset_name, val_size,\n",
    "                                           gt, horizon, delim=\"\\t\", train=False)\n",
    "# test_dataset, _ = dataloader.create_dataset(dataset_folder, dataset_name, val_size, \\\n",
    "#     gt, horizon, delim=\"\\t\", train=False, eval=True)"
   ]
  },
  {
   "cell_type": "code",
   "execution_count": 4,
   "metadata": {},
   "outputs": [
    {
     "data": {
      "text/plain": [
       "{'src': tensor([[ 4.9693e+00,  8.3395e+00,  0.0000e+00,  0.0000e+00],\n",
       "         [ 5.1330e+00,  8.3350e+00,  1.6374e-01, -4.5338e-03],\n",
       "         [ 5.2968e+00,  8.3307e+00,  1.6374e-01, -4.2963e-03],\n",
       "         [ 5.3915e+00,  8.3490e+00,  9.4709e-02,  1.8377e-02],\n",
       "         [ 5.4565e+00,  8.3774e+00,  6.5034e-02,  2.8400e-02],\n",
       "         [ 5.5218e+00,  8.4058e+00,  6.5244e-02,  2.8400e-02],\n",
       "         [ 5.5868e+00,  8.4342e+00,  6.5033e-02,  2.8400e-02],\n",
       "         [ 5.5988e+00,  8.4497e+00,  1.1997e-02,  1.5512e-02]]),\n",
       " 'trg': tensor([[ 5.5575e+00,  8.4521e+00, -4.1251e-02,  2.3870e-03],\n",
       "         [ 5.5163e+00,  8.4548e+00, -4.1251e-02,  2.6255e-03],\n",
       "         [ 5.4750e+00,  8.4571e+00, -4.1251e-02,  2.3861e-03],\n",
       "         [ 5.4340e+00,  8.4595e+00, -4.1041e-02,  2.3870e-03],\n",
       "         [ 5.3927e+00,  8.4622e+00, -4.1251e-02,  2.6245e-03],\n",
       "         [ 5.3515e+00,  8.4645e+00, -4.1251e-02,  2.3870e-03],\n",
       "         [ 5.3102e+00,  8.4669e+00, -4.1251e-02,  2.3861e-03],\n",
       "         [ 5.2690e+00,  8.4696e+00, -4.1251e-02,  2.6255e-03],\n",
       "         [ 5.2277e+00,  8.4719e+00, -4.1251e-02,  2.3870e-03],\n",
       "         [ 5.0924e+00,  8.4832e+00, -1.3533e-01,  1.1217e-02],\n",
       "         [ 4.9337e+00,  8.4968e+00, -1.5869e-01,  1.3603e-02],\n",
       "         [ 4.7748e+00,  8.5101e+00, -1.5890e-01,  1.3365e-02]]),\n",
       " 'frames': array([6130., 6140., 6150., 6160., 6170., 6180., 6190., 6200., 6210.,\n",
       "        6220., 6230., 6240., 6250., 6260., 6270., 6280., 6290., 6300.,\n",
       "        6310., 6320.]),\n",
       " 'seq_start': array([[4.9692917, 8.339489 ]], dtype=float32),\n",
       " 'dataset': 0,\n",
       " 'peds': 95.0}"
      ]
     },
     "execution_count": 4,
     "metadata": {},
     "output_type": "execute_result"
    }
   ],
   "source": [
    "val_dataset[10]"
   ]
  },
  {
   "cell_type": "code",
   "execution_count": 5,
   "metadata": {},
   "outputs": [
    {
     "data": {
      "text/plain": [
       "torch.Size([8, 4])"
      ]
     },
     "execution_count": 5,
     "metadata": {},
     "output_type": "execute_result"
    }
   ],
   "source": [
    "val_dataset[10]['src'].shape"
   ]
  },
  {
   "cell_type": "markdown",
   "metadata": {},
   "source": [
    "## 3. Data loaders"
   ]
  },
  {
   "cell_type": "code",
   "execution_count": 6,
   "metadata": {},
   "outputs": [],
   "source": [
    "# defining batch size\n",
    "batch_size = 64\n",
    "\n",
    "# creating torch dataloaders\n",
    "train_loader = DataLoader(train_dataset, batch_size,\n",
    "                          shuffle=True, num_workers=0)\n",
    "val_loader = DataLoader(val_dataset, batch_size, shuffle=True, num_workers=0)"
   ]
  },
  {
   "cell_type": "markdown",
   "metadata": {},
   "source": [
    "## 4. Training"
   ]
  },
  {
   "cell_type": "markdown",
   "metadata": {},
   "source": [
    "#### 4.1 create a model"
   ]
  },
  {
   "cell_type": "code",
   "execution_count": 7,
   "metadata": {},
   "outputs": [],
   "source": [
    "device = torch.device('cuda' if torch.cuda.is_available() else 'cpu')\n",
    "\n",
    "LSTM_model = model_LSTM.LSTM(input_size=2, input_seq_len=8,\n",
    "                             hidden_size=128, num_layers=3, output_size=2, output_seq_len=12).to(device)"
   ]
  },
  {
   "cell_type": "code",
   "execution_count": 8,
   "metadata": {},
   "outputs": [
    {
     "data": {
      "text/plain": [
       "LSTM(\n",
       "  (LSTM_first_layer): ModuleList(\n",
       "    (0): LSTMCell(\n",
       "      (W_hh): Linear(in_features=128, out_features=512, bias=True)\n",
       "      (W_xh): Linear(in_features=2, out_features=512, bias=True)\n",
       "    )\n",
       "    (1-2): 2 x LSTMCell(\n",
       "      (W_hh): Linear(in_features=128, out_features=512, bias=True)\n",
       "      (W_xh): Linear(in_features=128, out_features=512, bias=True)\n",
       "    )\n",
       "  )\n",
       "  (LSTM_whole): ModuleList(\n",
       "    (0): LSTMCell(\n",
       "      (W_hh): Linear(in_features=128, out_features=512, bias=True)\n",
       "      (W_xh): Linear(in_features=2, out_features=512, bias=True)\n",
       "    )\n",
       "    (1-2): 2 x LSTMCell(\n",
       "      (W_hh): Linear(in_features=128, out_features=512, bias=True)\n",
       "      (W_xh): Linear(in_features=128, out_features=512, bias=True)\n",
       "    )\n",
       "  )\n",
       "  (fc): Linear(in_features=1024, out_features=24, bias=True)\n",
       ")"
      ]
     },
     "execution_count": 8,
     "metadata": {},
     "output_type": "execute_result"
    }
   ],
   "source": [
    "LSTM_model"
   ]
  },
  {
   "cell_type": "markdown",
   "metadata": {},
   "source": [
    "#### 4.2 The training loop"
   ]
  },
  {
   "cell_type": "code",
   "execution_count": 9,
   "metadata": {},
   "outputs": [
    {
     "name": "stderr",
     "output_type": "stream",
     "text": [
      "  1%|██                                                                                                                                                                                                          | 1/100 [00:09<15:08,  9.18s/it]"
     ]
    },
    {
     "name": "stdout",
     "output_type": "stream",
     "text": [
      "Epoch 1/100....Training loss = 15.2918\n"
     ]
    },
    {
     "name": "stderr",
     "output_type": "stream",
     "text": [
      "\r",
      "  2%|████                                                                                                                                                                                                        | 2/100 [00:17<14:12,  8.70s/it]"
     ]
    },
    {
     "name": "stdout",
     "output_type": "stream",
     "text": [
      "Epoch 2/100....Training loss = 5.5651\n"
     ]
    },
    {
     "name": "stderr",
     "output_type": "stream",
     "text": [
      "\r",
      "  3%|██████                                                                                                                                                                                                      | 3/100 [00:26<13:53,  8.59s/it]"
     ]
    },
    {
     "name": "stdout",
     "output_type": "stream",
     "text": [
      "Epoch 3/100....Training loss = 2.0455\n"
     ]
    },
    {
     "name": "stderr",
     "output_type": "stream",
     "text": [
      "\r",
      "  4%|████████▏                                                                                                                                                                                                   | 4/100 [00:34<13:39,  8.54s/it]"
     ]
    },
    {
     "name": "stdout",
     "output_type": "stream",
     "text": [
      "Epoch 4/100....Training loss = 1.1318\n",
      "Epoch 5/100....Training loss = 0.8608\n"
     ]
    },
    {
     "name": "stderr",
     "output_type": "stream",
     "text": [
      "\r",
      "  5%|██████████▏                                                                                                                                                                                                 | 5/100 [00:43<14:03,  8.88s/it]"
     ]
    },
    {
     "name": "stdout",
     "output_type": "stream",
     "text": [
      "Epoch 5/100....Validation mad = 0.8968, Validation fad = 1.4893\n"
     ]
    },
    {
     "name": "stderr",
     "output_type": "stream",
     "text": [
      "\r",
      "  6%|████████████▏                                                                                                                                                                                               | 6/100 [00:52<13:36,  8.69s/it]"
     ]
    },
    {
     "name": "stdout",
     "output_type": "stream",
     "text": [
      "Epoch 6/100....Training loss = 0.7227\n"
     ]
    },
    {
     "name": "stderr",
     "output_type": "stream",
     "text": [
      "\r",
      "  7%|██████████████▎                                                                                                                                                                                             | 7/100 [01:00<13:19,  8.60s/it]"
     ]
    },
    {
     "name": "stdout",
     "output_type": "stream",
     "text": [
      "Epoch 7/100....Training loss = 0.6533\n"
     ]
    },
    {
     "name": "stderr",
     "output_type": "stream",
     "text": [
      "\r",
      "  8%|████████████████▎                                                                                                                                                                                           | 8/100 [01:09<13:03,  8.52s/it]"
     ]
    },
    {
     "name": "stdout",
     "output_type": "stream",
     "text": [
      "Epoch 8/100....Training loss = 0.5970\n"
     ]
    },
    {
     "name": "stderr",
     "output_type": "stream",
     "text": [
      "\r",
      "  9%|██████████████████▎                                                                                                                                                                                         | 9/100 [01:17<12:49,  8.45s/it]"
     ]
    },
    {
     "name": "stdout",
     "output_type": "stream",
     "text": [
      "Epoch 9/100....Training loss = 0.5538\n",
      "Epoch 10/100....Training loss = 0.5213\n"
     ]
    },
    {
     "name": "stderr",
     "output_type": "stream",
     "text": [
      "\r",
      " 10%|████████████████████▎                                                                                                                                                                                      | 10/100 [01:26<13:01,  8.69s/it]"
     ]
    },
    {
     "name": "stdout",
     "output_type": "stream",
     "text": [
      "Epoch 10/100....Validation mad = 0.7397, Validation fad = 1.2682\n"
     ]
    },
    {
     "name": "stderr",
     "output_type": "stream",
     "text": [
      "\r",
      " 11%|██████████████████████▎                                                                                                                                                                                    | 11/100 [01:34<12:43,  8.58s/it]"
     ]
    },
    {
     "name": "stdout",
     "output_type": "stream",
     "text": [
      "Epoch 11/100....Training loss = 0.4925\n"
     ]
    },
    {
     "name": "stderr",
     "output_type": "stream",
     "text": [
      "\r",
      " 12%|████████████████████████▎                                                                                                                                                                                  | 12/100 [01:43<12:27,  8.49s/it]"
     ]
    },
    {
     "name": "stdout",
     "output_type": "stream",
     "text": [
      "Epoch 12/100....Training loss = 0.4675\n"
     ]
    },
    {
     "name": "stderr",
     "output_type": "stream",
     "text": [
      "\r",
      " 13%|██████████████████████████▍                                                                                                                                                                                | 13/100 [01:51<12:12,  8.42s/it]"
     ]
    },
    {
     "name": "stdout",
     "output_type": "stream",
     "text": [
      "Epoch 13/100....Training loss = 0.4464\n"
     ]
    },
    {
     "name": "stderr",
     "output_type": "stream",
     "text": [
      "\r",
      " 14%|████████████████████████████▍                                                                                                                                                                              | 14/100 [01:59<11:58,  8.36s/it]"
     ]
    },
    {
     "name": "stdout",
     "output_type": "stream",
     "text": [
      "Epoch 14/100....Training loss = 0.4285\n",
      "Epoch 15/100....Training loss = 0.4115\n"
     ]
    },
    {
     "name": "stderr",
     "output_type": "stream",
     "text": [
      "\r",
      " 15%|██████████████████████████████▍                                                                                                                                                                            | 15/100 [02:09<12:16,  8.67s/it]"
     ]
    },
    {
     "name": "stdout",
     "output_type": "stream",
     "text": [
      "Epoch 15/100....Validation mad = 0.6846, Validation fad = 1.2015\n"
     ]
    },
    {
     "name": "stderr",
     "output_type": "stream",
     "text": [
      "\r",
      " 16%|████████████████████████████████▍                                                                                                                                                                          | 16/100 [02:17<11:57,  8.54s/it]"
     ]
    },
    {
     "name": "stdout",
     "output_type": "stream",
     "text": [
      "Epoch 16/100....Training loss = 0.3987\n"
     ]
    },
    {
     "name": "stderr",
     "output_type": "stream",
     "text": [
      "\r",
      " 17%|██████████████████████████████████▌                                                                                                                                                                        | 17/100 [02:25<11:43,  8.47s/it]"
     ]
    },
    {
     "name": "stdout",
     "output_type": "stream",
     "text": [
      "Epoch 17/100....Training loss = 0.3796\n"
     ]
    },
    {
     "name": "stderr",
     "output_type": "stream",
     "text": [
      "\r",
      " 18%|████████████████████████████████████▌                                                                                                                                                                      | 18/100 [02:33<11:31,  8.43s/it]"
     ]
    },
    {
     "name": "stdout",
     "output_type": "stream",
     "text": [
      "Epoch 18/100....Training loss = 0.3707\n"
     ]
    },
    {
     "name": "stderr",
     "output_type": "stream",
     "text": [
      "\r",
      " 19%|██████████████████████████████████████▌                                                                                                                                                                    | 19/100 [02:42<11:23,  8.44s/it]"
     ]
    },
    {
     "name": "stdout",
     "output_type": "stream",
     "text": [
      "Epoch 19/100....Training loss = 0.3604\n",
      "Epoch 20/100....Training loss = 0.3520\n"
     ]
    },
    {
     "name": "stderr",
     "output_type": "stream",
     "text": [
      "\r",
      " 20%|████████████████████████████████████████▌                                                                                                                                                                  | 20/100 [02:51<11:33,  8.67s/it]"
     ]
    },
    {
     "name": "stdout",
     "output_type": "stream",
     "text": [
      "Epoch 20/100....Validation mad = 0.6058, Validation fad = 1.1057\n"
     ]
    },
    {
     "name": "stderr",
     "output_type": "stream",
     "text": [
      "\r",
      " 21%|██████████████████████████████████████████▋                                                                                                                                                                | 21/100 [02:59<11:14,  8.54s/it]"
     ]
    },
    {
     "name": "stdout",
     "output_type": "stream",
     "text": [
      "Epoch 21/100....Training loss = 0.3455\n"
     ]
    },
    {
     "name": "stderr",
     "output_type": "stream",
     "text": [
      "\r",
      " 22%|████████████████████████████████████████████▋                                                                                                                                                              | 22/100 [03:08<11:00,  8.47s/it]"
     ]
    },
    {
     "name": "stdout",
     "output_type": "stream",
     "text": [
      "Epoch 22/100....Training loss = 0.3356\n"
     ]
    },
    {
     "name": "stderr",
     "output_type": "stream",
     "text": [
      "\r",
      " 23%|██████████████████████████████████████████████▋                                                                                                                                                            | 23/100 [03:16<10:46,  8.39s/it]"
     ]
    },
    {
     "name": "stdout",
     "output_type": "stream",
     "text": [
      "Epoch 23/100....Training loss = 0.3304\n"
     ]
    },
    {
     "name": "stderr",
     "output_type": "stream",
     "text": [
      "\r",
      " 24%|████████████████████████████████████████████████▋                                                                                                                                                          | 24/100 [03:24<10:34,  8.35s/it]"
     ]
    },
    {
     "name": "stdout",
     "output_type": "stream",
     "text": [
      "Epoch 24/100....Training loss = 0.3239\n",
      "Epoch 25/100....Training loss = 0.3158\n"
     ]
    },
    {
     "name": "stderr",
     "output_type": "stream",
     "text": [
      "\r",
      " 25%|██████████████████████████████████████████████████▊                                                                                                                                                        | 25/100 [03:33<10:48,  8.64s/it]"
     ]
    },
    {
     "name": "stdout",
     "output_type": "stream",
     "text": [
      "Epoch 25/100....Validation mad = 0.5606, Validation fad = 1.0921\n"
     ]
    },
    {
     "name": "stderr",
     "output_type": "stream",
     "text": [
      "\r",
      " 26%|████████████████████████████████████████████████████▊                                                                                                                                                      | 26/100 [03:42<10:38,  8.62s/it]"
     ]
    },
    {
     "name": "stdout",
     "output_type": "stream",
     "text": [
      "Epoch 26/100....Training loss = 0.3111\n"
     ]
    },
    {
     "name": "stderr",
     "output_type": "stream",
     "text": [
      "\r",
      " 27%|██████████████████████████████████████████████████████▊                                                                                                                                                    | 27/100 [03:50<10:23,  8.55s/it]"
     ]
    },
    {
     "name": "stdout",
     "output_type": "stream",
     "text": [
      "Epoch 27/100....Training loss = 0.3056\n"
     ]
    },
    {
     "name": "stderr",
     "output_type": "stream",
     "text": [
      "\r",
      " 28%|████████████████████████████████████████████████████████▊                                                                                                                                                  | 28/100 [03:59<10:09,  8.46s/it]"
     ]
    },
    {
     "name": "stdout",
     "output_type": "stream",
     "text": [
      "Epoch 28/100....Training loss = 0.3039\n"
     ]
    },
    {
     "name": "stderr",
     "output_type": "stream",
     "text": [
      "\r",
      " 29%|██████████████████████████████████████████████████████████▊                                                                                                                                                | 29/100 [04:07<09:57,  8.41s/it]"
     ]
    },
    {
     "name": "stdout",
     "output_type": "stream",
     "text": [
      "Epoch 29/100....Training loss = 0.2985\n",
      "Epoch 30/100....Training loss = 0.2925\n"
     ]
    },
    {
     "name": "stderr",
     "output_type": "stream",
     "text": [
      "\r",
      " 30%|████████████████████████████████████████████████████████████▉                                                                                                                                              | 30/100 [04:16<10:08,  8.70s/it]"
     ]
    },
    {
     "name": "stdout",
     "output_type": "stream",
     "text": [
      "Epoch 30/100....Validation mad = 0.5032, Validation fad = 1.0080\n"
     ]
    },
    {
     "name": "stderr",
     "output_type": "stream",
     "text": [
      "\r",
      " 31%|██████████████████████████████████████████████████████████████▉                                                                                                                                            | 31/100 [04:25<09:52,  8.58s/it]"
     ]
    },
    {
     "name": "stdout",
     "output_type": "stream",
     "text": [
      "Epoch 31/100....Training loss = 0.2906\n"
     ]
    },
    {
     "name": "stderr",
     "output_type": "stream",
     "text": [
      "\r",
      " 32%|████████████████████████████████████████████████████████████████▉                                                                                                                                          | 32/100 [04:33<09:37,  8.49s/it]"
     ]
    },
    {
     "name": "stdout",
     "output_type": "stream",
     "text": [
      "Epoch 32/100....Training loss = 0.2883\n"
     ]
    },
    {
     "name": "stderr",
     "output_type": "stream",
     "text": [
      "\r",
      " 33%|██████████████████████████████████████████████████████████████████▉                                                                                                                                        | 33/100 [04:41<09:30,  8.52s/it]"
     ]
    },
    {
     "name": "stdout",
     "output_type": "stream",
     "text": [
      "Epoch 33/100....Training loss = 0.2866\n"
     ]
    },
    {
     "name": "stderr",
     "output_type": "stream",
     "text": [
      "\r",
      " 34%|█████████████████████████████████████████████████████████████████████                                                                                                                                      | 34/100 [04:50<09:18,  8.46s/it]"
     ]
    },
    {
     "name": "stdout",
     "output_type": "stream",
     "text": [
      "Epoch 34/100....Training loss = 0.2848\n",
      "Epoch 35/100....Training loss = 0.2799\n"
     ]
    },
    {
     "name": "stderr",
     "output_type": "stream",
     "text": [
      "\r",
      " 35%|███████████████████████████████████████████████████████████████████████                                                                                                                                    | 35/100 [04:59<09:21,  8.63s/it]"
     ]
    },
    {
     "name": "stdout",
     "output_type": "stream",
     "text": [
      "Epoch 35/100....Validation mad = 0.5089, Validation fad = 1.0114\n"
     ]
    },
    {
     "name": "stderr",
     "output_type": "stream",
     "text": [
      "\r",
      " 36%|█████████████████████████████████████████████████████████████████████████                                                                                                                                  | 36/100 [05:07<09:06,  8.54s/it]"
     ]
    },
    {
     "name": "stdout",
     "output_type": "stream",
     "text": [
      "Epoch 36/100....Training loss = 0.2756\n"
     ]
    },
    {
     "name": "stderr",
     "output_type": "stream",
     "text": [
      "\r",
      " 37%|███████████████████████████████████████████████████████████████████████████                                                                                                                                | 37/100 [05:15<08:52,  8.46s/it]"
     ]
    },
    {
     "name": "stdout",
     "output_type": "stream",
     "text": [
      "Epoch 37/100....Training loss = 0.2762\n"
     ]
    },
    {
     "name": "stderr",
     "output_type": "stream",
     "text": [
      "\r",
      " 38%|█████████████████████████████████████████████████████████████████████████████▏                                                                                                                             | 38/100 [05:24<08:40,  8.39s/it]"
     ]
    },
    {
     "name": "stdout",
     "output_type": "stream",
     "text": [
      "Epoch 38/100....Training loss = 0.2730\n"
     ]
    },
    {
     "name": "stderr",
     "output_type": "stream",
     "text": [
      "\r",
      " 39%|███████████████████████████████████████████████████████████████████████████████▏                                                                                                                           | 39/100 [05:32<08:27,  8.33s/it]"
     ]
    },
    {
     "name": "stdout",
     "output_type": "stream",
     "text": [
      "Epoch 39/100....Training loss = 0.2719\n",
      "Epoch 40/100....Training loss = 0.2704\n"
     ]
    },
    {
     "name": "stderr",
     "output_type": "stream",
     "text": [
      "\r",
      " 40%|█████████████████████████████████████████████████████████████████████████████████▏                                                                                                                         | 40/100 [05:41<08:36,  8.61s/it]"
     ]
    },
    {
     "name": "stdout",
     "output_type": "stream",
     "text": [
      "Epoch 40/100....Validation mad = 0.5096, Validation fad = 1.0099\n"
     ]
    },
    {
     "name": "stderr",
     "output_type": "stream",
     "text": [
      "\r",
      " 41%|███████████████████████████████████████████████████████████████████████████████████▏                                                                                                                       | 41/100 [05:49<08:20,  8.49s/it]"
     ]
    },
    {
     "name": "stdout",
     "output_type": "stream",
     "text": [
      "Epoch 41/100....Training loss = 0.2686\n"
     ]
    },
    {
     "name": "stderr",
     "output_type": "stream",
     "text": [
      "\r",
      " 42%|█████████████████████████████████████████████████████████████████████████████████████▎                                                                                                                     | 42/100 [05:57<08:07,  8.40s/it]"
     ]
    },
    {
     "name": "stdout",
     "output_type": "stream",
     "text": [
      "Epoch 42/100....Training loss = 0.2706\n"
     ]
    },
    {
     "name": "stderr",
     "output_type": "stream",
     "text": [
      "\r",
      " 43%|███████████████████████████████████████████████████████████████████████████████████████▎                                                                                                                   | 43/100 [06:06<07:57,  8.37s/it]"
     ]
    },
    {
     "name": "stdout",
     "output_type": "stream",
     "text": [
      "Epoch 43/100....Training loss = 0.2662\n"
     ]
    },
    {
     "name": "stderr",
     "output_type": "stream",
     "text": [
      "\r",
      " 44%|█████████████████████████████████████████████████████████████████████████████████████████▎                                                                                                                 | 44/100 [06:14<07:46,  8.33s/it]"
     ]
    },
    {
     "name": "stdout",
     "output_type": "stream",
     "text": [
      "Epoch 44/100....Training loss = 0.2660\n",
      "Epoch 45/100....Training loss = 0.2653\n"
     ]
    },
    {
     "name": "stderr",
     "output_type": "stream",
     "text": [
      "\r",
      " 45%|███████████████████████████████████████████████████████████████████████████████████████████▎                                                                                                               | 45/100 [06:23<07:54,  8.62s/it]"
     ]
    },
    {
     "name": "stdout",
     "output_type": "stream",
     "text": [
      "Epoch 45/100....Validation mad = 0.5668, Validation fad = 1.0614\n"
     ]
    },
    {
     "name": "stderr",
     "output_type": "stream",
     "text": [
      "\r",
      " 46%|█████████████████████████████████████████████████████████████████████████████████████████████▍                                                                                                             | 46/100 [06:32<07:39,  8.50s/it]"
     ]
    },
    {
     "name": "stdout",
     "output_type": "stream",
     "text": [
      "Epoch 46/100....Training loss = 0.2610\n"
     ]
    },
    {
     "name": "stderr",
     "output_type": "stream",
     "text": [
      "\r",
      " 47%|███████████████████████████████████████████████████████████████████████████████████████████████▍                                                                                                           | 47/100 [06:40<07:27,  8.44s/it]"
     ]
    },
    {
     "name": "stdout",
     "output_type": "stream",
     "text": [
      "Epoch 47/100....Training loss = 0.2616\n"
     ]
    },
    {
     "name": "stderr",
     "output_type": "stream",
     "text": [
      "\r",
      " 48%|█████████████████████████████████████████████████████████████████████████████████████████████████▍                                                                                                         | 48/100 [06:48<07:15,  8.37s/it]"
     ]
    },
    {
     "name": "stdout",
     "output_type": "stream",
     "text": [
      "Epoch 48/100....Training loss = 0.2629\n"
     ]
    },
    {
     "name": "stderr",
     "output_type": "stream",
     "text": [
      "\r",
      " 49%|███████████████████████████████████████████████████████████████████████████████████████████████████▍                                                                                                       | 49/100 [06:56<07:03,  8.30s/it]"
     ]
    },
    {
     "name": "stdout",
     "output_type": "stream",
     "text": [
      "Epoch 49/100....Training loss = 0.2571\n",
      "Epoch 50/100....Training loss = 0.2582\n"
     ]
    },
    {
     "name": "stderr",
     "output_type": "stream",
     "text": [
      "\r",
      " 50%|█████████████████████████████████████████████████████████████████████████████████████████████████████▌                                                                                                     | 50/100 [07:05<07:07,  8.55s/it]"
     ]
    },
    {
     "name": "stdout",
     "output_type": "stream",
     "text": [
      "Epoch 50/100....Validation mad = 0.5084, Validation fad = 0.9971\n"
     ]
    },
    {
     "name": "stderr",
     "output_type": "stream",
     "text": [
      "\r",
      " 51%|███████████████████████████████████████████████████████████████████████████████████████████████████████▌                                                                                                   | 51/100 [07:13<06:52,  8.41s/it]"
     ]
    },
    {
     "name": "stdout",
     "output_type": "stream",
     "text": [
      "Epoch 51/100....Training loss = 0.2576\n"
     ]
    },
    {
     "name": "stderr",
     "output_type": "stream",
     "text": [
      "\r",
      " 52%|█████████████████████████████████████████████████████████████████████████████████████████████████████████▌                                                                                                 | 52/100 [07:22<06:39,  8.33s/it]"
     ]
    },
    {
     "name": "stdout",
     "output_type": "stream",
     "text": [
      "Epoch 52/100....Training loss = 0.2558\n"
     ]
    },
    {
     "name": "stderr",
     "output_type": "stream",
     "text": [
      "\r",
      " 53%|███████████████████████████████████████████████████████████████████████████████████████████████████████████▌                                                                                               | 53/100 [07:30<06:28,  8.27s/it]"
     ]
    },
    {
     "name": "stdout",
     "output_type": "stream",
     "text": [
      "Epoch 53/100....Training loss = 0.2539\n"
     ]
    },
    {
     "name": "stderr",
     "output_type": "stream",
     "text": [
      "\r",
      " 54%|█████████████████████████████████████████████████████████████████████████████████████████████████████████████▌                                                                                             | 54/100 [07:38<06:18,  8.23s/it]"
     ]
    },
    {
     "name": "stdout",
     "output_type": "stream",
     "text": [
      "Epoch 54/100....Training loss = 0.2570\n",
      "Epoch 55/100....Training loss = 0.2558\n"
     ]
    },
    {
     "name": "stderr",
     "output_type": "stream",
     "text": [
      "\r",
      " 55%|███████████████████████████████████████████████████████████████████████████████████████████████████████████████▋                                                                                           | 55/100 [07:47<06:26,  8.58s/it]"
     ]
    },
    {
     "name": "stdout",
     "output_type": "stream",
     "text": [
      "Epoch 55/100....Validation mad = 0.4950, Validation fad = 0.9866\n"
     ]
    },
    {
     "name": "stderr",
     "output_type": "stream",
     "text": [
      "\r",
      " 56%|█████████████████████████████████████████████████████████████████████████████████████████████████████████████████▋                                                                                         | 56/100 [07:55<06:12,  8.46s/it]"
     ]
    },
    {
     "name": "stdout",
     "output_type": "stream",
     "text": [
      "Epoch 56/100....Training loss = 0.2517\n"
     ]
    },
    {
     "name": "stderr",
     "output_type": "stream",
     "text": [
      "\r",
      " 57%|███████████████████████████████████████████████████████████████████████████████████████████████████████████████████▋                                                                                       | 57/100 [08:04<06:00,  8.38s/it]"
     ]
    },
    {
     "name": "stdout",
     "output_type": "stream",
     "text": [
      "Epoch 57/100....Training loss = 0.2520\n"
     ]
    },
    {
     "name": "stderr",
     "output_type": "stream",
     "text": [
      "\r",
      " 58%|█████████████████████████████████████████████████████████████████████████████████████████████████████████████████████▋                                                                                     | 58/100 [08:12<05:49,  8.32s/it]"
     ]
    },
    {
     "name": "stdout",
     "output_type": "stream",
     "text": [
      "Epoch 58/100....Training loss = 0.2505\n"
     ]
    },
    {
     "name": "stderr",
     "output_type": "stream",
     "text": [
      "\r",
      " 59%|███████████████████████████████████████████████████████████████████████████████████████████████████████████████████████▊                                                                                   | 59/100 [08:20<05:38,  8.25s/it]"
     ]
    },
    {
     "name": "stdout",
     "output_type": "stream",
     "text": [
      "Epoch 59/100....Training loss = 0.2490\n",
      "Epoch 60/100....Training loss = 0.2504\n"
     ]
    },
    {
     "name": "stderr",
     "output_type": "stream",
     "text": [
      "\r",
      " 60%|█████████████████████████████████████████████████████████████████████████████████████████████████████████████████████████▊                                                                                 | 60/100 [08:29<05:40,  8.50s/it]"
     ]
    },
    {
     "name": "stdout",
     "output_type": "stream",
     "text": [
      "Epoch 60/100....Validation mad = 0.4685, Validation fad = 0.9639\n"
     ]
    },
    {
     "name": "stderr",
     "output_type": "stream",
     "text": [
      "\r",
      " 61%|███████████████████████████████████████████████████████████████████████████████████████████████████████████████████████████▊                                                                               | 61/100 [08:37<05:27,  8.40s/it]"
     ]
    },
    {
     "name": "stdout",
     "output_type": "stream",
     "text": [
      "Epoch 61/100....Training loss = 0.2499\n"
     ]
    },
    {
     "name": "stderr",
     "output_type": "stream",
     "text": [
      "\r",
      " 62%|█████████████████████████████████████████████████████████████████████████████████████████████████████████████████████████████▊                                                                             | 62/100 [08:46<05:20,  8.42s/it]"
     ]
    },
    {
     "name": "stdout",
     "output_type": "stream",
     "text": [
      "Epoch 62/100....Training loss = 0.2496\n"
     ]
    },
    {
     "name": "stderr",
     "output_type": "stream",
     "text": [
      "\r",
      " 63%|███████████████████████████████████████████████████████████████████████████████████████████████████████████████████████████████▉                                                                           | 63/100 [08:54<05:08,  8.34s/it]"
     ]
    },
    {
     "name": "stdout",
     "output_type": "stream",
     "text": [
      "Epoch 63/100....Training loss = 0.2474\n"
     ]
    },
    {
     "name": "stderr",
     "output_type": "stream",
     "text": [
      "\r",
      " 64%|█████████████████████████████████████████████████████████████████████████████████████████████████████████████████████████████████▉                                                                         | 64/100 [09:02<04:58,  8.29s/it]"
     ]
    },
    {
     "name": "stdout",
     "output_type": "stream",
     "text": [
      "Epoch 64/100....Training loss = 0.2477\n",
      "Epoch 65/100....Training loss = 0.2465\n"
     ]
    },
    {
     "name": "stderr",
     "output_type": "stream",
     "text": [
      "\r",
      " 65%|███████████████████████████████████████████████████████████████████████████████████████████████████████████████████████████████████▉                                                                       | 65/100 [09:11<04:59,  8.57s/it]"
     ]
    },
    {
     "name": "stdout",
     "output_type": "stream",
     "text": [
      "Epoch 65/100....Validation mad = 0.4702, Validation fad = 0.9526\n"
     ]
    },
    {
     "name": "stderr",
     "output_type": "stream",
     "text": [
      "\r",
      " 66%|█████████████████████████████████████████████████████████████████████████████████████████████████████████████████████████████████████▉                                                                     | 66/100 [09:19<04:47,  8.45s/it]"
     ]
    },
    {
     "name": "stdout",
     "output_type": "stream",
     "text": [
      "Epoch 66/100....Training loss = 0.2464\n"
     ]
    },
    {
     "name": "stderr",
     "output_type": "stream",
     "text": [
      "\r",
      " 67%|████████████████████████████████████████████████████████████████████████████████████████████████████████████████████████████████████████                                                                   | 67/100 [09:27<04:36,  8.38s/it]"
     ]
    },
    {
     "name": "stdout",
     "output_type": "stream",
     "text": [
      "Epoch 67/100....Training loss = 0.2466\n"
     ]
    },
    {
     "name": "stderr",
     "output_type": "stream",
     "text": [
      "\r",
      " 68%|██████████████████████████████████████████████████████████████████████████████████████████████████████████████████████████████████████████                                                                 | 68/100 [09:36<04:26,  8.31s/it]"
     ]
    },
    {
     "name": "stdout",
     "output_type": "stream",
     "text": [
      "Epoch 68/100....Training loss = 0.2445\n"
     ]
    },
    {
     "name": "stderr",
     "output_type": "stream",
     "text": [
      "\r",
      " 69%|████████████████████████████████████████████████████████████████████████████████████████████████████████████████████████████████████████████                                                               | 69/100 [09:44<04:17,  8.30s/it]"
     ]
    },
    {
     "name": "stdout",
     "output_type": "stream",
     "text": [
      "Epoch 69/100....Training loss = 0.2433\n",
      "Epoch 70/100....Training loss = 0.2436\n"
     ]
    },
    {
     "name": "stderr",
     "output_type": "stream",
     "text": [
      "\r",
      " 70%|██████████████████████████████████████████████████████████████████████████████████████████████████████████████████████████████████████████████                                                             | 70/100 [09:53<04:16,  8.56s/it]"
     ]
    },
    {
     "name": "stdout",
     "output_type": "stream",
     "text": [
      "Epoch 70/100....Validation mad = 0.4710, Validation fad = 0.9697\n"
     ]
    },
    {
     "name": "stderr",
     "output_type": "stream",
     "text": [
      "\r",
      " 71%|████████████████████████████████████████████████████████████████████████████████████████████████████████████████████████████████████████████████▏                                                          | 71/100 [10:01<04:05,  8.46s/it]"
     ]
    },
    {
     "name": "stdout",
     "output_type": "stream",
     "text": [
      "Epoch 71/100....Training loss = 0.2420\n"
     ]
    },
    {
     "name": "stderr",
     "output_type": "stream",
     "text": [
      "\r",
      " 72%|██████████████████████████████████████████████████████████████████████████████████████████████████████████████████████████████████████████████████▏                                                        | 72/100 [10:10<03:55,  8.40s/it]"
     ]
    },
    {
     "name": "stdout",
     "output_type": "stream",
     "text": [
      "Epoch 72/100....Training loss = 0.2423\n"
     ]
    },
    {
     "name": "stderr",
     "output_type": "stream",
     "text": [
      "\r",
      " 73%|████████████████████████████████████████████████████████████████████████████████████████████████████████████████████████████████████████████████████▏                                                      | 73/100 [10:18<03:44,  8.33s/it]"
     ]
    },
    {
     "name": "stdout",
     "output_type": "stream",
     "text": [
      "Epoch 73/100....Training loss = 0.2417\n"
     ]
    },
    {
     "name": "stderr",
     "output_type": "stream",
     "text": [
      "\r",
      " 74%|██████████████████████████████████████████████████████████████████████████████████████████████████████████████████████████████████████████████████████▏                                                    | 74/100 [10:26<03:35,  8.28s/it]"
     ]
    },
    {
     "name": "stdout",
     "output_type": "stream",
     "text": [
      "Epoch 74/100....Training loss = 0.2417\n",
      "Epoch 75/100....Training loss = 0.2389\n"
     ]
    },
    {
     "name": "stderr",
     "output_type": "stream",
     "text": [
      "\r",
      " 75%|████████████████████████████████████████████████████████████████████████████████████████████████████████████████████████████████████████████████████████▎                                                  | 75/100 [10:35<03:33,  8.55s/it]"
     ]
    },
    {
     "name": "stdout",
     "output_type": "stream",
     "text": [
      "Epoch 75/100....Validation mad = 0.4918, Validation fad = 0.9646\n"
     ]
    },
    {
     "name": "stderr",
     "output_type": "stream",
     "text": [
      "\r",
      " 76%|██████████████████████████████████████████████████████████████████████████████████████████████████████████████████████████████████████████████████████████▎                                                | 76/100 [10:44<03:24,  8.53s/it]"
     ]
    },
    {
     "name": "stdout",
     "output_type": "stream",
     "text": [
      "Epoch 76/100....Training loss = 0.2405\n"
     ]
    },
    {
     "name": "stderr",
     "output_type": "stream",
     "text": [
      "\r",
      " 77%|████████████████████████████████████████████████████████████████████████████████████████████████████████████████████████████████████████████████████████████▎                                              | 77/100 [10:52<03:13,  8.43s/it]"
     ]
    },
    {
     "name": "stdout",
     "output_type": "stream",
     "text": [
      "Epoch 77/100....Training loss = 0.2407\n"
     ]
    },
    {
     "name": "stderr",
     "output_type": "stream",
     "text": [
      "\r",
      " 78%|██████████████████████████████████████████████████████████████████████████████████████████████████████████████████████████████████████████████████████████████▎                                            | 78/100 [11:00<03:03,  8.34s/it]"
     ]
    },
    {
     "name": "stdout",
     "output_type": "stream",
     "text": [
      "Epoch 78/100....Training loss = 0.2405\n"
     ]
    },
    {
     "name": "stderr",
     "output_type": "stream",
     "text": [
      "\r",
      " 79%|████████████████████████████████████████████████████████████████████████████████████████████████████████████████████████████████████████████████████████████████▎                                          | 79/100 [11:08<02:54,  8.29s/it]"
     ]
    },
    {
     "name": "stdout",
     "output_type": "stream",
     "text": [
      "Epoch 79/100....Training loss = 0.2376\n",
      "Epoch 80/100....Training loss = 0.2383\n"
     ]
    },
    {
     "name": "stderr",
     "output_type": "stream",
     "text": [
      "\r",
      " 80%|██████████████████████████████████████████████████████████████████████████████████████████████████████████████████████████████████████████████████████████████████▍                                        | 80/100 [11:17<02:50,  8.53s/it]"
     ]
    },
    {
     "name": "stdout",
     "output_type": "stream",
     "text": [
      "Epoch 80/100....Validation mad = 0.5124, Validation fad = 1.0113\n"
     ]
    },
    {
     "name": "stderr",
     "output_type": "stream",
     "text": [
      "\r",
      " 81%|████████████████████████████████████████████████████████████████████████████████████████████████████████████████████████████████████████████████████████████████████▍                                      | 81/100 [11:25<02:40,  8.44s/it]"
     ]
    },
    {
     "name": "stdout",
     "output_type": "stream",
     "text": [
      "Epoch 81/100....Training loss = 0.2360\n"
     ]
    },
    {
     "name": "stderr",
     "output_type": "stream",
     "text": [
      "\r",
      " 82%|██████████████████████████████████████████████████████████████████████████████████████████████████████████████████████████████████████████████████████████████████████▍                                    | 82/100 [11:34<02:30,  8.34s/it]"
     ]
    },
    {
     "name": "stdout",
     "output_type": "stream",
     "text": [
      "Epoch 82/100....Training loss = 0.2370\n"
     ]
    },
    {
     "name": "stderr",
     "output_type": "stream",
     "text": [
      "\r",
      " 83%|████████████████████████████████████████████████████████████████████████████████████████████████████████████████████████████████████████████████████████████████████████▍                                  | 83/100 [11:42<02:21,  8.32s/it]"
     ]
    },
    {
     "name": "stdout",
     "output_type": "stream",
     "text": [
      "Epoch 83/100....Training loss = 0.2353\n"
     ]
    },
    {
     "name": "stderr",
     "output_type": "stream",
     "text": [
      "\r",
      " 84%|██████████████████████████████████████████████████████████████████████████████████████████████████████████████████████████████████████████████████████████████████████████▌                                | 84/100 [11:50<02:12,  8.27s/it]"
     ]
    },
    {
     "name": "stdout",
     "output_type": "stream",
     "text": [
      "Epoch 84/100....Training loss = 0.2366\n",
      "Epoch 85/100....Training loss = 0.2354\n"
     ]
    },
    {
     "name": "stderr",
     "output_type": "stream",
     "text": [
      "\r",
      " 85%|████████████████████████████████████████████████████████████████████████████████████████████████████████████████████████████████████████████████████████████████████████████▌                              | 85/100 [11:59<02:07,  8.53s/it]"
     ]
    },
    {
     "name": "stdout",
     "output_type": "stream",
     "text": [
      "Epoch 85/100....Validation mad = 0.4837, Validation fad = 0.9730\n"
     ]
    },
    {
     "name": "stderr",
     "output_type": "stream",
     "text": [
      "\r",
      " 86%|██████████████████████████████████████████████████████████████████████████████████████████████████████████████████████████████████████████████████████████████████████████████▌                            | 86/100 [12:07<01:57,  8.42s/it]"
     ]
    },
    {
     "name": "stdout",
     "output_type": "stream",
     "text": [
      "Epoch 86/100....Training loss = 0.2324\n"
     ]
    },
    {
     "name": "stderr",
     "output_type": "stream",
     "text": [
      "\r",
      " 87%|████████████████████████████████████████████████████████████████████████████████████████████████████████████████████████████████████████████████████████████████████████████████▌                          | 87/100 [12:15<01:48,  8.34s/it]"
     ]
    },
    {
     "name": "stdout",
     "output_type": "stream",
     "text": [
      "Epoch 87/100....Training loss = 0.2331\n"
     ]
    },
    {
     "name": "stderr",
     "output_type": "stream",
     "text": [
      "\r",
      " 88%|██████████████████████████████████████████████████████████████████████████████████████████████████████████████████████████████████████████████████████████████████████████████████▋                        | 88/100 [12:24<01:39,  8.29s/it]"
     ]
    },
    {
     "name": "stdout",
     "output_type": "stream",
     "text": [
      "Epoch 88/100....Training loss = 0.2324\n"
     ]
    },
    {
     "name": "stderr",
     "output_type": "stream",
     "text": [
      "\r",
      " 89%|████████████████████████████████████████████████████████████████████████████████████████████████████████████████████████████████████████████████████████████████████████████████████▋                      | 89/100 [12:32<01:30,  8.24s/it]"
     ]
    },
    {
     "name": "stdout",
     "output_type": "stream",
     "text": [
      "Epoch 89/100....Training loss = 0.2319\n",
      "Epoch 90/100....Training loss = 0.2310\n"
     ]
    },
    {
     "name": "stderr",
     "output_type": "stream",
     "text": [
      "\r",
      " 90%|██████████████████████████████████████████████████████████████████████████████████████████████████████████████████████████████████████████████████████████████████████████████████████▋                    | 90/100 [12:41<01:25,  8.54s/it]"
     ]
    },
    {
     "name": "stdout",
     "output_type": "stream",
     "text": [
      "Epoch 90/100....Validation mad = 0.4743, Validation fad = 0.9683\n"
     ]
    },
    {
     "name": "stderr",
     "output_type": "stream",
     "text": [
      "\r",
      " 91%|████████████████████████████████████████████████████████████████████████████████████████████████████████████████████████████████████████████████████████████████████████████████████████▋                  | 91/100 [12:49<01:15,  8.41s/it]"
     ]
    },
    {
     "name": "stdout",
     "output_type": "stream",
     "text": [
      "Epoch 91/100....Training loss = 0.2308\n"
     ]
    },
    {
     "name": "stderr",
     "output_type": "stream",
     "text": [
      "\r",
      " 92%|██████████████████████████████████████████████████████████████████████████████████████████████████████████████████████████████████████████████████████████████████████████████████████████▊                | 92/100 [12:57<01:06,  8.35s/it]"
     ]
    },
    {
     "name": "stdout",
     "output_type": "stream",
     "text": [
      "Epoch 92/100....Training loss = 0.2304\n"
     ]
    },
    {
     "name": "stderr",
     "output_type": "stream",
     "text": [
      "\r",
      " 93%|████████████████████████████████████████████████████████████████████████████████████████████████████████████████████████████████████████████████████████████████████████████████████████████▊              | 93/100 [13:05<00:58,  8.29s/it]"
     ]
    },
    {
     "name": "stdout",
     "output_type": "stream",
     "text": [
      "Epoch 93/100....Training loss = 0.2291\n"
     ]
    },
    {
     "name": "stderr",
     "output_type": "stream",
     "text": [
      "\r",
      " 94%|██████████████████████████████████████████████████████████████████████████████████████████████████████████████████████████████████████████████████████████████████████████████████████████████▊            | 94/100 [13:14<00:49,  8.27s/it]"
     ]
    },
    {
     "name": "stdout",
     "output_type": "stream",
     "text": [
      "Epoch 94/100....Training loss = 0.2293\n",
      "Epoch 95/100....Training loss = 0.2296\n"
     ]
    },
    {
     "name": "stderr",
     "output_type": "stream",
     "text": [
      "\r",
      " 95%|████████████████████████████████████████████████████████████████████████████████████████████████████████████████████████████████████████████████████████████████████████████████████████████████▊          | 95/100 [13:23<00:42,  8.55s/it]"
     ]
    },
    {
     "name": "stdout",
     "output_type": "stream",
     "text": [
      "Epoch 95/100....Validation mad = 0.4863, Validation fad = 0.9868\n"
     ]
    },
    {
     "name": "stderr",
     "output_type": "stream",
     "text": [
      "\r",
      " 96%|██████████████████████████████████████████████████████████████████████████████████████████████████████████████████████████████████████████████████████████████████████████████████████████████████▉        | 96/100 [13:31<00:33,  8.42s/it]"
     ]
    },
    {
     "name": "stdout",
     "output_type": "stream",
     "text": [
      "Epoch 96/100....Training loss = 0.2297\n"
     ]
    },
    {
     "name": "stderr",
     "output_type": "stream",
     "text": [
      "\r",
      " 97%|████████████████████████████████████████████████████████████████████████████████████████████████████████████████████████████████████████████████████████████████████████████████████████████████████▉      | 97/100 [13:39<00:25,  8.37s/it]"
     ]
    },
    {
     "name": "stdout",
     "output_type": "stream",
     "text": [
      "Epoch 97/100....Training loss = 0.2280\n"
     ]
    },
    {
     "name": "stderr",
     "output_type": "stream",
     "text": [
      "\r",
      " 98%|██████████████████████████████████████████████████████████████████████████████████████████████████████████████████████████████████████████████████████████████████████████████████████████████████████▉    | 98/100 [13:48<00:16,  8.38s/it]"
     ]
    },
    {
     "name": "stdout",
     "output_type": "stream",
     "text": [
      "Epoch 98/100....Training loss = 0.2269\n"
     ]
    },
    {
     "name": "stderr",
     "output_type": "stream",
     "text": [
      "\r",
      " 99%|████████████████████████████████████████████████████████████████████████████████████████████████████████████████████████████████████████████████████████████████████████████████████████████████████████▉  | 99/100 [13:56<00:08,  8.30s/it]"
     ]
    },
    {
     "name": "stdout",
     "output_type": "stream",
     "text": [
      "Epoch 99/100....Training loss = 0.2281\n",
      "Epoch 100/100....Training loss = 0.2264\n"
     ]
    },
    {
     "name": "stderr",
     "output_type": "stream",
     "text": [
      "100%|██████████████████████████████████████████████████████████████████████████████████████████████████████████████████████████████████████████████████████████████████████████████████████████████████████████| 100/100 [14:05<00:00,  8.45s/it]"
     ]
    },
    {
     "name": "stdout",
     "output_type": "stream",
     "text": [
      "Epoch 100/100....Validation mad = 0.4898, Validation fad = 0.9728\n"
     ]
    },
    {
     "name": "stderr",
     "output_type": "stream",
     "text": [
      "\n"
     ]
    }
   ],
   "source": [
    "# number of epochs\n",
    "epochs = 100\n",
    "\n",
    "# metric variables\n",
    "training_loss = []\n",
    "validation_loss = []\n",
    "val_mad = []\n",
    "val_fad = []\n",
    "\n",
    "# Define the MSE loss function\n",
    "criterion = nn.MSELoss()\n",
    "\n",
    "learning_rate = 0.0001\n",
    "# optimizer = torch.optim.SGD(LSTM_model.parameters(), lr=learning_rate)\n",
    "optimizer = torch.optim.Adam(LSTM_model.parameters(), lr=learning_rate)\n",
    "# optimizer = torch.optim.AdamW(LSTM_model.parameters(), lr=1e-2, betas=(0.9, 0.95), weight_decay=1e-1)\n",
    "\n",
    "\n",
    "for epoch in tqdm(range(epochs)):\n",
    "    # TRAINING MODE\n",
    "    LSTM_model.train()\n",
    "\n",
    "    # training batch variables\n",
    "    train_batch_loss = 0\n",
    "\n",
    "    for idx, data in enumerate(train_loader):\n",
    "        # getting encoder input data\n",
    "        X = data['src'][:, :, 0:2].to(device)\n",
    "        target = data['trg'][:, :, 0:2].to(device)\n",
    "\n",
    "        # forward pass\n",
    "        optimizer.zero_grad()\n",
    "        # predictions = tf_model.forward(enc_input, dec_input, dec_source_mask, dec_target_mask)\n",
    "        predictions = LSTM_model.forward(X)\n",
    "\n",
    "        loss = criterion(predictions.view(X.size(0), -1),\n",
    "                         target.contiguous().view(X.size(0), -1))\n",
    "        train_batch_loss += loss.item()\n",
    "\n",
    "        # updating weights\n",
    "        loss.backward()\n",
    "        optimizer.step()\n",
    "\n",
    "    training_loss.append(train_batch_loss/len(train_loader))\n",
    "    print(\"Epoch {}/{}....Training loss = {:.4f}\".format(epoch +\n",
    "                                                         1, epochs, training_loss[-1]))\n",
    "\n",
    "    # validation loop\n",
    "    if (epoch+1) % 5 == 0:\n",
    "        with torch.no_grad():\n",
    "            # EVALUATION MODE\n",
    "            LSTM_model.eval()\n",
    "\n",
    "            # validation variables\n",
    "            batch_val_loss = 0\n",
    "            gt = []\n",
    "            pr = []\n",
    "\n",
    "            for id_b, data in enumerate(val_loader):\n",
    "                # storing groung truth\n",
    "                truth = data['trg'][:, :, 0:2].to(device)\n",
    "                gt.append(data['trg'][:, :, 0:2])\n",
    "                # input to encoder input\n",
    "                val_input = data['src'][:, :, 0:2].to(device)\n",
    "                # prediction till horizon lenght\n",
    "                model_output = LSTM_model.forward(val_input)\n",
    "                pr.append(model_output.view(val_input.size(0), 12, -1).cpu())\n",
    "\n",
    "                # calculating loss using pairwise distance of all predictions\n",
    "                val_loss = criterion(model_output.view(val_input.size(\n",
    "                    0), -1), truth.contiguous().view(val_input.size(0), -1))\n",
    "                batch_val_loss += val_loss.item()\n",
    "\n",
    "            validation_loss.append(batch_val_loss/len(val_loader))\n",
    "\n",
    "            # calculating mad and fad evaluation metrics\n",
    "            gt = np.concatenate(gt, 0)\n",
    "            pr = np.concatenate(pr, 0)\n",
    "            mad, fad, _ = dataloader.distance_metrics(gt, pr)\n",
    "            val_mad.append(mad)\n",
    "            val_fad.append(fad)\n",
    "\n",
    "            print(\"Epoch {}/{}....Validation mad = {:.4f}, Validation fad = {:.4f}\".format(\n",
    "                epoch+1, epochs, mad, fad))\n",
    "\n",
    "    # Saving model, loss and error log files\n",
    "    torch.save({\n",
    "        'model_state_dict': LSTM_model.state_dict(),\n",
    "        'optimizer_state_dict': optimizer.state_dict(),\n",
    "        'training_loss': training_loss,\n",
    "        'validation_loss': validation_loss,\n",
    "        'val_mad': val_mad,\n",
    "        'val_fad': val_fad,\n",
    "        'learning_rate': learning_rate\n",
    "    }, os.path.join(save_location, 'LSTM_epoch{}.pth'.format(epoch+1)))\n"
   ]
  },
  {
   "cell_type": "markdown",
   "metadata": {},
   "source": [
    "## 5. Visualisation"
   ]
  },
  {
   "cell_type": "code",
   "execution_count": 11,
   "metadata": {},
   "outputs": [
    {
     "data": {
      "image/png": "[encoded data removed]",
      "text/plain": [
       "<Figure size 640x480 with 1 Axes>"
      ]
     },
     "metadata": {},
     "output_type": "display_data"
    },
    {
     "data": {
      "image/png": "[encoded data removed]",
      "text/plain": [
       "<Figure size 640x480 with 1 Axes>"
      ]
     },
     "metadata": {},
     "output_type": "display_data"
    },
    {
     "data": {
      "image/png": "[encoded data removed]",
      "text/plain": [
       "<Figure size 640x480 with 1 Axes>"
      ]
     },
     "metadata": {},
     "output_type": "display_data"
    },
    {
     "data": {
      "image/png": "[encoded data removed]",
      "text/plain": [
       "<Figure size 640x480 with 1 Axes>"
      ]
     },
     "metadata": {},
     "output_type": "display_data"
    },
    {
     "data": {
      "image/png": "[encoded data removed]",
      "text/plain": [
       "<Figure size 640x480 with 1 Axes>"
      ]
     },
     "metadata": {},
     "output_type": "display_data"
    }
   ],
   "source": [
    "device = \"cuda\" if torch.cuda.is_available() else \"cpu\"\n",
    "loaded_file = torch.load(os.path.join(\n",
    "    save_location, 'LSTM_epoch100.pth'), map_location=torch.device(device))\n",
    "\n",
    "# creating model and loading weights\n",
    "# encoder_ip_size = 2\n",
    "# decoder_ip_size = 3\n",
    "# model_op_size = 3\n",
    "# emb_size = 512\n",
    "# num_heads = 8\n",
    "# ff_hidden_size = 2048\n",
    "# n = 6\n",
    "# dropout = 0.1\n",
    "\n",
    "# model_loaded = model.TFModel(encoder_ip_size, decoder_ip_size, model_op_size, emb_size,\n",
    "#                              num_heads, ff_hidden_size, n, dropout=0.1)\n",
    "\n",
    "model_loaded = model_LSTM.LSTM(input_size=2, input_seq_len=8,\n",
    "                             hidden_size=128, num_layers=3, output_size=2, output_seq_len=12).to(device)\n",
    "\n",
    "\n",
    "model_loaded = model_loaded.to(device)\n",
    "model_loaded.load_state_dict(loaded_file['model_state_dict'])\n",
    "\n",
    "# loading training metric variables\n",
    "training_loss = loaded_file['training_loss']\n",
    "validation_loss = loaded_file['validation_loss']\n",
    "val_mad = loaded_file['val_mad']\n",
    "val_fad = loaded_file['val_fad']\n",
    "learning_rate = loaded_file['learning_rate']\n",
    "\n",
    "# plotting training loss\n",
    "plt.figure()\n",
    "plt.plot(training_loss)\n",
    "plt.xlabel(\"Number of epochs\")\n",
    "plt.ylabel(\"Training loss\")\n",
    "plt.title(\"Training loss VS Number of Epochs\")\n",
    "\n",
    "# plotting validation loss\n",
    "plt.figure()\n",
    "plt.plot(validation_loss)\n",
    "plt.xlabel(\"Number of epochs\")\n",
    "plt.ylabel(\"Validation loss\")\n",
    "plt.title(\"Validation loss VS Number of Epochs\")\n",
    "\n",
    "# plotting training and validation loss together\n",
    "plt.figure()\n",
    "plt.plot(loaded_file['training_loss'], label=\"training loss\")\n",
    "plt.plot(np.arange(1, 100, 5),\n",
    "            loaded_file['validation_loss'], label=\"validation loss\")\n",
    "plt.legend()\n",
    "plt.xlabel(\"Epochs\")\n",
    "plt.ylabel(\"loss\")\n",
    "plt.title(\"Training v/s Validation loss\")\n",
    "plt.savefig(\"loss.png\")\n",
    "\n",
    "# plotting learning rate for model\n",
    "# plt.figure()\n",
    "# plt.plot(learning_rate)\n",
    "# plt.xlabel(\"Number of epochs\")\n",
    "# plt.ylabel(\"learning_rate\")\n",
    "# plt.title(\"Learning_rate VS Number of Epochs\")\n",
    "\n",
    "# plotting MAD\n",
    "plt.figure()\n",
    "plt.plot(np.arange(1, 100, 5),\n",
    "            loaded_file['val_mad'], label=\"validation MAD\")\n",
    "plt.xlabel(\"Epochs\")\n",
    "plt.ylabel(\"MAD (m)\")\n",
    "plt.title(\"Mean Average Displacement\")\n",
    "plt.savefig(\"mad.png\")\n",
    "\n",
    "# plotting FAD\n",
    "plt.figure()\n",
    "plt.plot(np.arange(1, 100, 5),\n",
    "            loaded_file['val_fad'], label=\"validation FAD\")\n",
    "plt.xlabel(\"Epochs\")\n",
    "plt.ylabel(\"FAD (m)\")\n",
    "plt.title(\"Final Average Displacement\")\n",
    "plt.savefig(\"fad.png\")\n",
    "\n",
    "plt.show()"
   ]
  },
  {
   "cell_type": "code",
   "execution_count": 12,
   "metadata": {},
   "outputs": [
    {
     "data": {
      "image/png": "[encoded data removed]",
      "text/plain": [
       "<Figure size 640x480 with 1 Axes>"
      ]
     },
     "metadata": {},
     "output_type": "display_data"
    }
   ],
   "source": [
    "# Running the validation loop to generate prediction trajectories on validation data\n",
    "validation_loss = []\n",
    "val_mad = []\n",
    "val_fad = []\n",
    "\n",
    "with torch.no_grad():\n",
    "    # EVALUATION MODE\n",
    "    model_loaded.eval()\n",
    "\n",
    "    # validation variables\n",
    "    batch_val_loss = 0\n",
    "    gt = []\n",
    "    pr = []\n",
    "    obs = []\n",
    "\n",
    "    for id_b, data in enumerate(val_loader):\n",
    "        # storing groung truth\n",
    "        truth = data['trg'][:, :, 0:2].to(device)\n",
    "        gt.append(data['trg'][:, :, 0:2])\n",
    "        obs.append(data['src'][:, :, 0:2])\n",
    "        # input to encoder input\n",
    "        val_input = data['src'][:, :, 0:2].to(device)\n",
    "\n",
    "        # prediction till horizon lenght\n",
    "        model_output = model_loaded.forward(val_input)\n",
    "        pr.append(model_output.view(val_input.size(0), 12, -1).cpu())\n",
    "\n",
    "        # calculating loss using pairwise distance of all predictions\n",
    "        val_loss = criterion(model_output.view(val_input.size(0), -1), truth.contiguous().view(val_input.size(0), -1))\n",
    "        batch_val_loss += val_loss.item()\n",
    "\n",
    "        validation_loss.append(batch_val_loss/len(val_loader))\n",
    "\n",
    "    # calculating mad and fad evaluation metrics\n",
    "    gt = np.concatenate(gt, 0)\n",
    "    pr = np.concatenate(pr, 0)\n",
    "    obs = np.concatenate(obs, 0)\n",
    "    mad, fad, _ = dataloader.distance_metrics(gt, pr)\n",
    "    val_mad.append(mad)\n",
    "    val_fad.append(fad)\n",
    "\n",
    "# plotting the predicted and ground truth trajectories\n",
    "idx = np.random.randint(0, gt.shape[0])\n",
    "plt.figure()\n",
    "plt.scatter(gt[idx, :, 0], gt[idx, :, 1],\n",
    "            color='green', label=\"Ground truth\")\n",
    "plt.scatter(pr[idx, :, 0], pr[idx, :, 1],\n",
    "            color='orange', label=\"Predictions\")\n",
    "plt.scatter(obs[idx, :, 0], obs[idx, :, 1],\n",
    "            color='b', label=\"Observations\")\n",
    "plt.legend()\n",
    "plt.xlim(-8, 18)\n",
    "plt.ylim(-11, 15)\n",
    "plt.title(\"Trajectory Visualization in camera frame\")\n",
    "plt.xlabel(\"X (m)\")\n",
    "plt.ylabel(\"Y (m)\")\n",
    "plt.savefig(\"traj_{}\".format(idx))\n",
    "\n",
    "plt.show()"
   ]
  },
  {
   "cell_type": "code",
   "execution_count": 13,
   "metadata": {},
   "outputs": [
    {
     "data": {
      "image/png": "[encoded data removed]",
      "text/plain": [
       "<Figure size 640x480 with 1 Axes>"
      ]
     },
     "metadata": {},
     "output_type": "display_data"
    }
   ],
   "source": [
    "# plotting the predicted and ground truth trajectories\n",
    "idx = np.random.randint(0, gt.shape[0])\n",
    "plt.figure()\n",
    "plt.scatter(gt[idx, :, 0], gt[idx, :, 1],\n",
    "            color='green', label=\"Ground truth\")\n",
    "plt.scatter(pr[idx, :, 0], pr[idx, :, 1],\n",
    "            color='orange', label=\"Predictions\")\n",
    "plt.scatter(obs[idx, :, 0], obs[idx, :, 1],\n",
    "            color='b', label=\"Observations\")\n",
    "plt.legend()\n",
    "plt.xlim(-8, 18)\n",
    "plt.ylim(-11, 15)\n",
    "plt.title(\"Trajectory Visualization in camera frame\")\n",
    "plt.xlabel(\"X (m)\")\n",
    "plt.ylabel(\"Y (m)\")\n",
    "# plt.savefig(\"traj_{}\".format(idx))\n",
    "\n",
    "plt.show()"
   ]
  },
  {
   "cell_type": "markdown",
   "metadata": {},
   "source": [
    "## 6. Evaluation on test set"
   ]
  },
  {
   "cell_type": "code",
   "execution_count": null,
   "metadata": {},
   "outputs": [],
   "source": []
  }
 ],
 "metadata": {
  "kernelspec": {
   "display_name": "Python 3 (ipykernel)",
   "language": "python",
   "name": "python3"
  },
  "language_info": {
   "codemirror_mode": {
    "name": "ipython",
    "version": 3
   },
   "file_extension": ".py",
   "mimetype": "text/x-python",
   "name": "python",
   "nbconvert_exporter": "python",
   "pygments_lexer": "ipython3",
   "version": "3.9.18"
  }
 },
 "nbformat": 4,
 "nbformat_minor": 2
}

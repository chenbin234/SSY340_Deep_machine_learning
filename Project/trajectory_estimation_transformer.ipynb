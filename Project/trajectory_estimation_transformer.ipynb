{
 "cells": [
  {
   "cell_type": "markdown",
   "metadata": {},
   "source": [
    "# SSY340 Project - Trajectory Estimation"
   ]
  },
  {
   "cell_type": "markdown",
   "metadata": {},
   "source": [
    "### Fill in group number and member names:"
   ]
  },
  {
   "cell_type": "code",
   "execution_count": 1,
   "metadata": {},
   "outputs": [],
   "source": [
    "NAME1 = \"Bingcheng Chen\" \n",
    "NAME2 = \"Arvin Rokni\"\n",
    "GROUP = \"Project groups 64\""
   ]
  },
  {
   "cell_type": "markdown",
   "metadata": {},
   "source": [
    "## 1. Loading the data"
   ]
  },
  {
   "cell_type": "code",
   "execution_count": 2,
   "metadata": {},
   "outputs": [],
   "source": [
    "import torch\n",
    "import torch.nn.functional as F\n",
    "from tqdm import tqdm\n",
    "import numpy as np\n",
    "import os\n",
    "import dataloader\n",
    "import model_Transformer\n",
    "import utils\n",
    "import matplotlib.pyplot as plt\n",
    "from torch.utils.data import DataLoader"
   ]
  },
  {
   "cell_type": "markdown",
   "metadata": {},
   "source": [
    "## 2. Pre-processing"
   ]
  },
  {
   "cell_type": "code",
   "execution_count": 3,
   "metadata": {},
   "outputs": [],
   "source": [
    "# defining model save location\n",
    "save_location = \"./models\"\n",
    "# defining dataset locations\n",
    "dataset_folder = \"./datasets\"\n",
    "dataset_name = \"raw\"\n",
    "# setting validation size. if val_size = 0, split percentage is 80-20\n",
    "val_size = 0\n",
    "# length of sequence given to encoder\n",
    "gt = 8\n",
    "# length of sequence given to decoder\n",
    "horizon = 12\n",
    "\n",
    "\n",
    "train_dataset, _ = dataloader.create_dataset(dataset_folder, dataset_name, val_size, \\\n",
    "    gt, horizon, delim=\"\\t\", train=True)\n",
    "val_dataset, _ = dataloader.create_dataset(dataset_folder, dataset_name, val_size, \\\n",
    "    gt, horizon, delim=\"\\t\", train=False)\n",
    "# test_dataset, _ = dataloader.create_dataset(dataset_folder, dataset_name, val_size, \\\n",
    "#     gt, horizon, delim=\"\\t\", train=False, eval=True)"
   ]
  },
  {
   "cell_type": "code",
   "execution_count": 4,
   "metadata": {},
   "outputs": [
    {
     "data": {
      "text/plain": [
       "{'src': tensor([[3.7341e+00, 8.0111e+00, 0.0000e+00, 0.0000e+00],\n",
       "         [3.7469e+00, 8.1700e+00, 1.2838e-02, 1.5895e-01],\n",
       "         [3.7597e+00, 8.3292e+00, 1.2838e-02, 1.5919e-01],\n",
       "         [3.7673e+00, 8.4636e+00, 7.5767e-03, 1.3437e-01],\n",
       "         [3.7673e+00, 8.5607e+00, 0.0000e+00, 9.7135e-02],\n",
       "         [3.7673e+00, 8.6581e+00, 0.0000e+00, 9.7373e-02],\n",
       "         [3.7673e+00, 8.7552e+00, 0.0000e+00, 9.7135e-02],\n",
       "         [3.7673e+00, 8.8526e+00, 0.0000e+00, 9.7373e-02]]),\n",
       " 'trg': tensor([[ 3.7673,  8.9497,  0.0000,  0.0971],\n",
       "         [ 3.7549,  8.9602, -0.0124,  0.0105],\n",
       "         [ 3.7423,  8.9710, -0.0126,  0.0107],\n",
       "         [ 3.7299,  8.9815, -0.0124,  0.0105],\n",
       "         [ 3.7174,  8.9922, -0.0124,  0.0107],\n",
       "         [ 3.7050,  9.0027, -0.0124,  0.0105],\n",
       "         [ 3.6924,  9.0135, -0.0126,  0.0107],\n",
       "         [ 3.6800,  9.0240, -0.0124,  0.0105],\n",
       "         [ 3.6676,  9.0347, -0.0124,  0.0107],\n",
       "         [ 3.6551,  9.0452, -0.0124,  0.0105],\n",
       "         [ 3.6425,  9.0557, -0.0126,  0.0105],\n",
       "         [ 3.6301,  9.0664, -0.0124,  0.0107]]),\n",
       " 'frames': array([4420., 4430., 4440., 4450., 4460., 4470., 4480., 4490., 4500.,\n",
       "        4510., 4520., 4530., 4540., 4550., 4560., 4570., 4580., 4590.,\n",
       "        4600., 4610.]),\n",
       " 'seq_start': array([[3.734072, 8.011093]], dtype=float32),\n",
       " 'dataset': 0,\n",
       " 'peds': 179.0}"
      ]
     },
     "execution_count": 4,
     "metadata": {},
     "output_type": "execute_result"
    }
   ],
   "source": [
    "val_dataset[10]"
   ]
  },
  {
   "cell_type": "code",
   "execution_count": 5,
   "metadata": {},
   "outputs": [
    {
     "data": {
      "text/plain": [
       "torch.Size([8, 4])"
      ]
     },
     "execution_count": 5,
     "metadata": {},
     "output_type": "execute_result"
    }
   ],
   "source": [
    "val_dataset[10]['src'].shape"
   ]
  },
  {
   "cell_type": "markdown",
   "metadata": {},
   "source": [
    "## 3. Data loaders"
   ]
  },
  {
   "cell_type": "code",
   "execution_count": 6,
   "metadata": {},
   "outputs": [],
   "source": [
    "# defining batch size\n",
    "batch_size = 64\n",
    "\n",
    "# creating torch dataloaders\n",
    "train_loader = DataLoader(train_dataset, batch_size, shuffle=True, num_workers=0)\n",
    "val_loader = DataLoader(val_dataset, batch_size, shuffle=True, num_workers=0)"
   ]
  },
  {
   "cell_type": "code",
   "execution_count": 7,
   "metadata": {},
   "outputs": [],
   "source": [
    "# calculating the mean and standard deviation of velocities of the entire dataset\n",
    "mean = torch.cat((train_dataset[:]['src'][:, 1:, 2:4],\n",
    "                    train_dataset[:]['trg'][:, :, 2:4]), 1).mean((0, 1))\n",
    "std = torch.cat((train_dataset[:]['src'][:, 1:, 2:4],\n",
    "                train_dataset[:]['trg'][:, :, 2:4]), 1).std((0, 1))\n",
    "means = []\n",
    "stds = []\n",
    "for i in np.unique(train_dataset[:]['dataset']):\n",
    "    ind = train_dataset[:]['dataset'] == i\n",
    "    means.append(torch.cat(\n",
    "        (train_dataset[:]['src'][ind, 1:, 2:4], train_dataset[:]['trg'][ind, :, 2:4]), 1).mean((0, 1)))\n",
    "    stds.append(\n",
    "        torch.cat((train_dataset[:]['src'][ind, 1:, 2:4], train_dataset[:]['trg'][ind, :, 2:4]), 1).std((0, 1)))\n",
    "mean = torch.stack(means).mean(0)\n",
    "std = torch.stack(stds).mean(0)"
   ]
  },
  {
   "cell_type": "markdown",
   "metadata": {},
   "source": [
    "## 4. Training"
   ]
  },
  {
   "cell_type": "markdown",
   "metadata": {},
   "source": [
    "#### 4.1 create a model"
   ]
  },
  {
   "cell_type": "code",
   "execution_count": 8,
   "metadata": {},
   "outputs": [],
   "source": [
    "device = torch.device('cuda' if torch.cuda.is_available() else 'cpu')\n",
    "\n",
    "tf_model = model_Transformer.Transformer(encoder_input_size=2, decoder_input_size=3,\n",
    "                                embedding_size=512, num_heads=8, num_layers=6, feedforward_size=2048).to(device)"
   ]
  },
  {
   "cell_type": "code",
   "execution_count": 9,
   "metadata": {},
   "outputs": [
    {
     "data": {
      "text/plain": [
       "Transformer(\n",
       "  (encoder_embedding): Embeddings(\n",
       "    (linear_embd): Linear(in_features=2, out_features=512, bias=True)\n",
       "  )\n",
       "  (decoder_embedding): Embeddings(\n",
       "    (linear_embd): Linear(in_features=3, out_features=512, bias=True)\n",
       "  )\n",
       "  (positional_encoding): PositionalEncoding()\n",
       "  (encoder_layers): ModuleList(\n",
       "    (0-5): 6 x EncoderLayer(\n",
       "      (self_attn): MultiHeadAttention(\n",
       "        (W_q): Linear(in_features=512, out_features=512, bias=True)\n",
       "        (W_k): Linear(in_features=512, out_features=512, bias=True)\n",
       "        (W_v): Linear(in_features=512, out_features=512, bias=True)\n",
       "        (W_o): Linear(in_features=512, out_features=512, bias=True)\n",
       "      )\n",
       "      (feed_forward): PositionWiseFeedForward(\n",
       "        (fc1): Linear(in_features=512, out_features=2048, bias=True)\n",
       "        (fc2): Linear(in_features=2048, out_features=512, bias=True)\n",
       "        (relu): ReLU()\n",
       "      )\n",
       "      (norm1): LayerNorm((512,), eps=1e-05, elementwise_affine=True)\n",
       "      (norm2): LayerNorm((512,), eps=1e-05, elementwise_affine=True)\n",
       "      (dropout): Dropout(p=0.1, inplace=False)\n",
       "    )\n",
       "  )\n",
       "  (decoder_layers): ModuleList(\n",
       "    (0-5): 6 x DecoderLayer(\n",
       "      (self_attn): MultiHeadAttention(\n",
       "        (W_q): Linear(in_features=512, out_features=512, bias=True)\n",
       "        (W_k): Linear(in_features=512, out_features=512, bias=True)\n",
       "        (W_v): Linear(in_features=512, out_features=512, bias=True)\n",
       "        (W_o): Linear(in_features=512, out_features=512, bias=True)\n",
       "      )\n",
       "      (cross_attn): MultiHeadAttention(\n",
       "        (W_q): Linear(in_features=512, out_features=512, bias=True)\n",
       "        (W_k): Linear(in_features=512, out_features=512, bias=True)\n",
       "        (W_v): Linear(in_features=512, out_features=512, bias=True)\n",
       "        (W_o): Linear(in_features=512, out_features=512, bias=True)\n",
       "      )\n",
       "      (feed_forward): PositionWiseFeedForward(\n",
       "        (fc1): Linear(in_features=512, out_features=2048, bias=True)\n",
       "        (fc2): Linear(in_features=2048, out_features=512, bias=True)\n",
       "        (relu): ReLU()\n",
       "      )\n",
       "      (norm1): LayerNorm((512,), eps=1e-05, elementwise_affine=True)\n",
       "      (norm2): LayerNorm((512,), eps=1e-05, elementwise_affine=True)\n",
       "      (norm3): LayerNorm((512,), eps=1e-05, elementwise_affine=True)\n",
       "      (dropout): Dropout(p=0.1, inplace=False)\n",
       "    )\n",
       "  )\n",
       "  (fc): Linear(in_features=512, out_features=3, bias=True)\n",
       "  (dropout): Dropout(p=0.1, inplace=False)\n",
       ")"
      ]
     },
     "execution_count": 9,
     "metadata": {},
     "output_type": "execute_result"
    }
   ],
   "source": [
    "tf_model"
   ]
  },
  {
   "cell_type": "markdown",
   "metadata": {},
   "source": [
    "#### 4.2 The training loop"
   ]
  },
  {
   "cell_type": "code",
   "execution_count": 12,
   "metadata": {},
   "outputs": [
    {
     "name": "stdout",
     "output_type": "stream",
     "text": [
      "Value of eta max is: 0.0003\n"
     ]
    },
    {
     "name": "stderr",
     "output_type": "stream",
     "text": [
      "  1%|██                                                                                                                                                                                                          | 1/100 [00:33<55:39, 33.74s/it]"
     ]
    },
    {
     "name": "stdout",
     "output_type": "stream",
     "text": [
      "Epoch 1/100....Training loss = 1.0395\n"
     ]
    },
    {
     "name": "stderr",
     "output_type": "stream",
     "text": [
      "  2%|████                                                                                                                                                                                                        | 2/100 [01:06<54:30, 33.38s/it]"
     ]
    },
    {
     "name": "stdout",
     "output_type": "stream",
     "text": [
      "Epoch 2/100....Training loss = 1.0123\n"
     ]
    },
    {
     "name": "stderr",
     "output_type": "stream",
     "text": [
      "  3%|██████                                                                                                                                                                                                      | 3/100 [01:40<53:52, 33.33s/it]"
     ]
    },
    {
     "name": "stdout",
     "output_type": "stream",
     "text": [
      "Epoch 3/100....Training loss = 1.0022\n"
     ]
    },
    {
     "name": "stderr",
     "output_type": "stream",
     "text": [
      "  4%|████████▏                                                                                                                                                                                                   | 4/100 [02:13<53:17, 33.31s/it]"
     ]
    },
    {
     "name": "stdout",
     "output_type": "stream",
     "text": [
      "Epoch 4/100....Training loss = 1.0002\n",
      "Epoch 5/100....Training loss = 1.0000\n"
     ]
    },
    {
     "name": "stderr",
     "output_type": "stream",
     "text": [
      "  5%|██████████                                                                                                                                                                                                | 5/100 [03:01<1:01:20, 38.74s/it]"
     ]
    },
    {
     "name": "stdout",
     "output_type": "stream",
     "text": [
      "Epoch 5/100....Validation mad = 1.5433, Validation fad = 2.8128\n"
     ]
    },
    {
     "name": "stderr",
     "output_type": "stream",
     "text": [
      "  6%|████████████▏                                                                                                                                                                                               | 6/100 [03:35<57:47, 36.89s/it]"
     ]
    },
    {
     "name": "stdout",
     "output_type": "stream",
     "text": [
      "Epoch 6/100....Training loss = 0.9994\n"
     ]
    },
    {
     "name": "stderr",
     "output_type": "stream",
     "text": [
      "  7%|██████████████▎                                                                                                                                                                                             | 7/100 [04:08<55:18, 35.69s/it]"
     ]
    },
    {
     "name": "stdout",
     "output_type": "stream",
     "text": [
      "Epoch 7/100....Training loss = 0.9993\n"
     ]
    },
    {
     "name": "stderr",
     "output_type": "stream",
     "text": [
      "  8%|████████████████▎                                                                                                                                                                                           | 8/100 [04:41<53:32, 34.92s/it]"
     ]
    },
    {
     "name": "stdout",
     "output_type": "stream",
     "text": [
      "Epoch 8/100....Training loss = 0.9995\n"
     ]
    },
    {
     "name": "stderr",
     "output_type": "stream",
     "text": [
      "  9%|██████████████████▎                                                                                                                                                                                         | 9/100 [05:14<52:08, 34.38s/it]"
     ]
    },
    {
     "name": "stdout",
     "output_type": "stream",
     "text": [
      "Epoch 9/100....Training loss = 0.9987\n",
      "Epoch 10/100....Training loss = 0.9985\n"
     ]
    },
    {
     "name": "stderr",
     "output_type": "stream",
     "text": [
      " 10%|████████████████████▎                                                                                                                                                                                      | 10/100 [06:03<58:02, 38.70s/it]"
     ]
    },
    {
     "name": "stdout",
     "output_type": "stream",
     "text": [
      "Epoch 10/100....Validation mad = 1.5423, Validation fad = 2.8109\n"
     ]
    },
    {
     "name": "stderr",
     "output_type": "stream",
     "text": [
      " 11%|██████████████████████▎                                                                                                                                                                                    | 11/100 [06:36<54:54, 37.02s/it]"
     ]
    },
    {
     "name": "stdout",
     "output_type": "stream",
     "text": [
      "Epoch 11/100....Training loss = 0.9988\n"
     ]
    },
    {
     "name": "stderr",
     "output_type": "stream",
     "text": [
      " 12%|████████████████████████▎                                                                                                                                                                                  | 12/100 [07:09<52:33, 35.84s/it]"
     ]
    },
    {
     "name": "stdout",
     "output_type": "stream",
     "text": [
      "Epoch 12/100....Training loss = 0.9988\n"
     ]
    },
    {
     "name": "stderr",
     "output_type": "stream",
     "text": [
      " 13%|██████████████████████████▍                                                                                                                                                                                | 13/100 [07:42<50:48, 35.04s/it]"
     ]
    },
    {
     "name": "stdout",
     "output_type": "stream",
     "text": [
      "Epoch 13/100....Training loss = 0.9984\n"
     ]
    },
    {
     "name": "stderr",
     "output_type": "stream",
     "text": [
      " 14%|████████████████████████████▍                                                                                                                                                                              | 14/100 [08:15<49:24, 34.47s/it]"
     ]
    },
    {
     "name": "stdout",
     "output_type": "stream",
     "text": [
      "Epoch 14/100....Training loss = 0.9988\n",
      "Epoch 15/100....Training loss = 0.9986\n"
     ]
    },
    {
     "name": "stderr",
     "output_type": "stream",
     "text": [
      " 15%|██████████████████████████████▍                                                                                                                                                                            | 15/100 [09:04<54:45, 38.66s/it]"
     ]
    },
    {
     "name": "stdout",
     "output_type": "stream",
     "text": [
      "Epoch 15/100....Validation mad = 1.5422, Validation fad = 2.8109\n"
     ]
    },
    {
     "name": "stderr",
     "output_type": "stream",
     "text": [
      " 16%|████████████████████████████████▍                                                                                                                                                                          | 16/100 [09:37<51:49, 37.01s/it]"
     ]
    },
    {
     "name": "stdout",
     "output_type": "stream",
     "text": [
      "Epoch 16/100....Training loss = 0.9985\n"
     ]
    },
    {
     "name": "stderr",
     "output_type": "stream",
     "text": [
      " 17%|██████████████████████████████████▌                                                                                                                                                                        | 17/100 [10:10<49:35, 35.85s/it]"
     ]
    },
    {
     "name": "stdout",
     "output_type": "stream",
     "text": [
      "Epoch 17/100....Training loss = 0.9983\n"
     ]
    },
    {
     "name": "stderr",
     "output_type": "stream",
     "text": [
      " 18%|████████████████████████████████████▌                                                                                                                                                                      | 18/100 [10:43<47:55, 35.06s/it]"
     ]
    },
    {
     "name": "stdout",
     "output_type": "stream",
     "text": [
      "Epoch 18/100....Training loss = 0.9983\n"
     ]
    },
    {
     "name": "stderr",
     "output_type": "stream",
     "text": [
      " 19%|██████████████████████████████████████▌                                                                                                                                                                    | 19/100 [11:16<46:33, 34.49s/it]"
     ]
    },
    {
     "name": "stdout",
     "output_type": "stream",
     "text": [
      "Epoch 19/100....Training loss = 0.9982\n",
      "Epoch 20/100....Training loss = 0.9982\n"
     ]
    },
    {
     "name": "stderr",
     "output_type": "stream",
     "text": [
      " 20%|████████████████████████████████████████▌                                                                                                                                                                  | 20/100 [12:05<51:30, 38.64s/it]"
     ]
    },
    {
     "name": "stdout",
     "output_type": "stream",
     "text": [
      "Epoch 20/100....Validation mad = 1.5423, Validation fad = 2.8109\n"
     ]
    },
    {
     "name": "stderr",
     "output_type": "stream",
     "text": [
      " 21%|██████████████████████████████████████████▋                                                                                                                                                                | 21/100 [12:38<48:43, 37.01s/it]"
     ]
    },
    {
     "name": "stdout",
     "output_type": "stream",
     "text": [
      "Epoch 21/100....Training loss = 0.9979\n"
     ]
    },
    {
     "name": "stderr",
     "output_type": "stream",
     "text": [
      " 22%|████████████████████████████████████████████▋                                                                                                                                                              | 22/100 [13:11<46:37, 35.87s/it]"
     ]
    },
    {
     "name": "stdout",
     "output_type": "stream",
     "text": [
      "Epoch 22/100....Training loss = 0.9982\n"
     ]
    },
    {
     "name": "stderr",
     "output_type": "stream",
     "text": [
      " 23%|██████████████████████████████████████████████▋                                                                                                                                                            | 23/100 [13:44<45:02, 35.10s/it]"
     ]
    },
    {
     "name": "stdout",
     "output_type": "stream",
     "text": [
      "Epoch 23/100....Training loss = 0.9981\n"
     ]
    },
    {
     "name": "stderr",
     "output_type": "stream",
     "text": [
      " 24%|████████████████████████████████████████████████▋                                                                                                                                                          | 24/100 [14:18<43:43, 34.53s/it]"
     ]
    },
    {
     "name": "stdout",
     "output_type": "stream",
     "text": [
      "Epoch 24/100....Training loss = 0.9977\n",
      "Epoch 25/100....Training loss = 0.9980\n"
     ]
    },
    {
     "name": "stderr",
     "output_type": "stream",
     "text": [
      " 25%|██████████████████████████████████████████████████▊                                                                                                                                                        | 25/100 [15:06<48:17, 38.63s/it]"
     ]
    },
    {
     "name": "stdout",
     "output_type": "stream",
     "text": [
      "Epoch 25/100....Validation mad = 1.5422, Validation fad = 2.8107\n"
     ]
    },
    {
     "name": "stderr",
     "output_type": "stream",
     "text": [
      " 26%|████████████████████████████████████████████████████▊                                                                                                                                                      | 26/100 [15:39<45:37, 36.99s/it]"
     ]
    },
    {
     "name": "stdout",
     "output_type": "stream",
     "text": [
      "Epoch 26/100....Training loss = 0.9978\n"
     ]
    },
    {
     "name": "stderr",
     "output_type": "stream",
     "text": [
      " 27%|██████████████████████████████████████████████████████▊                                                                                                                                                    | 27/100 [16:12<43:34, 35.82s/it]"
     ]
    },
    {
     "name": "stdout",
     "output_type": "stream",
     "text": [
      "Epoch 27/100....Training loss = 0.9978\n"
     ]
    },
    {
     "name": "stderr",
     "output_type": "stream",
     "text": [
      " 28%|████████████████████████████████████████████████████████▊                                                                                                                                                  | 28/100 [16:45<42:01, 35.02s/it]"
     ]
    },
    {
     "name": "stdout",
     "output_type": "stream",
     "text": [
      "Epoch 28/100....Training loss = 0.9978\n"
     ]
    },
    {
     "name": "stderr",
     "output_type": "stream",
     "text": [
      " 29%|██████████████████████████████████████████████████████████▊                                                                                                                                                | 29/100 [17:18<40:44, 34.43s/it]"
     ]
    },
    {
     "name": "stdout",
     "output_type": "stream",
     "text": [
      "Epoch 29/100....Training loss = 0.9977\n",
      "Epoch 30/100....Training loss = 0.9975\n"
     ]
    },
    {
     "name": "stderr",
     "output_type": "stream",
     "text": [
      " 30%|████████████████████████████████████████████████████████████▉                                                                                                                                              | 30/100 [18:06<44:56, 38.52s/it]"
     ]
    },
    {
     "name": "stdout",
     "output_type": "stream",
     "text": [
      "Epoch 30/100....Validation mad = 1.5423, Validation fad = 2.8109\n"
     ]
    },
    {
     "name": "stderr",
     "output_type": "stream",
     "text": [
      " 31%|██████████████████████████████████████████████████████████████▉                                                                                                                                            | 31/100 [18:40<42:26, 36.91s/it]"
     ]
    },
    {
     "name": "stdout",
     "output_type": "stream",
     "text": [
      "Epoch 31/100....Training loss = 0.9978\n"
     ]
    },
    {
     "name": "stderr",
     "output_type": "stream",
     "text": [
      " 32%|████████████████████████████████████████████████████████████████▉                                                                                                                                          | 32/100 [19:13<40:31, 35.76s/it]"
     ]
    },
    {
     "name": "stdout",
     "output_type": "stream",
     "text": [
      "Epoch 32/100....Training loss = 0.9976\n"
     ]
    },
    {
     "name": "stderr",
     "output_type": "stream",
     "text": [
      " 33%|██████████████████████████████████████████████████████████████████▉                                                                                                                                        | 33/100 [19:46<39:03, 34.98s/it]"
     ]
    },
    {
     "name": "stdout",
     "output_type": "stream",
     "text": [
      "Epoch 33/100....Training loss = 0.9977\n"
     ]
    },
    {
     "name": "stderr",
     "output_type": "stream",
     "text": [
      " 34%|█████████████████████████████████████████████████████████████████████                                                                                                                                      | 34/100 [20:19<37:50, 34.40s/it]"
     ]
    },
    {
     "name": "stdout",
     "output_type": "stream",
     "text": [
      "Epoch 34/100....Training loss = 0.9973\n",
      "Epoch 35/100....Training loss = 0.9974\n"
     ]
    },
    {
     "name": "stderr",
     "output_type": "stream",
     "text": [
      " 35%|███████████████████████████████████████████████████████████████████████                                                                                                                                    | 35/100 [21:07<41:43, 38.51s/it]"
     ]
    },
    {
     "name": "stdout",
     "output_type": "stream",
     "text": [
      "Epoch 35/100....Validation mad = 1.5420, Validation fad = 2.8103\n"
     ]
    },
    {
     "name": "stderr",
     "output_type": "stream",
     "text": [
      " 36%|█████████████████████████████████████████████████████████████████████████                                                                                                                                  | 36/100 [21:40<39:21, 36.90s/it]"
     ]
    },
    {
     "name": "stdout",
     "output_type": "stream",
     "text": [
      "Epoch 36/100....Training loss = 0.9976\n"
     ]
    },
    {
     "name": "stderr",
     "output_type": "stream",
     "text": [
      " 37%|███████████████████████████████████████████████████████████████████████████                                                                                                                                | 37/100 [22:13<37:32, 35.75s/it]"
     ]
    },
    {
     "name": "stdout",
     "output_type": "stream",
     "text": [
      "Epoch 37/100....Training loss = 0.9978\n"
     ]
    },
    {
     "name": "stderr",
     "output_type": "stream",
     "text": [
      " 38%|█████████████████████████████████████████████████████████████████████████████▏                                                                                                                             | 38/100 [22:46<36:08, 34.97s/it]"
     ]
    },
    {
     "name": "stdout",
     "output_type": "stream",
     "text": [
      "Epoch 38/100....Training loss = 0.9973\n"
     ]
    },
    {
     "name": "stderr",
     "output_type": "stream",
     "text": [
      " 39%|███████████████████████████████████████████████████████████████████████████████▏                                                                                                                           | 39/100 [23:19<34:58, 34.40s/it]"
     ]
    },
    {
     "name": "stdout",
     "output_type": "stream",
     "text": [
      "Epoch 39/100....Training loss = 0.9974\n",
      "Epoch 40/100....Training loss = 0.9974\n"
     ]
    },
    {
     "name": "stderr",
     "output_type": "stream",
     "text": [
      " 40%|█████████████████████████████████████████████████████████████████████████████████▏                                                                                                                         | 40/100 [24:07<38:30, 38.52s/it]"
     ]
    },
    {
     "name": "stdout",
     "output_type": "stream",
     "text": [
      "Epoch 40/100....Validation mad = 1.5422, Validation fad = 2.8107\n"
     ]
    },
    {
     "name": "stderr",
     "output_type": "stream",
     "text": [
      " 41%|███████████████████████████████████████████████████████████████████████████████████▏                                                                                                                       | 41/100 [24:41<36:17, 36.90s/it]"
     ]
    },
    {
     "name": "stdout",
     "output_type": "stream",
     "text": [
      "Epoch 41/100....Training loss = 0.9978\n"
     ]
    },
    {
     "name": "stderr",
     "output_type": "stream",
     "text": [
      " 42%|█████████████████████████████████████████████████████████████████████████████████████▎                                                                                                                     | 42/100 [25:14<34:33, 35.76s/it]"
     ]
    },
    {
     "name": "stdout",
     "output_type": "stream",
     "text": [
      "Epoch 42/100....Training loss = 0.9973\n"
     ]
    },
    {
     "name": "stderr",
     "output_type": "stream",
     "text": [
      " 43%|███████████████████████████████████████████████████████████████████████████████████████▎                                                                                                                   | 43/100 [25:47<33:13, 34.97s/it]"
     ]
    },
    {
     "name": "stdout",
     "output_type": "stream",
     "text": [
      "Epoch 43/100....Training loss = 0.9976\n"
     ]
    },
    {
     "name": "stderr",
     "output_type": "stream",
     "text": [
      " 44%|█████████████████████████████████████████████████████████████████████████████████████████▎                                                                                                                 | 44/100 [26:20<32:06, 34.40s/it]"
     ]
    },
    {
     "name": "stdout",
     "output_type": "stream",
     "text": [
      "Epoch 44/100....Training loss = 0.9973\n",
      "Epoch 45/100....Training loss = 0.9975\n"
     ]
    },
    {
     "name": "stderr",
     "output_type": "stream",
     "text": [
      " 45%|███████████████████████████████████████████████████████████████████████████████████████████▎                                                                                                               | 45/100 [27:08<35:18, 38.52s/it]"
     ]
    },
    {
     "name": "stdout",
     "output_type": "stream",
     "text": [
      "Epoch 45/100....Validation mad = 1.5421, Validation fad = 2.8106\n"
     ]
    },
    {
     "name": "stderr",
     "output_type": "stream",
     "text": [
      " 46%|█████████████████████████████████████████████████████████████████████████████████████████████▍                                                                                                             | 46/100 [27:41<33:13, 36.92s/it]"
     ]
    },
    {
     "name": "stdout",
     "output_type": "stream",
     "text": [
      "Epoch 46/100....Training loss = 0.9975\n"
     ]
    },
    {
     "name": "stderr",
     "output_type": "stream",
     "text": [
      " 47%|███████████████████████████████████████████████████████████████████████████████████████████████▍                                                                                                           | 47/100 [28:14<31:35, 35.77s/it]"
     ]
    },
    {
     "name": "stdout",
     "output_type": "stream",
     "text": [
      "Epoch 47/100....Training loss = 0.9975\n"
     ]
    },
    {
     "name": "stderr",
     "output_type": "stream",
     "text": [
      " 48%|█████████████████████████████████████████████████████████████████████████████████████████████████▍                                                                                                         | 48/100 [28:47<30:19, 35.00s/it]"
     ]
    },
    {
     "name": "stdout",
     "output_type": "stream",
     "text": [
      "Epoch 48/100....Training loss = 0.9973\n"
     ]
    },
    {
     "name": "stderr",
     "output_type": "stream",
     "text": [
      " 49%|███████████████████████████████████████████████████████████████████████████████████████████████████▍                                                                                                       | 49/100 [29:21<29:16, 34.45s/it]"
     ]
    },
    {
     "name": "stdout",
     "output_type": "stream",
     "text": [
      "Epoch 49/100....Training loss = 0.9971\n",
      "Epoch 50/100....Training loss = 0.9970\n"
     ]
    },
    {
     "name": "stderr",
     "output_type": "stream",
     "text": [
      " 50%|█████████████████████████████████████████████████████████████████████████████████████████████████████▌                                                                                                     | 50/100 [30:09<32:07, 38.56s/it]"
     ]
    },
    {
     "name": "stdout",
     "output_type": "stream",
     "text": [
      "Epoch 50/100....Validation mad = 1.5423, Validation fad = 2.8110\n"
     ]
    },
    {
     "name": "stderr",
     "output_type": "stream",
     "text": [
      " 51%|███████████████████████████████████████████████████████████████████████████████████████████████████████▌                                                                                                   | 51/100 [30:42<30:09, 36.94s/it]"
     ]
    },
    {
     "name": "stdout",
     "output_type": "stream",
     "text": [
      "Epoch 51/100....Training loss = 0.9973\n"
     ]
    },
    {
     "name": "stderr",
     "output_type": "stream",
     "text": [
      " 52%|█████████████████████████████████████████████████████████████████████████████████████████████████████████▌                                                                                                 | 52/100 [31:15<28:37, 35.77s/it]"
     ]
    },
    {
     "name": "stdout",
     "output_type": "stream",
     "text": [
      "Epoch 52/100....Training loss = 0.9974\n"
     ]
    },
    {
     "name": "stderr",
     "output_type": "stream",
     "text": [
      " 53%|███████████████████████████████████████████████████████████████████████████████████████████████████████████▌                                                                                               | 53/100 [31:48<27:24, 34.99s/it]"
     ]
    },
    {
     "name": "stdout",
     "output_type": "stream",
     "text": [
      "Epoch 53/100....Training loss = 0.9973\n"
     ]
    },
    {
     "name": "stderr",
     "output_type": "stream",
     "text": [
      " 54%|█████████████████████████████████████████████████████████████████████████████████████████████████████████████▌                                                                                             | 54/100 [32:21<26:22, 34.41s/it]"
     ]
    },
    {
     "name": "stdout",
     "output_type": "stream",
     "text": [
      "Epoch 54/100....Training loss = 0.9971\n",
      "Epoch 55/100....Training loss = 0.9970\n"
     ]
    },
    {
     "name": "stderr",
     "output_type": "stream",
     "text": [
      " 55%|███████████████████████████████████████████████████████████████████████████████████████████████████████████████▋                                                                                           | 55/100 [33:09<28:53, 38.52s/it]"
     ]
    },
    {
     "name": "stdout",
     "output_type": "stream",
     "text": [
      "Epoch 55/100....Validation mad = 1.5421, Validation fad = 2.8106\n"
     ]
    },
    {
     "name": "stderr",
     "output_type": "stream",
     "text": [
      " 56%|█████████████████████████████████████████████████████████████████████████████████████████████████████████████████▋                                                                                         | 56/100 [33:42<27:03, 36.90s/it]"
     ]
    },
    {
     "name": "stdout",
     "output_type": "stream",
     "text": [
      "Epoch 56/100....Training loss = 0.9973\n"
     ]
    },
    {
     "name": "stderr",
     "output_type": "stream",
     "text": [
      " 57%|███████████████████████████████████████████████████████████████████████████████████████████████████████████████████▋                                                                                       | 57/100 [34:16<25:37, 35.76s/it]"
     ]
    },
    {
     "name": "stdout",
     "output_type": "stream",
     "text": [
      "Epoch 57/100....Training loss = 0.9969\n"
     ]
    },
    {
     "name": "stderr",
     "output_type": "stream",
     "text": [
      " 58%|█████████████████████████████████████████████████████████████████████████████████████████████████████████████████████▋                                                                                     | 58/100 [34:49<24:29, 34.98s/it]"
     ]
    },
    {
     "name": "stdout",
     "output_type": "stream",
     "text": [
      "Epoch 58/100....Training loss = 0.9972\n"
     ]
    },
    {
     "name": "stderr",
     "output_type": "stream",
     "text": [
      " 59%|███████████████████████████████████████████████████████████████████████████████████████████████████████████████████████▊                                                                                   | 59/100 [35:22<23:31, 34.43s/it]"
     ]
    },
    {
     "name": "stdout",
     "output_type": "stream",
     "text": [
      "Epoch 59/100....Training loss = 0.9971\n",
      "Epoch 60/100....Training loss = 0.9972\n"
     ]
    },
    {
     "name": "stderr",
     "output_type": "stream",
     "text": [
      " 60%|█████████████████████████████████████████████████████████████████████████████████████████████████████████████████████████▊                                                                                 | 60/100 [36:10<25:41, 38.53s/it]"
     ]
    },
    {
     "name": "stdout",
     "output_type": "stream",
     "text": [
      "Epoch 60/100....Validation mad = 1.5421, Validation fad = 2.8105\n"
     ]
    },
    {
     "name": "stderr",
     "output_type": "stream",
     "text": [
      " 61%|███████████████████████████████████████████████████████████████████████████████████████████████████████████████████████████▊                                                                               | 61/100 [36:43<24:00, 36.93s/it]"
     ]
    },
    {
     "name": "stdout",
     "output_type": "stream",
     "text": [
      "Epoch 61/100....Training loss = 0.9973\n"
     ]
    },
    {
     "name": "stderr",
     "output_type": "stream",
     "text": [
      " 62%|█████████████████████████████████████████████████████████████████████████████████████████████████████████████████████████████▊                                                                             | 62/100 [37:16<22:39, 35.78s/it]"
     ]
    },
    {
     "name": "stdout",
     "output_type": "stream",
     "text": [
      "Epoch 62/100....Training loss = 0.9971\n"
     ]
    },
    {
     "name": "stderr",
     "output_type": "stream",
     "text": [
      " 63%|███████████████████████████████████████████████████████████████████████████████████████████████████████████████████████████████▉                                                                           | 63/100 [37:49<21:34, 34.99s/it]"
     ]
    },
    {
     "name": "stdout",
     "output_type": "stream",
     "text": [
      "Epoch 63/100....Training loss = 0.9974\n"
     ]
    },
    {
     "name": "stderr",
     "output_type": "stream",
     "text": [
      " 64%|█████████████████████████████████████████████████████████████████████████████████████████████████████████████████████████████████▉                                                                         | 64/100 [38:22<20:39, 34.42s/it]"
     ]
    },
    {
     "name": "stdout",
     "output_type": "stream",
     "text": [
      "Epoch 64/100....Training loss = 0.9969\n",
      "Epoch 65/100....Training loss = 0.9971\n"
     ]
    },
    {
     "name": "stderr",
     "output_type": "stream",
     "text": [
      " 65%|███████████████████████████████████████████████████████████████████████████████████████████████████████████████████████████████████▉                                                                       | 65/100 [39:11<22:27, 38.51s/it]"
     ]
    },
    {
     "name": "stdout",
     "output_type": "stream",
     "text": [
      "Epoch 65/100....Validation mad = 1.5422, Validation fad = 2.8108\n"
     ]
    },
    {
     "name": "stderr",
     "output_type": "stream",
     "text": [
      " 66%|█████████████████████████████████████████████████████████████████████████████████████████████████████████████████████████████████████▉                                                                     | 66/100 [39:44<20:54, 36.89s/it]"
     ]
    },
    {
     "name": "stdout",
     "output_type": "stream",
     "text": [
      "Epoch 66/100....Training loss = 0.9969\n"
     ]
    },
    {
     "name": "stderr",
     "output_type": "stream",
     "text": [
      " 67%|████████████████████████████████████████████████████████████████████████████████████████████████████████████████████████████████████████                                                                   | 67/100 [40:17<19:39, 35.75s/it]"
     ]
    },
    {
     "name": "stdout",
     "output_type": "stream",
     "text": [
      "Epoch 67/100....Training loss = 0.9971\n"
     ]
    },
    {
     "name": "stderr",
     "output_type": "stream",
     "text": [
      " 68%|██████████████████████████████████████████████████████████████████████████████████████████████████████████████████████████████████████████                                                                 | 68/100 [40:50<18:39, 34.98s/it]"
     ]
    },
    {
     "name": "stdout",
     "output_type": "stream",
     "text": [
      "Epoch 68/100....Training loss = 0.9971\n"
     ]
    },
    {
     "name": "stderr",
     "output_type": "stream",
     "text": [
      " 69%|████████████████████████████████████████████████████████████████████████████████████████████████████████████████████████████████████████████                                                               | 69/100 [41:23<17:47, 34.43s/it]"
     ]
    },
    {
     "name": "stdout",
     "output_type": "stream",
     "text": [
      "Epoch 69/100....Training loss = 0.9967\n",
      "Epoch 70/100....Training loss = 0.9972\n"
     ]
    },
    {
     "name": "stderr",
     "output_type": "stream",
     "text": [
      " 70%|██████████████████████████████████████████████████████████████████████████████████████████████████████████████████████████████████████████████                                                             | 70/100 [42:11<19:16, 38.56s/it]"
     ]
    },
    {
     "name": "stdout",
     "output_type": "stream",
     "text": [
      "Epoch 70/100....Validation mad = 1.5423, Validation fad = 2.8110\n"
     ]
    },
    {
     "name": "stderr",
     "output_type": "stream",
     "text": [
      " 71%|████████████████████████████████████████████████████████████████████████████████████████████████████████████████████████████████████████████████▏                                                          | 71/100 [42:44<17:51, 36.95s/it]"
     ]
    },
    {
     "name": "stdout",
     "output_type": "stream",
     "text": [
      "Epoch 71/100....Training loss = 0.9968\n"
     ]
    },
    {
     "name": "stderr",
     "output_type": "stream",
     "text": [
      " 72%|██████████████████████████████████████████████████████████████████████████████████████████████████████████████████████████████████████████████████▏                                                        | 72/100 [43:18<16:42, 35.80s/it]"
     ]
    },
    {
     "name": "stdout",
     "output_type": "stream",
     "text": [
      "Epoch 72/100....Training loss = 0.9969\n"
     ]
    },
    {
     "name": "stderr",
     "output_type": "stream",
     "text": [
      " 73%|████████████████████████████████████████████████████████████████████████████████████████████████████████████████████████████████████████████████████▏                                                      | 73/100 [43:51<15:45, 35.00s/it]"
     ]
    },
    {
     "name": "stdout",
     "output_type": "stream",
     "text": [
      "Epoch 73/100....Training loss = 0.9969\n"
     ]
    },
    {
     "name": "stderr",
     "output_type": "stream",
     "text": [
      " 74%|██████████████████████████████████████████████████████████████████████████████████████████████████████████████████████████████████████████████████████▏                                                    | 74/100 [44:24<14:55, 34.44s/it]"
     ]
    },
    {
     "name": "stdout",
     "output_type": "stream",
     "text": [
      "Epoch 74/100....Training loss = 0.9971\n",
      "Epoch 75/100....Training loss = 0.9974\n"
     ]
    },
    {
     "name": "stderr",
     "output_type": "stream",
     "text": [
      " 75%|████████████████████████████████████████████████████████████████████████████████████████████████████████████████████████████████████████████████████████▎                                                  | 75/100 [45:12<16:02, 38.51s/it]"
     ]
    },
    {
     "name": "stdout",
     "output_type": "stream",
     "text": [
      "Epoch 75/100....Validation mad = 1.5424, Validation fad = 2.8111\n"
     ]
    },
    {
     "name": "stderr",
     "output_type": "stream",
     "text": [
      " 76%|██████████████████████████████████████████████████████████████████████████████████████████████████████████████████████████████████████████████████████████▎                                                | 76/100 [45:45<14:45, 36.89s/it]"
     ]
    },
    {
     "name": "stdout",
     "output_type": "stream",
     "text": [
      "Epoch 76/100....Training loss = 0.9970\n"
     ]
    },
    {
     "name": "stderr",
     "output_type": "stream",
     "text": [
      " 77%|████████████████████████████████████████████████████████████████████████████████████████████████████████████████████████████████████████████████████████████▎                                              | 77/100 [46:18<13:42, 35.74s/it]"
     ]
    },
    {
     "name": "stdout",
     "output_type": "stream",
     "text": [
      "Epoch 77/100....Training loss = 0.9970\n"
     ]
    },
    {
     "name": "stderr",
     "output_type": "stream",
     "text": [
      " 78%|██████████████████████████████████████████████████████████████████████████████████████████████████████████████████████████████████████████████████████████████▎                                            | 78/100 [46:51<12:48, 34.95s/it]"
     ]
    },
    {
     "name": "stdout",
     "output_type": "stream",
     "text": [
      "Epoch 78/100....Training loss = 0.9971\n"
     ]
    },
    {
     "name": "stderr",
     "output_type": "stream",
     "text": [
      " 79%|████████████████████████████████████████████████████████████████████████████████████████████████████████████████████████████████████████████████████████████████▎                                          | 79/100 [47:24<12:02, 34.39s/it]"
     ]
    },
    {
     "name": "stdout",
     "output_type": "stream",
     "text": [
      "Epoch 79/100....Training loss = 0.9967\n",
      "Epoch 80/100....Training loss = 0.9968\n"
     ]
    },
    {
     "name": "stderr",
     "output_type": "stream",
     "text": [
      " 80%|██████████████████████████████████████████████████████████████████████████████████████████████████████████████████████████████████████████████████████████████████▍                                        | 80/100 [48:12<12:49, 38.47s/it]"
     ]
    },
    {
     "name": "stdout",
     "output_type": "stream",
     "text": [
      "Epoch 80/100....Validation mad = 1.5422, Validation fad = 2.8108\n"
     ]
    },
    {
     "name": "stderr",
     "output_type": "stream",
     "text": [
      " 81%|████████████████████████████████████████████████████████████████████████████████████████████████████████████████████████████████████████████████████████████████████▍                                      | 81/100 [48:45<11:40, 36.86s/it]"
     ]
    },
    {
     "name": "stdout",
     "output_type": "stream",
     "text": [
      "Epoch 81/100....Training loss = 0.9968\n"
     ]
    },
    {
     "name": "stderr",
     "output_type": "stream",
     "text": [
      " 82%|██████████████████████████████████████████████████████████████████████████████████████████████████████████████████████████████████████████████████████████████████████▍                                    | 82/100 [49:18<10:43, 35.73s/it]"
     ]
    },
    {
     "name": "stdout",
     "output_type": "stream",
     "text": [
      "Epoch 82/100....Training loss = 0.9968\n"
     ]
    },
    {
     "name": "stderr",
     "output_type": "stream",
     "text": [
      " 83%|████████████████████████████████████████████████████████████████████████████████████████████████████████████████████████████████████████████████████████████████████████▍                                  | 83/100 [49:52<09:54, 34.96s/it]"
     ]
    },
    {
     "name": "stdout",
     "output_type": "stream",
     "text": [
      "Epoch 83/100....Training loss = 0.9969\n"
     ]
    },
    {
     "name": "stderr",
     "output_type": "stream",
     "text": [
      " 84%|██████████████████████████████████████████████████████████████████████████████████████████████████████████████████████████████████████████████████████████████████████████▌                                | 84/100 [50:25<09:10, 34.41s/it]"
     ]
    },
    {
     "name": "stdout",
     "output_type": "stream",
     "text": [
      "Epoch 84/100....Training loss = 0.9972\n",
      "Epoch 85/100....Training loss = 0.9972\n"
     ]
    },
    {
     "name": "stderr",
     "output_type": "stream",
     "text": [
      " 85%|████████████████████████████████████████████████████████████████████████████████████████████████████████████████████████████████████████████████████████████████████████████▌                              | 85/100 [51:13<09:37, 38.52s/it]"
     ]
    },
    {
     "name": "stdout",
     "output_type": "stream",
     "text": [
      "Epoch 85/100....Validation mad = 1.5423, Validation fad = 2.8111\n"
     ]
    },
    {
     "name": "stderr",
     "output_type": "stream",
     "text": [
      " 86%|██████████████████████████████████████████████████████████████████████████████████████████████████████████████████████████████████████████████████████████████████████████████▌                            | 86/100 [51:46<08:36, 36.91s/it]"
     ]
    },
    {
     "name": "stdout",
     "output_type": "stream",
     "text": [
      "Epoch 86/100....Training loss = 0.9970\n"
     ]
    },
    {
     "name": "stderr",
     "output_type": "stream",
     "text": [
      " 87%|████████████████████████████████████████████████████████████████████████████████████████████████████████████████████████████████████████████████████████████████████████████████▌                          | 87/100 [52:19<07:44, 35.76s/it]"
     ]
    },
    {
     "name": "stdout",
     "output_type": "stream",
     "text": [
      "Epoch 87/100....Training loss = 0.9970\n"
     ]
    },
    {
     "name": "stderr",
     "output_type": "stream",
     "text": [
      " 88%|██████████████████████████████████████████████████████████████████████████████████████████████████████████████████████████████████████████████████████████████████████████████████▋                        | 88/100 [52:52<06:59, 34.97s/it]"
     ]
    },
    {
     "name": "stdout",
     "output_type": "stream",
     "text": [
      "Epoch 88/100....Training loss = 0.9971\n"
     ]
    },
    {
     "name": "stderr",
     "output_type": "stream",
     "text": [
      " 89%|████████████████████████████████████████████████████████████████████████████████████████████████████████████████████████████████████████████████████████████████████████████████████▋                      | 89/100 [53:25<06:18, 34.41s/it]"
     ]
    },
    {
     "name": "stdout",
     "output_type": "stream",
     "text": [
      "Epoch 89/100....Training loss = 0.9968\n",
      "Epoch 90/100....Training loss = 0.9969\n"
     ]
    },
    {
     "name": "stderr",
     "output_type": "stream",
     "text": [
      " 90%|██████████████████████████████████████████████████████████████████████████████████████████████████████████████████████████████████████████████████████████████████████████████████████▋                    | 90/100 [54:13<06:24, 38.48s/it]"
     ]
    },
    {
     "name": "stdout",
     "output_type": "stream",
     "text": [
      "Epoch 90/100....Validation mad = 1.5423, Validation fad = 2.8110\n"
     ]
    },
    {
     "name": "stderr",
     "output_type": "stream",
     "text": [
      " 91%|████████████████████████████████████████████████████████████████████████████████████████████████████████████████████████████████████████████████████████████████████████████████████████▋                  | 91/100 [54:46<05:31, 36.88s/it]"
     ]
    },
    {
     "name": "stdout",
     "output_type": "stream",
     "text": [
      "Epoch 91/100....Training loss = 0.9969\n"
     ]
    },
    {
     "name": "stderr",
     "output_type": "stream",
     "text": [
      " 92%|██████████████████████████████████████████████████████████████████████████████████████████████████████████████████████████████████████████████████████████████████████████████████████████▊                | 92/100 [55:19<04:46, 35.75s/it]"
     ]
    },
    {
     "name": "stdout",
     "output_type": "stream",
     "text": [
      "Epoch 92/100....Training loss = 0.9972\n"
     ]
    },
    {
     "name": "stderr",
     "output_type": "stream",
     "text": [
      " 93%|████████████████████████████████████████████████████████████████████████████████████████████████████████████████████████████████████████████████████████████████████████████████████████████▊              | 93/100 [55:53<04:04, 34.99s/it]"
     ]
    },
    {
     "name": "stdout",
     "output_type": "stream",
     "text": [
      "Epoch 93/100....Training loss = 0.9971\n"
     ]
    },
    {
     "name": "stderr",
     "output_type": "stream",
     "text": [
      " 94%|██████████████████████████████████████████████████████████████████████████████████████████████████████████████████████████████████████████████████████████████████████████████████████████████▊            | 94/100 [56:26<03:26, 34.45s/it]"
     ]
    },
    {
     "name": "stdout",
     "output_type": "stream",
     "text": [
      "Epoch 94/100....Training loss = 0.9972\n",
      "Epoch 95/100....Training loss = 0.9971\n"
     ]
    },
    {
     "name": "stderr",
     "output_type": "stream",
     "text": [
      " 95%|████████████████████████████████████████████████████████████████████████████████████████████████████████████████████████████████████████████████████████████████████████████████████████████████▊          | 95/100 [57:14<03:12, 38.53s/it]"
     ]
    },
    {
     "name": "stdout",
     "output_type": "stream",
     "text": [
      "Epoch 95/100....Validation mad = 1.5423, Validation fad = 2.8110\n"
     ]
    },
    {
     "name": "stderr",
     "output_type": "stream",
     "text": [
      " 96%|██████████████████████████████████████████████████████████████████████████████████████████████████████████████████████████████████████████████████████████████████████████████████████████████████▉        | 96/100 [57:47<02:27, 36.91s/it]"
     ]
    },
    {
     "name": "stdout",
     "output_type": "stream",
     "text": [
      "Epoch 96/100....Training loss = 0.9966\n"
     ]
    },
    {
     "name": "stderr",
     "output_type": "stream",
     "text": [
      " 97%|████████████████████████████████████████████████████████████████████████████████████████████████████████████████████████████████████████████████████████████████████████████████████████████████████▉      | 97/100 [58:20<01:47, 35.76s/it]"
     ]
    },
    {
     "name": "stdout",
     "output_type": "stream",
     "text": [
      "Epoch 97/100....Training loss = 0.9970\n"
     ]
    },
    {
     "name": "stderr",
     "output_type": "stream",
     "text": [
      " 98%|██████████████████████████████████████████████████████████████████████████████████████████████████████████████████████████████████████████████████████████████████████████████████████████████████████▉    | 98/100 [58:53<01:09, 34.97s/it]"
     ]
    },
    {
     "name": "stdout",
     "output_type": "stream",
     "text": [
      "Epoch 98/100....Training loss = 0.9971\n"
     ]
    },
    {
     "name": "stderr",
     "output_type": "stream",
     "text": [
      " 99%|████████████████████████████████████████████████████████████████████████████████████████████████████████████████████████████████████████████████████████████████████████████████████████████████████████▉  | 99/100 [59:26<00:34, 34.42s/it]"
     ]
    },
    {
     "name": "stdout",
     "output_type": "stream",
     "text": [
      "Epoch 99/100....Training loss = 0.9972\n",
      "Epoch 100/100....Training loss = 0.9970\n",
      "Epoch 100/100....Validation mad = 1.5423, Validation fad = 2.8110\n"
     ]
    },
    {
     "name": "stderr",
     "output_type": "stream",
     "text": [
      "100%|████████████████████████████████████████████████████████████████████████████████████████████████████████████████████████████████████████████████████████████████████████████████████████████████████████| 100/100 [1:00:15<00:00, 36.16s/it]\n"
     ]
    }
   ],
   "source": [
    "iterations = 70\n",
    "\n",
    "# creating optimizer\n",
    "optimizer = torch.optim.SGD(tf_model.parameters(\n",
    "), lr=1e-4, momentum=0.9, weight_decay=1e-3, nesterov=True)\n",
    "# optimizer = torch.optim.Adam(tf_model.parameters(), lr=1e-4)\n",
    "\n",
    "train_loss, learning_rates = utils.learning_rate_finder(\n",
    "    tf_model, optimizer, train_loader, iterations, device, mean, std)\n",
    "eta_star = learning_rates[np.argmin(np.array(train_loss))]\n",
    "eta_max = eta_star/10\n",
    "print(\"Value of eta max is: {:.4f}\".format(eta_max))\n",
    "\n",
    "# plotting results\n",
    "# plt.figure()\n",
    "# plt.plot(learning_rates, train_loss)\n",
    "# plt.xlabel(\"Learning rates\")\n",
    "# plt.ylabel(\"Training loss\")\n",
    "# plt.xscale('log')\n",
    "# plt.title(\"Learning Rate Finder Algorithm\")\n",
    "# plt.show()\n",
    "\n",
    "# number of epochs\n",
    "epochs = 100\n",
    "\n",
    "# metric variables\n",
    "training_loss = []\n",
    "validation_loss = []\n",
    "val_mad = []\n",
    "val_fad = []\n",
    "\n",
    "# finding the total number of weight updates for the network\n",
    "T = epochs * len(train_loader)\n",
    "# initializing variable to track the number of weight updates\n",
    "weight_update = 0\n",
    "# initializing variable to store the changing learning rate\n",
    "learning_rate = []\n",
    "\n",
    "for epoch in tqdm(range(epochs)):\n",
    "    # TRAINING MODE\n",
    "    tf_model.train()\n",
    "\n",
    "    # training batch variables\n",
    "    train_batch_loss = 0\n",
    "\n",
    "    for idx, data in enumerate(train_loader):\n",
    "        # changing the learning rate based on cosine scheduler\n",
    "        lr = utils.cosine_scheduler(weight_update, eta_max, T)\n",
    "        for param in optimizer.param_groups:\n",
    "            learning_rate.append(lr)\n",
    "            param['lr'] = lr\n",
    "        weight_update += 1\n",
    "\n",
    "        # getting encoder input data\n",
    "        # (64, 7, 512)\n",
    "        enc_input = (data['src'][:, 1:, 2:4].to(\n",
    "            device)-mean.to(device))/std.to(device)\n",
    "\n",
    "        # getting decoder input data\n",
    "        target = (data['trg'][:, :-1, 2:4].to(device) -\n",
    "                    mean.to(device))/std.to(device)\n",
    "        target_append = torch.zeros(\n",
    "            (target.shape[0], target.shape[1], 1)).to(device)\n",
    "        target = torch.cat((target, target_append), -1)\n",
    "        start_of_seq = torch.Tensor([0, 0, 1]).unsqueeze(\n",
    "            0).unsqueeze(1).repeat(target.shape[0], 1, 1).to(device)\n",
    "        (64, 12, 512)\n",
    "        dec_input = torch.cat((start_of_seq, target), 1)\n",
    "\n",
    "        # getting masks for decoder\n",
    "        dec_source_mask = torch.ones(\n",
    "            (enc_input.shape[0], 1, enc_input.shape[1])).to(device)\n",
    "        dec_target_mask = utils.subsequent_mask(\n",
    "            dec_input.shape[1]).repeat(dec_input.shape[0], 1, 1).to(device)\n",
    "\n",
    "        # forward pass\n",
    "        optimizer.zero_grad()\n",
    "        # predictions = tf_model.forward(enc_input, dec_input, dec_source_mask, dec_target_mask)\n",
    "        predictions = tf_model.forward(enc_input, dec_input)\n",
    "\n",
    "        # calculating loss using pairwise distance of all predictions\n",
    "        loss = F.pairwise_distance(predictions[:, :, 0:2].contiguous().view(-1, 2),\n",
    "                                    ((data['trg'][:, :, 2:4].to(device)-mean.to(device))/std.to(device)).\n",
    "                                    contiguous().view(-1, 2).to(device)).mean() + \\\n",
    "            torch.mean(torch.abs(predictions[:, :, 2]))\n",
    "        train_batch_loss += loss.item()\n",
    "\n",
    "        # updating weights\n",
    "        loss.backward()\n",
    "        optimizer.step()\n",
    "\n",
    "    training_loss.append(train_batch_loss/len(train_loader))\n",
    "    print(\"Epoch {}/{}....Training loss = {:.4f}\".format(epoch +\n",
    "            1, epochs, training_loss[-1]))\n",
    "\n",
    "    # validation loop\n",
    "    if (epoch+1) % 5 == 0:\n",
    "        with torch.no_grad():\n",
    "            # EVALUATION MODE\n",
    "            tf_model.eval()\n",
    "\n",
    "            # validation variables\n",
    "            batch_val_loss = 0\n",
    "            gt = []\n",
    "            pr = []\n",
    "\n",
    "            for id_b, data in enumerate(val_loader):\n",
    "                # storing groung truth\n",
    "                gt.append(data['trg'][:, :, 0:2])\n",
    "\n",
    "                # input to encoder input\n",
    "                val_input = (data['src'][:, 1:, 2:4].to(\n",
    "                    device)-mean.to(device))/std.to(device)\n",
    "\n",
    "                # input to decoder\n",
    "                start_of_seq = torch.Tensor([0, 0, 1]).unsqueeze(0).unsqueeze(\n",
    "                    1).repeat(val_input.shape[0], 1, 1).to(device)\n",
    "                dec_inp = start_of_seq\n",
    "                # decoder masks\n",
    "                dec_source_mask = torch.ones(\n",
    "                    (val_input.shape[0], 1, val_input.shape[1])).to(device)\n",
    "                dec_target_mask = utils.subsequent_mask(\n",
    "                    dec_inp.shape[1]).repeat(dec_inp.shape[0], 1, 1).to(device)\n",
    "\n",
    "                # prediction till horizon lenght\n",
    "                for i in range(horizon):\n",
    "                    # getting model prediction\n",
    "                    # model_output = tf_model.forward(val_input, dec_inp, dec_source_mask, dec_target_mask)\n",
    "                    model_output = tf_model.forward(val_input, dec_inp)\n",
    "\n",
    "                    # appending the predicition to decoder input for next cycle\n",
    "                    dec_inp = torch.cat(\n",
    "                        (dec_inp, model_output[:, -1:, :]), 1)\n",
    "\n",
    "                # calculating loss using pairwise distance of all predictions\n",
    "                val_loss = F.pairwise_distance(dec_inp[:, 1:, 0:2].contiguous().view(-1, 2),\n",
    "                                                ((data['trg'][:, :, 2:4].to(device)-mean.to(device))/std.to(device)).\n",
    "                                                contiguous().view(-1, 2).to(device)).mean() + \\\n",
    "                    torch.mean(torch.abs(dec_inp[:, 1:, 2]))\n",
    "                batch_val_loss += val_loss.item()\n",
    "\n",
    "                # calculating the position for each time step of prediction based on velocity\n",
    "                preds_tr_b = (dec_inp[:, 1:, 0:2]*std.to(device) + mean.to(device)).cpu().numpy().cumsum(1) + \\\n",
    "                    data['src'][:, -1:, 0:2].cpu().numpy()\n",
    "\n",
    "                pr.append(preds_tr_b)\n",
    "            validation_loss.append(batch_val_loss/len(val_loader))\n",
    "\n",
    "            # calculating mad and fad evaluation metrics\n",
    "            gt = np.concatenate(gt, 0)\n",
    "            pr = np.concatenate(pr, 0)\n",
    "            mad, fad, _ = dataloader.distance_metrics(gt, pr)\n",
    "            val_mad.append(mad)\n",
    "            val_fad.append(fad)\n",
    "\n",
    "            print(\"Epoch {}/{}....Validation mad = {:.4f}, Validation fad = {:.4f}\".format(\n",
    "                epoch+1, epochs, mad, fad))\n",
    "\n",
    "    if epoch == epochs - 1:\n",
    "        # Saving model, loss and error log files\n",
    "        torch.save({\n",
    "            'model_state_dict': tf_model.state_dict(),\n",
    "            'optimizer_state_dict': optimizer.state_dict(),\n",
    "            'training_loss': training_loss,\n",
    "            'validation_loss': validation_loss,\n",
    "            'val_mad': val_mad,\n",
    "            'val_fad': val_fad,\n",
    "            'learning_rate': learning_rate\n",
    "        }, os.path.join(save_location, 'epoch{}.pth'.format(epoch+1)))\n"
   ]
  },
  {
   "cell_type": "markdown",
   "metadata": {},
   "source": [
    "## 5. Visualisation"
   ]
  },
  {
   "cell_type": "code",
   "execution_count": 14,
   "metadata": {},
   "outputs": [
    {
     "data": {
      "image/png": "[encoded data removed]",
      "text/plain": [
       "<Figure size 640x480 with 1 Axes>"
      ]
     },
     "metadata": {},
     "output_type": "display_data"
    },
    {
     "data": {
      "image/png": "[encoded data removed]",
      "text/plain": [
       "<Figure size 640x480 with 1 Axes>"
      ]
     },
     "metadata": {},
     "output_type": "display_data"
    },
    {
     "data": {
      "image/png": "[encoded data removed]",
      "text/plain": [
       "<Figure size 640x480 with 1 Axes>"
      ]
     },
     "metadata": {},
     "output_type": "display_data"
    },
    {
     "data": {
      "image/png": "[encoded data removed]",
      "text/plain": [
       "<Figure size 640x480 with 1 Axes>"
      ]
     },
     "metadata": {},
     "output_type": "display_data"
    },
    {
     "data": {
      "image/png": "[encoded data removed]",
      "text/plain": [
       "<Figure size 640x480 with 1 Axes>"
      ]
     },
     "metadata": {},
     "output_type": "display_data"
    },
    {
     "data": {
      "image/png": "[encoded data removed]",
      "text/plain": [
       "<Figure size 640x480 with 1 Axes>"
      ]
     },
     "metadata": {},
     "output_type": "display_data"
    }
   ],
   "source": [
    "device = \"cuda\" if torch.cuda.is_available() else \"cpu\"\n",
    "loaded_file = torch.load(os.path.join(\n",
    "    save_location, 'epoch100.pth'), map_location=torch.device(device))\n",
    "\n",
    "# creating model and loading weights\n",
    "# encoder_ip_size = 2\n",
    "# decoder_ip_size = 3\n",
    "# model_op_size = 3\n",
    "# emb_size = 512\n",
    "# num_heads = 8\n",
    "# ff_hidden_size = 2048\n",
    "# n = 6\n",
    "# dropout = 0.1\n",
    "\n",
    "# model_loaded = model.TFModel(encoder_ip_size, decoder_ip_size, model_op_size, emb_size,\n",
    "#                              num_heads, ff_hidden_size, n, dropout=0.1)\n",
    "\n",
    "model_loaded = model_Transformer.Transformer(encoder_input_size=2, decoder_input_size=3,\n",
    "                                embedding_size=512, num_heads=8, num_layers=6, feedforward_size=2048)\n",
    "\n",
    "\n",
    "model_loaded = model_loaded.to(device)\n",
    "model_loaded.load_state_dict(loaded_file['model_state_dict'])\n",
    "\n",
    "# loading training metric variables\n",
    "training_loss = loaded_file['training_loss']\n",
    "validation_loss = loaded_file['validation_loss']\n",
    "val_mad = loaded_file['val_mad']\n",
    "val_fad = loaded_file['val_fad']\n",
    "learning_rate = loaded_file['learning_rate']\n",
    "\n",
    "# plotting training loss\n",
    "plt.figure()\n",
    "plt.plot(training_loss)\n",
    "plt.xlabel(\"Number of epochs\")\n",
    "plt.ylabel(\"Training loss\")\n",
    "plt.title(\"Training loss VS Number of Epochs\")\n",
    "\n",
    "# plotting validation loss\n",
    "plt.figure()\n",
    "plt.plot(validation_loss)\n",
    "plt.xlabel(\"Number of epochs\")\n",
    "plt.ylabel(\"Validation loss\")\n",
    "plt.title(\"Validation loss VS Number of Epochs\")\n",
    "\n",
    "# plotting training and validation loss together\n",
    "plt.figure()\n",
    "plt.plot(loaded_file['training_loss'], label=\"training loss\")\n",
    "plt.plot(np.arange(1, 100, 5),\n",
    "            loaded_file['validation_loss'], label=\"validation loss\")\n",
    "plt.legend()\n",
    "plt.xlabel(\"Epochs\")\n",
    "plt.ylabel(\"loss\")\n",
    "plt.title(\"Training v/s Validation loss\")\n",
    "plt.savefig(\"loss.png\")\n",
    "\n",
    "# plotting learning rate for model\n",
    "plt.figure()\n",
    "plt.plot(learning_rate)\n",
    "plt.xlabel(\"Number of epochs\")\n",
    "plt.ylabel(\"learning_rate\")\n",
    "plt.title(\"Learning_rate VS Number of Epochs\")\n",
    "\n",
    "# plotting MAD\n",
    "plt.figure()\n",
    "plt.plot(np.arange(1, 100, 5),\n",
    "            loaded_file['val_mad'], label=\"validation MAD\")\n",
    "plt.xlabel(\"Epochs\")\n",
    "plt.ylabel(\"MAD (m)\")\n",
    "plt.title(\"Mean Average Displacement\")\n",
    "plt.savefig(\"mad.png\")\n",
    "\n",
    "# plotting FAD\n",
    "plt.figure()\n",
    "plt.plot(np.arange(1, 100, 5),\n",
    "            loaded_file['val_fad'], label=\"validation FAD\")\n",
    "plt.xlabel(\"Epochs\")\n",
    "plt.ylabel(\"FAD (m)\")\n",
    "plt.title(\"Final Average Displacement\")\n",
    "plt.savefig(\"fad.png\")\n",
    "\n",
    "plt.show()"
   ]
  },
  {
   "cell_type": "code",
   "execution_count": 15,
   "metadata": {},
   "outputs": [
    {
     "data": {
      "image/png": "[encoded data removed]",
      "text/plain": [
       "<Figure size 640x480 with 1 Axes>"
      ]
     },
     "metadata": {},
     "output_type": "display_data"
    }
   ],
   "source": [
    "# Running the validation loop to generate prediction trajectories on validation data\n",
    "validation_loss = []\n",
    "val_mad = []\n",
    "val_fad = []\n",
    "\n",
    "with torch.no_grad():\n",
    "    # EVALUATION MODE\n",
    "    model_loaded.eval()\n",
    "\n",
    "    # validation variables\n",
    "    batch_val_loss = 0\n",
    "    gt = []\n",
    "    pr = []\n",
    "    obs = []\n",
    "\n",
    "    for id_b, data in enumerate(val_loader):\n",
    "        # storing groung truth\n",
    "        gt.append(data['trg'][:, :, 0:2])\n",
    "        obs.append(data['src'][:, :, 0:2])\n",
    "        # input to encoder input\n",
    "        val_input = (data['src'][:, 1:, 2:4].to(\n",
    "            device)-mean.to(device))/std.to(device)\n",
    "\n",
    "        # input to decoder\n",
    "        start_of_seq = torch.Tensor([0, 0, 1]).unsqueeze(0).unsqueeze(\n",
    "            1).repeat(val_input.shape[0], 1, 1).to(device)\n",
    "        dec_inp = start_of_seq\n",
    "        # decoder masks\n",
    "        dec_source_mask = torch.ones(\n",
    "            (val_input.shape[0], 1, val_input.shape[1])).to(device)\n",
    "        dec_target_mask = utils.subsequent_mask(\n",
    "            dec_inp.shape[1]).repeat(dec_inp.shape[0], 1, 1).to(device)\n",
    "\n",
    "        # prediction till horizon lenght\n",
    "        for i in range(horizon):\n",
    "            # getting model prediction\n",
    "            # model_output = model_loaded.forward(\n",
    "            #     val_input, dec_inp, dec_source_mask, dec_target_mask)\n",
    "\n",
    "            model_output = model_loaded.forward(val_input, dec_inp)\n",
    "\n",
    "            # appending the predicition to decoder input for next cycle\n",
    "            dec_inp = torch.cat((dec_inp, model_output[:, -1:, :]), 1)\n",
    "\n",
    "        # calculating loss using pairwise distance of all predictions\n",
    "        val_loss = F.pairwise_distance(dec_inp[:, 1:, 0:2].contiguous().view(-1, 2),\n",
    "                                        ((data['trg'][:, :, 2:4].to(device)-mean.to(device))/std.to(device)).\n",
    "                                        contiguous().view(-1, 2).to(device)).mean() + \\\n",
    "            torch.mean(torch.abs(dec_inp[:, 1:, 2]))\n",
    "        batch_val_loss += val_loss.item()\n",
    "\n",
    "        # calculating the position for each time step of prediction based on velocity\n",
    "        preds_tr_b = (dec_inp[:, 1:, 0:2]*std.to(device) + mean.to(device)).cpu().numpy().cumsum(1) + \\\n",
    "            data['src'][:, -1:, 0:2].cpu().numpy()\n",
    "\n",
    "        pr.append(preds_tr_b)\n",
    "        validation_loss.append(batch_val_loss/len(val_loader))\n",
    "\n",
    "    # calculating mad and fad evaluation metrics\n",
    "    gt = np.concatenate(gt, 0)\n",
    "    pr = np.concatenate(pr, 0)\n",
    "    obs = np.concatenate(obs, 0)\n",
    "    mad, fad, _ = dataloader.distance_metrics(gt, pr)\n",
    "    val_mad.append(mad)\n",
    "    val_fad.append(fad)\n",
    "\n",
    "# plotting the predicted and ground truth trajectories\n",
    "idx = np.random.randint(0, gt.shape[0])\n",
    "plt.figure()\n",
    "plt.scatter(gt[idx, :, 0], gt[idx, :, 1],\n",
    "            color='green', label=\"Ground truth\")\n",
    "plt.scatter(pr[idx, :, 0], pr[idx, :, 1],\n",
    "            color='orange', label=\"Predictions\")\n",
    "plt.scatter(obs[idx, :, 0], obs[idx, :, 1],\n",
    "            color='b', label=\"Observations\")\n",
    "plt.legend()\n",
    "plt.xlim(-8, 18)\n",
    "plt.ylim(-11, 15)\n",
    "plt.title(\"Trajectory Visualization in camera frame\")\n",
    "plt.xlabel(\"X (m)\")\n",
    "plt.ylabel(\"Y (m)\")\n",
    "plt.savefig(\"traj_{}\".format(idx))\n",
    "\n",
    "plt.show()"
   ]
  },
  {
   "cell_type": "code",
   "execution_count": 29,
   "metadata": {},
   "outputs": [
    {
     "data": {
      "image/png": "[encoded data removed]",
      "text/plain": [
       "<Figure size 640x480 with 1 Axes>"
      ]
     },
     "metadata": {},
     "output_type": "display_data"
    }
   ],
   "source": [
    "# plotting the predicted and ground truth trajectories\n",
    "idx = np.random.randint(0, gt.shape[0])\n",
    "plt.figure()\n",
    "plt.scatter(gt[idx, :, 0], gt[idx, :, 1],\n",
    "            color='green', label=\"Ground truth\")\n",
    "plt.scatter(pr[idx, :, 0], pr[idx, :, 1],\n",
    "            color='orange', label=\"Predictions\")\n",
    "plt.scatter(obs[idx, :, 0], obs[idx, :, 1],\n",
    "            color='b', label=\"Observations\")\n",
    "plt.legend()\n",
    "plt.xlim(-8, 18)\n",
    "plt.ylim(-11, 15)\n",
    "plt.title(\"Trajectory Visualization in camera frame\")\n",
    "plt.xlabel(\"X (m)\")\n",
    "plt.ylabel(\"Y (m)\")\n",
    "plt.savefig(\"traj_{}\".format(idx))\n",
    "\n",
    "plt.show()"
   ]
  },
  {
   "cell_type": "code",
   "execution_count": 25,
   "metadata": {},
   "outputs": [
    {
     "data": {
      "text/plain": [
       "array([4.0474544, 4.4393406, 4.831227 , 5.221429 , 5.610579 , 5.9995184,\n",
       "       6.3958244, 6.809388 , 7.2227416, 7.645987 , 8.078914 , 8.511841 ],\n",
       "      dtype=float32)"
      ]
     },
     "execution_count": 25,
     "metadata": {},
     "output_type": "execute_result"
    }
   ],
   "source": [
    "gt[idx, :, 0]"
   ]
  },
  {
   "cell_type": "code",
   "execution_count": 27,
   "metadata": {},
   "outputs": [
    {
     "data": {
      "text/plain": [
       "array([7.8649516, 7.8614554, 7.8579593, 7.854463 , 7.8509674, 7.847471 ,\n",
       "       7.843975 , 7.840479 , 7.836983 , 7.833487 , 7.829991 , 7.8264947],\n",
       "      dtype=float32)"
      ]
     },
     "execution_count": 27,
     "metadata": {},
     "output_type": "execute_result"
    }
   ],
   "source": [
    "pr[idx, :, 0]"
   ]
  },
  {
   "cell_type": "code",
   "execution_count": 28,
   "metadata": {},
   "outputs": [
    {
     "data": {
      "text/plain": [
       "array([10.192247, 10.193721, 10.195195, 10.196669, 10.198143, 10.199616,\n",
       "       10.201091, 10.202564, 10.204039, 10.205512, 10.206986, 10.20846 ],\n",
       "      dtype=float32)"
      ]
     },
     "execution_count": 28,
     "metadata": {},
     "output_type": "execute_result"
    }
   ],
   "source": [
    "pr[idx, :, 1]"
   ]
  },
  {
   "cell_type": "markdown",
   "metadata": {},
   "source": [
    "## 6. Evaluation on test set"
   ]
  },
  {
   "cell_type": "code",
   "execution_count": null,
   "metadata": {},
   "outputs": [],
   "source": []
  }
 ],
 "metadata": {
  "kernelspec": {
   "display_name": "Python 3 (ipykernel)",
   "language": "python",
   "name": "python3"
  },
  "language_info": {
   "codemirror_mode": {
    "name": "ipython",
    "version": 3
   },
   "file_extension": ".py",
   "mimetype": "text/x-python",
   "name": "python",
   "nbconvert_exporter": "python",
   "pygments_lexer": "ipython3",
   "version": "3.9.18"
  }
 },
 "nbformat": 4,
 "nbformat_minor": 4
}
